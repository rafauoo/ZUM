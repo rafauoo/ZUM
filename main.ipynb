{
 "cells": [
  {
   "cell_type": "markdown",
   "id": "aedd5a3b",
   "metadata": {},
   "source": [
    "Import bibliotek"
   ]
  },
  {
   "cell_type": "code",
   "execution_count": 58,
   "id": "f38096c8",
   "metadata": {},
   "outputs": [],
   "source": [
    "import numpy as np\n",
    "import pandas as pd\n",
    "from anytree import Node, RenderTree\n",
    "from sklearn.tree import DecisionTreeClassifier\n",
    "from sklearn.model_selection import train_test_split\n",
    "from sklearn.base import BaseEstimator, ClassifierMixin\n",
    "from sklearn.tree import _tree\n",
    "from sklearn.datasets import fetch_openml\n",
    "from sklearn.preprocessing import LabelEncoder\n",
    "from rich.tree import Tree as RichTree\n",
    "from rich import print\n",
    "from rich.console import Console\n",
    "import json\n",
    "from sklearn.metrics import (\n",
    "    accuracy_score,\n",
    "    f1_score,\n",
    "    confusion_matrix,\n",
    "    roc_curve,\n",
    "    auc,\n",
    "    ConfusionMatrixDisplay,\n",
    "    RocCurveDisplay\n",
    ")\n",
    "import matplotlib.pyplot as plt"
   ]
  },
  {
   "cell_type": "markdown",
   "id": "bd57bff7",
   "metadata": {},
   "source": [
    "Implementacja drzewa"
   ]
  },
  {
   "cell_type": "code",
   "execution_count": 59,
   "id": "d0cbc8ae",
   "metadata": {},
   "outputs": [],
   "source": [
    "class CustomDecisionTreeClassifier(BaseEstimator, ClassifierMixin):\n",
    "    def __init__(self, max_depth=None, similarity_threshold=0.01, preference_list=None,\n",
    "                 interactive=False, interactive_threshold=0.01, random_state=None, min_samples_split=2):\n",
    "        self.max_depth = max_depth\n",
    "        self.similarity_threshold = similarity_threshold\n",
    "        self.preference_list = preference_list or []\n",
    "        self.interactive = interactive\n",
    "        self.interactive_threshold = interactive_threshold\n",
    "        self.random_state = random_state\n",
    "        self.min_samples_split = min_samples_split\n",
    "        self.tree_ = None\n",
    "\n",
    "    def _calculate_split_quality(self, X, y, feature_index):\n",
    "        values = X[:, feature_index]\n",
    "        unique_values = np.unique(values)\n",
    "        splits = [y[values == val] for val in unique_values]\n",
    "        weighted_gini = sum(len(s) / len(y) * (1 - sum((np.mean(s == c) ** 2 for c in np.unique(s)))) for s in splits)\n",
    "        return -weighted_gini\n",
    "\n",
    "    def _choose_split(self, qualities):\n",
    "        best_quality = qualities[0][1]\n",
    "        candidates = [q for q in qualities if abs(q[1] - best_quality) <= self.similarity_threshold]\n",
    "        if self.interactive and abs(candidates[0][1] - candidates[-1][1]) <= self.interactive_threshold:\n",
    "            print(\"Smiliar quality for features:\")\n",
    "            for idx, (f, q) in enumerate(candidates):\n",
    "                print(f\"{idx}: Feature {f} (Quality: {q:.4f})\")\n",
    "            choice = int(input(\"Choose feature (index): \"))\n",
    "            if choice < 0 or choice >= len(candidates):\n",
    "                print(\"Invalid choice, using the first candidate.\")\n",
    "                choice = 0\n",
    "            return candidates[choice][0]\n",
    "\n",
    "        if self.preference_list:\n",
    "            candidate_features = {f for f, _ in candidates}\n",
    "            for preferred in self.preference_list:\n",
    "                if preferred in candidate_features:\n",
    "                    return preferred\n",
    "        return candidates[0][0]\n",
    "\n",
    "    def _build_tree(self, X, y, depth=0, used_features=None):\n",
    "        if used_features is None:\n",
    "            used_features = set()\n",
    "\n",
    "        if (self.max_depth is not None and depth >= self.max_depth) or len(set(y)) == 1 or \\\n",
    "           len(y) < self.min_samples_split or (len(used_features) == X.shape[1]):\n",
    "            return {\n",
    "                'type': 'leaf',\n",
    "                'class': np.bincount(y).argmax(),\n",
    "                'label_counts': np.bincount(y, minlength=2)\n",
    "            }\n",
    "\n",
    "        qualities = [\n",
    "            (i, q)\n",
    "            for i in range(X.shape[1]) if i not in used_features\n",
    "            for q in [self._calculate_split_quality(X, y, i)]\n",
    "        ]\n",
    "        if not qualities:\n",
    "            return {\n",
    "                'type': 'leaf',\n",
    "                'class': np.bincount(y).argmax(),\n",
    "                'label_counts': np.bincount(y, minlength=2)\n",
    "            }\n",
    "\n",
    "        qualities.sort(key=lambda x: -x[1])\n",
    "        feature = self._choose_split(qualities)\n",
    "        new_used_features = used_features.copy()\n",
    "        new_used_features.add(feature)\n",
    "\n",
    "        default_class = np.bincount(y).argmax()\n",
    "        node = {'type': 'split', 'feature': feature, 'branches': {}, 'default_class': default_class}\n",
    "\n",
    "        values = np.unique(X[:, feature])\n",
    "        for val in values:\n",
    "            idx = X[:, feature] == val\n",
    "            if np.sum(idx) == 0:\n",
    "                continue\n",
    "            node['branches'][val] = self._build_tree(X[idx], y[idx], depth + 1, new_used_features)\n",
    "\n",
    "        if not node['branches']:\n",
    "            return {\n",
    "                'type': 'leaf',\n",
    "                'class': default_class,\n",
    "                'label_counts': np.bincount(y, minlength=2)\n",
    "            }\n",
    "\n",
    "        return node\n",
    "\n",
    "    def fit(self, X, y):\n",
    "        self.tree_ = self._build_tree(np.array(X), np.array(y))\n",
    "        return self\n",
    "\n",
    "    def _predict_sample(self, x, node):\n",
    "        if node['type'] == 'leaf':\n",
    "            return node['class']\n",
    "        val = x[node['feature']]\n",
    "        branch = node['branches'].get(val)\n",
    "        if branch is None:\n",
    "            return node.get('default_class', 0)\n",
    "        return self._predict_sample(x, branch)\n",
    "\n",
    "    def predict(self, X):\n",
    "        return np.array([self._predict_sample(x, self.tree_) for x in X.to_numpy()])\n",
    "\n",
    "    def predict_proba(self, X):\n",
    "        def _predict_proba_sample(x, node):\n",
    "            if node['type'] == 'leaf':\n",
    "                counts = np.zeros(2)\n",
    "                total = sum(node.get('label_counts', [0]))\n",
    "                if total > 0:\n",
    "                    counts[:len(node['label_counts'])] = node['label_counts']\n",
    "                    return counts / total\n",
    "                else:\n",
    "                    return np.array([0.5, 0.5])\n",
    "            val = x[node['feature']]\n",
    "            branch = node['branches'].get(val)\n",
    "            if branch is None:\n",
    "                return np.array([0.5, 0.5])\n",
    "            return _predict_proba_sample(x, branch)\n",
    "\n",
    "        return np.array([_predict_proba_sample(x, self.tree_) for x in X.to_numpy()])\n",
    "\n",
    "    def to_rich(self, node=None):\n",
    "        if node is None:\n",
    "            node = self.tree_\n",
    "\n",
    "        def build_tree(node):\n",
    "            if node['type'] == 'leaf':\n",
    "                return RichTree(f\"[green]Klasa: {node['class']}[/green]\")\n",
    "\n",
    "            tree = RichTree(f\"[cyan]Cecha {node['feature']}[/cyan]\")\n",
    "            for val, child in node['branches'].items():\n",
    "                branch = build_tree(child)\n",
    "                subtree = tree.add(f\"[yellow]Wartość = {val}[/yellow]\")\n",
    "                subtree.children.append(branch)\n",
    "            return tree\n",
    "\n",
    "        return build_tree(node)\n"
   ]
  },
  {
   "cell_type": "markdown",
   "id": "e4489f70",
   "metadata": {},
   "source": [
    "Evaluate model"
   ]
  },
  {
   "cell_type": "code",
   "execution_count": 60,
   "id": "1f770480",
   "metadata": {},
   "outputs": [],
   "source": [
    "def train_and_evaluate(model, X, y, target_names=None, test_size=0.2, random_state=42):\n",
    "    # Data split\n",
    "    X_train, X_val, y_train, y_val = train_test_split(\n",
    "        X, y, test_size=test_size, random_state=random_state, stratify=y\n",
    "    )\n",
    "    \n",
    "    # Fit model\n",
    "    model.fit(X_train, y_train)\n",
    "    y_pred = model.predict(X_val)\n",
    "\n",
    "    acc = accuracy_score(y_val, y_pred)\n",
    "    f1_macro = f1_score(y_val, y_pred, average='macro')\n",
    "    f1_micro = f1_score(y_val, y_pred, average='micro')\n",
    "    cm = confusion_matrix(y_val, y_pred)\n",
    "\n",
    "    print(f\"Accuracy: {acc:.4f}\")\n",
    "    print(f\"F1 Score (macro): {f1_macro:.4f}\")\n",
    "    print(f\"F1 Score (micro): {f1_micro:.4f}\")\n",
    "    print(f\"Confusion Matrix:\\n{cm}\")\n",
    "\n",
    "    # Confusion Matrix plot\n",
    "    disp = ConfusionMatrixDisplay(confusion_matrix=cm, display_labels=target_names)\n",
    "    disp.plot(cmap='Blues')\n",
    "    plt.title(\"Confusion Matrix\")\n",
    "    plt.show()\n",
    "\n",
    "    # ROC + AUC only for binary classification\n",
    "    if len(np.unique(y_val)) == 2:\n",
    "        if hasattr(model, \"predict_proba\"):\n",
    "            y_scores = model.predict_proba(X_val)[:, 1]\n",
    "        else:\n",
    "            try:\n",
    "                y_scores = model.decision_function(X_val)\n",
    "            except:\n",
    "                print(\"Model does not support decision function or predict_proba.\")\n",
    "                return\n",
    "\n",
    "        fpr, tpr, _ = roc_curve(y_val, y_scores)\n",
    "        roc_auc = auc(fpr, tpr)\n",
    "        \n",
    "        print(f\"AUC: {roc_auc:.4f}\")\n",
    "        RocCurveDisplay(fpr=fpr, tpr=tpr, roc_auc=roc_auc).plot()\n",
    "        plt.title(\"ROC Curve\")\n",
    "        plt.show()\n",
    "    else:\n",
    "        print(\"ROC + AUC only for binary classification.\")\n",
    "    \n",
    "    return model\n",
    "\n",
    "def evaluate_model(model, X, y, target_names=None):\n",
    "    y_pred = model.predict(X)\n",
    "    acc = accuracy_score(y, y_pred)\n",
    "    f1_macro = f1_score(y, y_pred, average='macro')\n",
    "    f1_micro = f1_score(y, y_pred, average='micro')\n",
    "    cm = confusion_matrix(y, y_pred)\n",
    "\n",
    "    print(f\"Accuracy: {acc:.4f}\")\n",
    "    print(f\"F1 Score (macro): {f1_macro:.4f}\")\n",
    "    print(f\"F1 Score (micro): {f1_micro:.4f}\")\n",
    "    print(f\"Confusion Matrix:\\n{cm}\")\n",
    "\n",
    "    # Confusion Matrix plot\n",
    "    disp = ConfusionMatrixDisplay(confusion_matrix=cm, display_labels=target_names)\n",
    "    disp.plot(cmap='Blues')\n",
    "    plt.title(\"Confusion Matrix\")\n",
    "    plt.show()"
   ]
  },
  {
   "cell_type": "markdown",
   "id": "1fa08b02",
   "metadata": {},
   "source": [
    "Przykład wywołania (preferencje)"
   ]
  },
  {
   "cell_type": "code",
   "execution_count": 61,
   "id": "5a23bddb",
   "metadata": {},
   "outputs": [
    {
     "data": {
      "text/html": [
       "<pre style=\"white-space:pre;overflow-x:auto;line-height:normal;font-family:Menlo,'DejaVu Sans Mono',consolas,'Courier New',monospace\">Accuracy: <span style=\"color: #008080; text-decoration-color: #008080; font-weight: bold\">0.9618</span>\n",
       "</pre>\n"
      ],
      "text/plain": [
       "Accuracy: \u001b[1;36m0.9618\u001b[0m\n"
      ]
     },
     "metadata": {},
     "output_type": "display_data"
    },
    {
     "data": {
      "text/html": [
       "<pre style=\"white-space:pre;overflow-x:auto;line-height:normal;font-family:Menlo,'DejaVu Sans Mono',consolas,'Courier New',monospace\">F1 Score <span style=\"font-weight: bold\">(</span>macro<span style=\"font-weight: bold\">)</span>: <span style=\"color: #008080; text-decoration-color: #008080; font-weight: bold\">0.9618</span>\n",
       "</pre>\n"
      ],
      "text/plain": [
       "F1 Score \u001b[1m(\u001b[0mmacro\u001b[1m)\u001b[0m: \u001b[1;36m0.9618\u001b[0m\n"
      ]
     },
     "metadata": {},
     "output_type": "display_data"
    },
    {
     "data": {
      "text/html": [
       "<pre style=\"white-space:pre;overflow-x:auto;line-height:normal;font-family:Menlo,'DejaVu Sans Mono',consolas,'Courier New',monospace\">F1 Score <span style=\"font-weight: bold\">(</span>micro<span style=\"font-weight: bold\">)</span>: <span style=\"color: #008080; text-decoration-color: #008080; font-weight: bold\">0.9618</span>\n",
       "</pre>\n"
      ],
      "text/plain": [
       "F1 Score \u001b[1m(\u001b[0mmicro\u001b[1m)\u001b[0m: \u001b[1;36m0.9618\u001b[0m\n"
      ]
     },
     "metadata": {},
     "output_type": "display_data"
    },
    {
     "data": {
      "text/html": [
       "<pre style=\"white-space:pre;overflow-x:auto;line-height:normal;font-family:Menlo,'DejaVu Sans Mono',consolas,'Courier New',monospace\">Confusion Matrix:\n",
       "<span style=\"font-weight: bold\">[[</span><span style=\"color: #008080; text-decoration-color: #008080; font-weight: bold\">816</span>  <span style=\"color: #008080; text-decoration-color: #008080; font-weight: bold\">26</span><span style=\"font-weight: bold\">]</span>\n",
       " <span style=\"font-weight: bold\">[</span> <span style=\"color: #008080; text-decoration-color: #008080; font-weight: bold\">36</span> <span style=\"color: #008080; text-decoration-color: #008080; font-weight: bold\">747</span><span style=\"font-weight: bold\">]]</span>\n",
       "</pre>\n"
      ],
      "text/plain": [
       "Confusion Matrix:\n",
       "\u001b[1m[\u001b[0m\u001b[1m[\u001b[0m\u001b[1;36m816\u001b[0m  \u001b[1;36m26\u001b[0m\u001b[1m]\u001b[0m\n",
       " \u001b[1m[\u001b[0m \u001b[1;36m36\u001b[0m \u001b[1;36m747\u001b[0m\u001b[1m]\u001b[0m\u001b[1m]\u001b[0m\n"
      ]
     },
     "metadata": {},
     "output_type": "display_data"
    },
    {
     "data": {
      "image/png": "[encoded data removed]",
      "text/plain": [
       "<Figure size 640x480 with 2 Axes>"
      ]
     },
     "metadata": {},
     "output_type": "display_data"
    },
    {
     "data": {
      "text/html": [
       "<pre style=\"white-space:pre;overflow-x:auto;line-height:normal;font-family:Menlo,'DejaVu Sans Mono',consolas,'Courier New',monospace\">AUC: <span style=\"color: #008080; text-decoration-color: #008080; font-weight: bold\">0.9933</span>\n",
       "</pre>\n"
      ],
      "text/plain": [
       "AUC: \u001b[1;36m0.9933\u001b[0m\n"
      ]
     },
     "metadata": {},
     "output_type": "display_data"
    },
    {
     "data": {
      "image/png": "[encoded data removed]",
      "text/plain": [
       "<Figure size 640x480 with 1 Axes>"
      ]
     },
     "metadata": {},
     "output_type": "display_data"
    },
    {
     "data": {
      "text/html": [
       "<pre style=\"white-space:pre;overflow-x:auto;line-height:normal;font-family:Menlo,'DejaVu Sans Mono',consolas,'Courier New',monospace\"><span style=\"color: #008080; text-decoration-color: #008080\">Cecha 21</span>\n",
       "├── <span style=\"color: #808000; text-decoration-color: #808000\">Wartość = 0</span>\n",
       "│   └── <span style=\"color: #008080; text-decoration-color: #008080\">Cecha 20</span>\n",
       "│       ├── <span style=\"color: #808000; text-decoration-color: #808000\">Wartość = 1</span>\n",
       "│       │   └── <span style=\"color: #008000; text-decoration-color: #008000\">Klasa: 1</span>\n",
       "│       ├── <span style=\"color: #808000; text-decoration-color: #808000\">Wartość = 3</span>\n",
       "│       │   └── <span style=\"color: #008000; text-decoration-color: #008000\">Klasa: 1</span>\n",
       "│       ├── <span style=\"color: #808000; text-decoration-color: #808000\">Wartość = 4</span>\n",
       "│       │   └── <span style=\"color: #008080; text-decoration-color: #008080\">Cecha 19</span>\n",
       "│       │       ├── <span style=\"color: #808000; text-decoration-color: #808000\">Wartość = 1</span>\n",
       "│       │       │   └── <span style=\"color: #008080; text-decoration-color: #008080\">Cecha 18</span>\n",
       "│       │       │       ├── <span style=\"color: #808000; text-decoration-color: #808000\">Wartość = 1</span>\n",
       "│       │       │       │   └── <span style=\"color: #008000; text-decoration-color: #008000\">Klasa: 0</span>\n",
       "│       │       │       └── <span style=\"color: #808000; text-decoration-color: #808000\">Wartość = 2</span>\n",
       "│       │       │           └── <span style=\"color: #008000; text-decoration-color: #008000\">Klasa: 1</span>\n",
       "│       │       ├── <span style=\"color: #808000; text-decoration-color: #808000\">Wartość = 2</span>\n",
       "│       │       │   └── <span style=\"color: #008080; text-decoration-color: #008080\">Cecha 18</span>\n",
       "│       │       │       └── <span style=\"color: #808000; text-decoration-color: #808000\">Wartość = 4</span>\n",
       "│       │       │           └── <span style=\"color: #008000; text-decoration-color: #008000\">Klasa: 0</span>\n",
       "│       │       ├── <span style=\"color: #808000; text-decoration-color: #808000\">Wartość = 3</span>\n",
       "│       │       │   └── <span style=\"color: #008080; text-decoration-color: #008080\">Cecha 18</span>\n",
       "│       │       │       └── <span style=\"color: #808000; text-decoration-color: #808000\">Wartość = 4</span>\n",
       "│       │       │           └── <span style=\"color: #008000; text-decoration-color: #008000\">Klasa: 0</span>\n",
       "│       │       ├── <span style=\"color: #808000; text-decoration-color: #808000\">Wartość = 6</span>\n",
       "│       │       │   └── <span style=\"color: #008000; text-decoration-color: #008000\">Klasa: 0</span>\n",
       "│       │       └── <span style=\"color: #808000; text-decoration-color: #808000\">Wartość = 7</span>\n",
       "│       │           └── <span style=\"color: #008000; text-decoration-color: #008000\">Klasa: 1</span>\n",
       "│       └── <span style=\"color: #808000; text-decoration-color: #808000\">Wartość = 5</span>\n",
       "│           └── <span style=\"color: #008080; text-decoration-color: #008080\">Cecha 19</span>\n",
       "│               ├── <span style=\"color: #808000; text-decoration-color: #808000\">Wartość = 1</span>\n",
       "│               │   └── <span style=\"color: #008080; text-decoration-color: #008080\">Cecha 18</span>\n",
       "│               │       ├── <span style=\"color: #808000; text-decoration-color: #808000\">Wartość = 1</span>\n",
       "│               │       │   └── <span style=\"color: #008000; text-decoration-color: #008000\">Klasa: 0</span>\n",
       "│               │       └── <span style=\"color: #808000; text-decoration-color: #808000\">Wartość = 2</span>\n",
       "│               │           └── <span style=\"color: #008000; text-decoration-color: #008000\">Klasa: 1</span>\n",
       "│               ├── <span style=\"color: #808000; text-decoration-color: #808000\">Wartość = 2</span>\n",
       "│               │   └── <span style=\"color: #008000; text-decoration-color: #008000\">Klasa: 0</span>\n",
       "│               ├── <span style=\"color: #808000; text-decoration-color: #808000\">Wartość = 3</span>\n",
       "│               │   └── <span style=\"color: #008000; text-decoration-color: #008000\">Klasa: 0</span>\n",
       "│               └── <span style=\"color: #808000; text-decoration-color: #808000\">Wartość = 7</span>\n",
       "│                   └── <span style=\"color: #008000; text-decoration-color: #008000\">Klasa: 0</span>\n",
       "├── <span style=\"color: #808000; text-decoration-color: #808000\">Wartość = 1</span>\n",
       "│   └── <span style=\"color: #008080; text-decoration-color: #008080\">Cecha 20</span>\n",
       "│       ├── <span style=\"color: #808000; text-decoration-color: #808000\">Wartość = 0</span>\n",
       "│       │   └── <span style=\"color: #008000; text-decoration-color: #008000\">Klasa: 0</span>\n",
       "│       ├── <span style=\"color: #808000; text-decoration-color: #808000\">Wartość = 2</span>\n",
       "│       │   └── <span style=\"color: #008000; text-decoration-color: #008000\">Klasa: 0</span>\n",
       "│       ├── <span style=\"color: #808000; text-decoration-color: #808000\">Wartość = 3</span>\n",
       "│       │   └── <span style=\"color: #008080; text-decoration-color: #008080\">Cecha 19</span>\n",
       "│       │       ├── <span style=\"color: #808000; text-decoration-color: #808000\">Wartość = 1</span>\n",
       "│       │       │   └── <span style=\"color: #008000; text-decoration-color: #008000\">Klasa: 1</span>\n",
       "│       │       ├── <span style=\"color: #808000; text-decoration-color: #808000\">Wartość = 2</span>\n",
       "│       │       │   └── <span style=\"color: #008080; text-decoration-color: #008080\">Cecha 18</span>\n",
       "│       │       │       ├── <span style=\"color: #808000; text-decoration-color: #808000\">Wartość = 0</span>\n",
       "│       │       │       │   └── <span style=\"color: #008000; text-decoration-color: #008000\">Klasa: 0</span>\n",
       "│       │       │       └── <span style=\"color: #808000; text-decoration-color: #808000\">Wartość = 4</span>\n",
       "│       │       │           └── <span style=\"color: #008000; text-decoration-color: #008000\">Klasa: 0</span>\n",
       "│       │       ├── <span style=\"color: #808000; text-decoration-color: #808000\">Wartość = 3</span>\n",
       "│       │       │   └── <span style=\"color: #008080; text-decoration-color: #008080\">Cecha 18</span>\n",
       "│       │       │       ├── <span style=\"color: #808000; text-decoration-color: #808000\">Wartość = 0</span>\n",
       "│       │       │       │   └── <span style=\"color: #008000; text-decoration-color: #008000\">Klasa: 0</span>\n",
       "│       │       │       └── <span style=\"color: #808000; text-decoration-color: #808000\">Wartość = 4</span>\n",
       "│       │       │           └── <span style=\"color: #008000; text-decoration-color: #008000\">Klasa: 0</span>\n",
       "│       │       └── <span style=\"color: #808000; text-decoration-color: #808000\">Wartość = 7</span>\n",
       "│       │           └── <span style=\"color: #008000; text-decoration-color: #008000\">Klasa: 0</span>\n",
       "│       ├── <span style=\"color: #808000; text-decoration-color: #808000\">Wartość = 4</span>\n",
       "│       │   └── <span style=\"color: #008000; text-decoration-color: #008000\">Klasa: 1</span>\n",
       "│       └── <span style=\"color: #808000; text-decoration-color: #808000\">Wartość = 5</span>\n",
       "│           └── <span style=\"color: #008080; text-decoration-color: #008080\">Cecha 19</span>\n",
       "│               ├── <span style=\"color: #808000; text-decoration-color: #808000\">Wartość = 1</span>\n",
       "│               │   └── <span style=\"color: #008000; text-decoration-color: #008000\">Klasa: 1</span>\n",
       "│               ├── <span style=\"color: #808000; text-decoration-color: #808000\">Wartość = 2</span>\n",
       "│               │   └── <span style=\"color: #008000; text-decoration-color: #008000\">Klasa: 0</span>\n",
       "│               └── <span style=\"color: #808000; text-decoration-color: #808000\">Wartość = 3</span>\n",
       "│                   └── <span style=\"color: #008000; text-decoration-color: #008000\">Klasa: 0</span>\n",
       "├── <span style=\"color: #808000; text-decoration-color: #808000\">Wartość = 2</span>\n",
       "│   └── <span style=\"color: #008080; text-decoration-color: #008080\">Cecha 20</span>\n",
       "│       ├── <span style=\"color: #808000; text-decoration-color: #808000\">Wartość = 1</span>\n",
       "│       │   └── <span style=\"color: #008080; text-decoration-color: #008080\">Cecha 19</span>\n",
       "│       │       ├── <span style=\"color: #808000; text-decoration-color: #808000\">Wartość = 0</span>\n",
       "│       │       │   └── <span style=\"color: #008000; text-decoration-color: #008000\">Klasa: 0</span>\n",
       "│       │       ├── <span style=\"color: #808000; text-decoration-color: #808000\">Wartość = 3</span>\n",
       "│       │       │   └── <span style=\"color: #008000; text-decoration-color: #008000\">Klasa: 0</span>\n",
       "│       │       ├── <span style=\"color: #808000; text-decoration-color: #808000\">Wartość = 4</span>\n",
       "│       │       │   └── <span style=\"color: #008000; text-decoration-color: #008000\">Klasa: 0</span>\n",
       "│       │       ├── <span style=\"color: #808000; text-decoration-color: #808000\">Wartość = 7</span>\n",
       "│       │       │   └── <span style=\"color: #008000; text-decoration-color: #008000\">Klasa: 1</span>\n",
       "│       │       └── <span style=\"color: #808000; text-decoration-color: #808000\">Wartość = 8</span>\n",
       "│       │           └── <span style=\"color: #008000; text-decoration-color: #008000\">Klasa: 0</span>\n",
       "│       └── <span style=\"color: #808000; text-decoration-color: #808000\">Wartość = 4</span>\n",
       "│           └── <span style=\"color: #008080; text-decoration-color: #008080\">Cecha 19</span>\n",
       "│               ├── <span style=\"color: #808000; text-decoration-color: #808000\">Wartość = 0</span>\n",
       "│               │   └── <span style=\"color: #008000; text-decoration-color: #008000\">Klasa: 0</span>\n",
       "│               ├── <span style=\"color: #808000; text-decoration-color: #808000\">Wartość = 3</span>\n",
       "│               │   └── <span style=\"color: #008000; text-decoration-color: #008000\">Klasa: 0</span>\n",
       "│               ├── <span style=\"color: #808000; text-decoration-color: #808000\">Wartość = 4</span>\n",
       "│               │   └── <span style=\"color: #008000; text-decoration-color: #008000\">Klasa: 0</span>\n",
       "│               ├── <span style=\"color: #808000; text-decoration-color: #808000\">Wartość = 7</span>\n",
       "│               │   └── <span style=\"color: #008080; text-decoration-color: #008080\">Cecha 18</span>\n",
       "│               │       └── <span style=\"color: #808000; text-decoration-color: #808000\">Wartość = 0</span>\n",
       "│               │           └── <span style=\"color: #008000; text-decoration-color: #008000\">Klasa: 1</span>\n",
       "│               └── <span style=\"color: #808000; text-decoration-color: #808000\">Wartość = 8</span>\n",
       "│                   └── <span style=\"color: #008000; text-decoration-color: #008000\">Klasa: 0</span>\n",
       "├── <span style=\"color: #808000; text-decoration-color: #808000\">Wartość = 3</span>\n",
       "│   └── <span style=\"color: #008080; text-decoration-color: #008080\">Cecha 20</span>\n",
       "│       ├── <span style=\"color: #808000; text-decoration-color: #808000\">Wartość = 2</span>\n",
       "│       │   └── <span style=\"color: #008000; text-decoration-color: #008000\">Klasa: 0</span>\n",
       "│       ├── <span style=\"color: #808000; text-decoration-color: #808000\">Wartość = 3</span>\n",
       "│       │   └── <span style=\"color: #008000; text-decoration-color: #008000\">Klasa: 0</span>\n",
       "│       └── <span style=\"color: #808000; text-decoration-color: #808000\">Wartość = 4</span>\n",
       "│           └── <span style=\"color: #008000; text-decoration-color: #008000\">Klasa: 1</span>\n",
       "├── <span style=\"color: #808000; text-decoration-color: #808000\">Wartość = 4</span>\n",
       "│   └── <span style=\"color: #008080; text-decoration-color: #008080\">Cecha 20</span>\n",
       "│       ├── <span style=\"color: #808000; text-decoration-color: #808000\">Wartość = 3</span>\n",
       "│       │   └── <span style=\"color: #008000; text-decoration-color: #008000\">Klasa: 0</span>\n",
       "│       ├── <span style=\"color: #808000; text-decoration-color: #808000\">Wartość = 4</span>\n",
       "│       │   └── <span style=\"color: #008080; text-decoration-color: #008080\">Cecha 19</span>\n",
       "│       │       ├── <span style=\"color: #808000; text-decoration-color: #808000\">Wartość = 1</span>\n",
       "│       │       │   └── <span style=\"color: #008000; text-decoration-color: #008000\">Klasa: 1</span>\n",
       "│       │       └── <span style=\"color: #808000; text-decoration-color: #808000\">Wartość = 7</span>\n",
       "│       │           └── <span style=\"color: #008080; text-decoration-color: #008080\">Cecha 18</span>\n",
       "│       │               ├── <span style=\"color: #808000; text-decoration-color: #808000\">Wartość = 0</span>\n",
       "│       │               │   └── <span style=\"color: #008000; text-decoration-color: #008000\">Klasa: 1</span>\n",
       "│       │               └── <span style=\"color: #808000; text-decoration-color: #808000\">Wartość = 4</span>\n",
       "│       │                   └── <span style=\"color: #008000; text-decoration-color: #008000\">Klasa: 0</span>\n",
       "│       └── <span style=\"color: #808000; text-decoration-color: #808000\">Wartość = 5</span>\n",
       "│           └── <span style=\"color: #008080; text-decoration-color: #008080\">Cecha 19</span>\n",
       "│               ├── <span style=\"color: #808000; text-decoration-color: #808000\">Wartość = 1</span>\n",
       "│               │   └── <span style=\"color: #008000; text-decoration-color: #008000\">Klasa: 1</span>\n",
       "│               ├── <span style=\"color: #808000; text-decoration-color: #808000\">Wartość = 2</span>\n",
       "│               │   └── <span style=\"color: #008000; text-decoration-color: #008000\">Klasa: 0</span>\n",
       "│               ├── <span style=\"color: #808000; text-decoration-color: #808000\">Wartość = 3</span>\n",
       "│               │   └── <span style=\"color: #008000; text-decoration-color: #008000\">Klasa: 0</span>\n",
       "│               └── <span style=\"color: #808000; text-decoration-color: #808000\">Wartość = 7</span>\n",
       "│                   └── <span style=\"color: #008000; text-decoration-color: #008000\">Klasa: 0</span>\n",
       "├── <span style=\"color: #808000; text-decoration-color: #808000\">Wartość = 5</span>\n",
       "│   └── <span style=\"color: #008080; text-decoration-color: #008080\">Cecha 20</span>\n",
       "│       ├── <span style=\"color: #808000; text-decoration-color: #808000\">Wartość = 3</span>\n",
       "│       │   └── <span style=\"color: #008000; text-decoration-color: #008000\">Klasa: 1</span>\n",
       "│       ├── <span style=\"color: #808000; text-decoration-color: #808000\">Wartość = 4</span>\n",
       "│       │   └── <span style=\"color: #008080; text-decoration-color: #008080\">Cecha 19</span>\n",
       "│       │       ├── <span style=\"color: #808000; text-decoration-color: #808000\">Wartość = 1</span>\n",
       "│       │       │   └── <span style=\"color: #008000; text-decoration-color: #008000\">Klasa: 1</span>\n",
       "│       │       ├── <span style=\"color: #808000; text-decoration-color: #808000\">Wartość = 2</span>\n",
       "│       │       │   └── <span style=\"color: #008080; text-decoration-color: #008080\">Cecha 18</span>\n",
       "│       │       │       └── <span style=\"color: #808000; text-decoration-color: #808000\">Wartość = 4</span>\n",
       "│       │       │           └── <span style=\"color: #008000; text-decoration-color: #008000\">Klasa: 1</span>\n",
       "│       │       └── <span style=\"color: #808000; text-decoration-color: #808000\">Wartość = 3</span>\n",
       "│       │           └── <span style=\"color: #008080; text-decoration-color: #008080\">Cecha 18</span>\n",
       "│       │               └── <span style=\"color: #808000; text-decoration-color: #808000\">Wartość = 4</span>\n",
       "│       │                   └── <span style=\"color: #008000; text-decoration-color: #008000\">Klasa: 1</span>\n",
       "│       └── <span style=\"color: #808000; text-decoration-color: #808000\">Wartość = 5</span>\n",
       "│           └── <span style=\"color: #008000; text-decoration-color: #008000\">Klasa: 0</span>\n",
       "└── <span style=\"color: #808000; text-decoration-color: #808000\">Wartość = 6</span>\n",
       "    └── <span style=\"color: #008000; text-decoration-color: #008000\">Klasa: 0</span>\n",
       "</pre>\n"
      ],
      "text/plain": [
       "\u001b[36mCecha 21\u001b[0m\n",
       "├── \u001b[33mWartość = 0\u001b[0m\n",
       "│   └── \u001b[36mCecha 20\u001b[0m\n",
       "│       ├── \u001b[33mWartość = 1\u001b[0m\n",
       "│       │   └── \u001b[32mKlasa: 1\u001b[0m\n",
       "│       ├── \u001b[33mWartość = 3\u001b[0m\n",
       "│       │   └── \u001b[32mKlasa: 1\u001b[0m\n",
       "│       ├── \u001b[33mWartość = 4\u001b[0m\n",
       "│       │   └── \u001b[36mCecha 19\u001b[0m\n",
       "│       │       ├── \u001b[33mWartość = 1\u001b[0m\n",
       "│       │       │   └── \u001b[36mCecha 18\u001b[0m\n",
       "│       │       │       ├── \u001b[33mWartość = 1\u001b[0m\n",
       "│       │       │       │   └── \u001b[32mKlasa: 0\u001b[0m\n",
       "│       │       │       └── \u001b[33mWartość = 2\u001b[0m\n",
       "│       │       │           └── \u001b[32mKlasa: 1\u001b[0m\n",
       "│       │       ├── \u001b[33mWartość = 2\u001b[0m\n",
       "│       │       │   └── \u001b[36mCecha 18\u001b[0m\n",
       "│       │       │       └── \u001b[33mWartość = 4\u001b[0m\n",
       "│       │       │           └── \u001b[32mKlasa: 0\u001b[0m\n",
       "│       │       ├── \u001b[33mWartość = 3\u001b[0m\n",
       "│       │       │   └── \u001b[36mCecha 18\u001b[0m\n",
       "│       │       │       └── \u001b[33mWartość = 4\u001b[0m\n",
       "│       │       │           └── \u001b[32mKlasa: 0\u001b[0m\n",
       "│       │       ├── \u001b[33mWartość = 6\u001b[0m\n",
       "│       │       │   └── \u001b[32mKlasa: 0\u001b[0m\n",
       "│       │       └── \u001b[33mWartość = 7\u001b[0m\n",
       "│       │           └── \u001b[32mKlasa: 1\u001b[0m\n",
       "│       └── \u001b[33mWartość = 5\u001b[0m\n",
       "│           └── \u001b[36mCecha 19\u001b[0m\n",
       "│               ├── \u001b[33mWartość = 1\u001b[0m\n",
       "│               │   └── \u001b[36mCecha 18\u001b[0m\n",
       "│               │       ├── \u001b[33mWartość = 1\u001b[0m\n",
       "│               │       │   └── \u001b[32mKlasa: 0\u001b[0m\n",
       "│               │       └── \u001b[33mWartość = 2\u001b[0m\n",
       "│               │           └── \u001b[32mKlasa: 1\u001b[0m\n",
       "│               ├── \u001b[33mWartość = 2\u001b[0m\n",
       "│               │   └── \u001b[32mKlasa: 0\u001b[0m\n",
       "│               ├── \u001b[33mWartość = 3\u001b[0m\n",
       "│               │   └── \u001b[32mKlasa: 0\u001b[0m\n",
       "│               └── \u001b[33mWartość = 7\u001b[0m\n",
       "│                   └── \u001b[32mKlasa: 0\u001b[0m\n",
       "├── \u001b[33mWartość = 1\u001b[0m\n",
       "│   └── \u001b[36mCecha 20\u001b[0m\n",
       "│       ├── \u001b[33mWartość = 0\u001b[0m\n",
       "│       │   └── \u001b[32mKlasa: 0\u001b[0m\n",
       "│       ├── \u001b[33mWartość = 2\u001b[0m\n",
       "│       │   └── \u001b[32mKlasa: 0\u001b[0m\n",
       "│       ├── \u001b[33mWartość = 3\u001b[0m\n",
       "│       │   └── \u001b[36mCecha 19\u001b[0m\n",
       "│       │       ├── \u001b[33mWartość = 1\u001b[0m\n",
       "│       │       │   └── \u001b[32mKlasa: 1\u001b[0m\n",
       "│       │       ├── \u001b[33mWartość = 2\u001b[0m\n",
       "│       │       │   └── \u001b[36mCecha 18\u001b[0m\n",
       "│       │       │       ├── \u001b[33mWartość = 0\u001b[0m\n",
       "│       │       │       │   └── \u001b[32mKlasa: 0\u001b[0m\n",
       "│       │       │       └── \u001b[33mWartość = 4\u001b[0m\n",
       "│       │       │           └── \u001b[32mKlasa: 0\u001b[0m\n",
       "│       │       ├── \u001b[33mWartość = 3\u001b[0m\n",
       "│       │       │   └── \u001b[36mCecha 18\u001b[0m\n",
       "│       │       │       ├── \u001b[33mWartość = 0\u001b[0m\n",
       "│       │       │       │   └── \u001b[32mKlasa: 0\u001b[0m\n",
       "│       │       │       └── \u001b[33mWartość = 4\u001b[0m\n",
       "│       │       │           └── \u001b[32mKlasa: 0\u001b[0m\n",
       "│       │       └── \u001b[33mWartość = 7\u001b[0m\n",
       "│       │           └── \u001b[32mKlasa: 0\u001b[0m\n",
       "│       ├── \u001b[33mWartość = 4\u001b[0m\n",
       "│       │   └── \u001b[32mKlasa: 1\u001b[0m\n",
       "│       └── \u001b[33mWartość = 5\u001b[0m\n",
       "│           └── \u001b[36mCecha 19\u001b[0m\n",
       "│               ├── \u001b[33mWartość = 1\u001b[0m\n",
       "│               │   └── \u001b[32mKlasa: 1\u001b[0m\n",
       "│               ├── \u001b[33mWartość = 2\u001b[0m\n",
       "│               │   └── \u001b[32mKlasa: 0\u001b[0m\n",
       "│               └── \u001b[33mWartość = 3\u001b[0m\n",
       "│                   └── \u001b[32mKlasa: 0\u001b[0m\n",
       "├── \u001b[33mWartość = 2\u001b[0m\n",
       "│   └── \u001b[36mCecha 20\u001b[0m\n",
       "│       ├── \u001b[33mWartość = 1\u001b[0m\n",
       "│       │   └── \u001b[36mCecha 19\u001b[0m\n",
       "│       │       ├── \u001b[33mWartość = 0\u001b[0m\n",
       "│       │       │   └── \u001b[32mKlasa: 0\u001b[0m\n",
       "│       │       ├── \u001b[33mWartość = 3\u001b[0m\n",
       "│       │       │   └── \u001b[32mKlasa: 0\u001b[0m\n",
       "│       │       ├── \u001b[33mWartość = 4\u001b[0m\n",
       "│       │       │   └── \u001b[32mKlasa: 0\u001b[0m\n",
       "│       │       ├── \u001b[33mWartość = 7\u001b[0m\n",
       "│       │       │   └── \u001b[32mKlasa: 1\u001b[0m\n",
       "│       │       └── \u001b[33mWartość = 8\u001b[0m\n",
       "│       │           └── \u001b[32mKlasa: 0\u001b[0m\n",
       "│       └── \u001b[33mWartość = 4\u001b[0m\n",
       "│           └── \u001b[36mCecha 19\u001b[0m\n",
       "│               ├── \u001b[33mWartość = 0\u001b[0m\n",
       "│               │   └── \u001b[32mKlasa: 0\u001b[0m\n",
       "│               ├── \u001b[33mWartość = 3\u001b[0m\n",
       "│               │   └── \u001b[32mKlasa: 0\u001b[0m\n",
       "│               ├── \u001b[33mWartość = 4\u001b[0m\n",
       "│               │   └── \u001b[32mKlasa: 0\u001b[0m\n",
       "│               ├── \u001b[33mWartość = 7\u001b[0m\n",
       "│               │   └── \u001b[36mCecha 18\u001b[0m\n",
       "│               │       └── \u001b[33mWartość = 0\u001b[0m\n",
       "│               │           └── \u001b[32mKlasa: 1\u001b[0m\n",
       "│               └── \u001b[33mWartość = 8\u001b[0m\n",
       "│                   └── \u001b[32mKlasa: 0\u001b[0m\n",
       "├── \u001b[33mWartość = 3\u001b[0m\n",
       "│   └── \u001b[36mCecha 20\u001b[0m\n",
       "│       ├── \u001b[33mWartość = 2\u001b[0m\n",
       "│       │   └── \u001b[32mKlasa: 0\u001b[0m\n",
       "│       ├── \u001b[33mWartość = 3\u001b[0m\n",
       "│       │   └── \u001b[32mKlasa: 0\u001b[0m\n",
       "│       └── \u001b[33mWartość = 4\u001b[0m\n",
       "│           └── \u001b[32mKlasa: 1\u001b[0m\n",
       "├── \u001b[33mWartość = 4\u001b[0m\n",
       "│   └── \u001b[36mCecha 20\u001b[0m\n",
       "│       ├── \u001b[33mWartość = 3\u001b[0m\n",
       "│       │   └── \u001b[32mKlasa: 0\u001b[0m\n",
       "│       ├── \u001b[33mWartość = 4\u001b[0m\n",
       "│       │   └── \u001b[36mCecha 19\u001b[0m\n",
       "│       │       ├── \u001b[33mWartość = 1\u001b[0m\n",
       "│       │       │   └── \u001b[32mKlasa: 1\u001b[0m\n",
       "│       │       └── \u001b[33mWartość = 7\u001b[0m\n",
       "│       │           └── \u001b[36mCecha 18\u001b[0m\n",
       "│       │               ├── \u001b[33mWartość = 0\u001b[0m\n",
       "│       │               │   └── \u001b[32mKlasa: 1\u001b[0m\n",
       "│       │               └── \u001b[33mWartość = 4\u001b[0m\n",
       "│       │                   └── \u001b[32mKlasa: 0\u001b[0m\n",
       "│       └── \u001b[33mWartość = 5\u001b[0m\n",
       "│           └── \u001b[36mCecha 19\u001b[0m\n",
       "│               ├── \u001b[33mWartość = 1\u001b[0m\n",
       "│               │   └── \u001b[32mKlasa: 1\u001b[0m\n",
       "│               ├── \u001b[33mWartość = 2\u001b[0m\n",
       "│               │   └── \u001b[32mKlasa: 0\u001b[0m\n",
       "│               ├── \u001b[33mWartość = 3\u001b[0m\n",
       "│               │   └── \u001b[32mKlasa: 0\u001b[0m\n",
       "│               └── \u001b[33mWartość = 7\u001b[0m\n",
       "│                   └── \u001b[32mKlasa: 0\u001b[0m\n",
       "├── \u001b[33mWartość = 5\u001b[0m\n",
       "│   └── \u001b[36mCecha 20\u001b[0m\n",
       "│       ├── \u001b[33mWartość = 3\u001b[0m\n",
       "│       │   └── \u001b[32mKlasa: 1\u001b[0m\n",
       "│       ├── \u001b[33mWartość = 4\u001b[0m\n",
       "│       │   └── \u001b[36mCecha 19\u001b[0m\n",
       "│       │       ├── \u001b[33mWartość = 1\u001b[0m\n",
       "│       │       │   └── \u001b[32mKlasa: 1\u001b[0m\n",
       "│       │       ├── \u001b[33mWartość = 2\u001b[0m\n",
       "│       │       │   └── \u001b[36mCecha 18\u001b[0m\n",
       "│       │       │       └── \u001b[33mWartość = 4\u001b[0m\n",
       "│       │       │           └── \u001b[32mKlasa: 1\u001b[0m\n",
       "│       │       └── \u001b[33mWartość = 3\u001b[0m\n",
       "│       │           └── \u001b[36mCecha 18\u001b[0m\n",
       "│       │               └── \u001b[33mWartość = 4\u001b[0m\n",
       "│       │                   └── \u001b[32mKlasa: 1\u001b[0m\n",
       "│       └── \u001b[33mWartość = 5\u001b[0m\n",
       "│           └── \u001b[32mKlasa: 0\u001b[0m\n",
       "└── \u001b[33mWartość = 6\u001b[0m\n",
       "    └── \u001b[32mKlasa: 0\u001b[0m\n"
      ]
     },
     "metadata": {},
     "output_type": "display_data"
    }
   ],
   "source": [
    "data = fetch_openml(name=\"mushroom\", version=1, as_frame=True)\n",
    "X = data.data\n",
    "y = data.target\n",
    "\n",
    "X = X.apply(LabelEncoder().fit_transform)\n",
    "y = LabelEncoder().fit_transform(y)\n",
    "\n",
    "feature_order = list(range(X.shape[1]))\n",
    "clf = CustomDecisionTreeClassifier(preference_list=feature_order[::-1],\n",
    "                                   similarity_threshold=0.5,\n",
    "                                   max_depth=4,\n",
    "                                   min_samples_split=5)\n",
    "                                   \n",
    "clf_trained = train_and_evaluate(clf, X, y, test_size=0.2, random_state=3928, target_names=[\"edible\", \"poisonous\"])\n",
    "console = Console()\n",
    "console.print(clf_trained.to_rich())\n"
   ]
  },
  {
   "cell_type": "markdown",
   "id": "ddc200e7",
   "metadata": {},
   "source": [
    "Przykład wywołania (interaktywny)"
   ]
  },
  {
   "cell_type": "code",
   "execution_count": null,
   "id": "a591caae",
   "metadata": {},
   "outputs": [
    {
     "data": {
      "text/html": [
       "<pre style=\"white-space:pre;overflow-x:auto;line-height:normal;font-family:Menlo,'DejaVu Sans Mono',consolas,'Courier New',monospace\">Smiliar quality for features:\n",
       "</pre>\n"
      ],
      "text/plain": [
       "Smiliar quality for features:\n"
      ]
     },
     "metadata": {},
     "output_type": "display_data"
    },
    {
     "data": {
      "text/html": [
       "<pre style=\"white-space:pre;overflow-x:auto;line-height:normal;font-family:Menlo,'DejaVu Sans Mono',consolas,'Courier New',monospace\"><span style=\"color: #008080; text-decoration-color: #008080; font-weight: bold\">0</span>: Feature <span style=\"color: #008080; text-decoration-color: #008080; font-weight: bold\">4</span> <span style=\"font-weight: bold\">(</span>Quality: <span style=\"color: #008080; text-decoration-color: #008080; font-weight: bold\">-0.0285</span><span style=\"font-weight: bold\">)</span>\n",
       "</pre>\n"
      ],
      "text/plain": [
       "\u001b[1;36m0\u001b[0m: Feature \u001b[1;36m4\u001b[0m \u001b[1m(\u001b[0mQuality: \u001b[1;36m-0.0285\u001b[0m\u001b[1m)\u001b[0m\n"
      ]
     },
     "metadata": {},
     "output_type": "display_data"
    },
    {
     "data": {
      "text/html": [
       "<pre style=\"white-space:pre;overflow-x:auto;line-height:normal;font-family:Menlo,'DejaVu Sans Mono',consolas,'Courier New',monospace\"><span style=\"color: #008080; text-decoration-color: #008080; font-weight: bold\">1</span>: Feature <span style=\"color: #008080; text-decoration-color: #008080; font-weight: bold\">19</span> <span style=\"font-weight: bold\">(</span>Quality: <span style=\"color: #008080; text-decoration-color: #008080; font-weight: bold\">-0.2165</span><span style=\"font-weight: bold\">)</span>\n",
       "</pre>\n"
      ],
      "text/plain": [
       "\u001b[1;36m1\u001b[0m: Feature \u001b[1;36m19\u001b[0m \u001b[1m(\u001b[0mQuality: \u001b[1;36m-0.2165\u001b[0m\u001b[1m)\u001b[0m\n"
      ]
     },
     "metadata": {},
     "output_type": "display_data"
    },
    {
     "data": {
      "text/html": [
       "<pre style=\"white-space:pre;overflow-x:auto;line-height:normal;font-family:Menlo,'DejaVu Sans Mono',consolas,'Courier New',monospace\"><span style=\"color: #008080; text-decoration-color: #008080; font-weight: bold\">2</span>: Feature <span style=\"color: #008080; text-decoration-color: #008080; font-weight: bold\">8</span> <span style=\"font-weight: bold\">(</span>Quality: <span style=\"color: #008080; text-decoration-color: #008080; font-weight: bold\">-0.2679</span><span style=\"font-weight: bold\">)</span>\n",
       "</pre>\n"
      ],
      "text/plain": [
       "\u001b[1;36m2\u001b[0m: Feature \u001b[1;36m8\u001b[0m \u001b[1m(\u001b[0mQuality: \u001b[1;36m-0.2679\u001b[0m\u001b[1m)\u001b[0m\n"
      ]
     },
     "metadata": {},
     "output_type": "display_data"
    },
    {
     "data": {
      "text/html": [
       "<pre style=\"white-space:pre;overflow-x:auto;line-height:normal;font-family:Menlo,'DejaVu Sans Mono',consolas,'Courier New',monospace\"><span style=\"color: #008080; text-decoration-color: #008080; font-weight: bold\">3</span>: Feature <span style=\"color: #008080; text-decoration-color: #008080; font-weight: bold\">18</span> <span style=\"font-weight: bold\">(</span>Quality: <span style=\"color: #008080; text-decoration-color: #008080; font-weight: bold\">-0.3176</span><span style=\"font-weight: bold\">)</span>\n",
       "</pre>\n"
      ],
      "text/plain": [
       "\u001b[1;36m3\u001b[0m: Feature \u001b[1;36m18\u001b[0m \u001b[1m(\u001b[0mQuality: \u001b[1;36m-0.3176\u001b[0m\u001b[1m)\u001b[0m\n"
      ]
     },
     "metadata": {},
     "output_type": "display_data"
    },
    {
     "data": {
      "text/html": [
       "<pre style=\"white-space:pre;overflow-x:auto;line-height:normal;font-family:Menlo,'DejaVu Sans Mono',consolas,'Courier New',monospace\"><span style=\"color: #008080; text-decoration-color: #008080; font-weight: bold\">4</span>: Feature <span style=\"color: #008080; text-decoration-color: #008080; font-weight: bold\">11</span> <span style=\"font-weight: bold\">(</span>Quality: <span style=\"color: #008080; text-decoration-color: #008080; font-weight: bold\">-0.3267</span><span style=\"font-weight: bold\">)</span>\n",
       "</pre>\n"
      ],
      "text/plain": [
       "\u001b[1;36m4\u001b[0m: Feature \u001b[1;36m11\u001b[0m \u001b[1m(\u001b[0mQuality: \u001b[1;36m-0.3267\u001b[0m\u001b[1m)\u001b[0m\n"
      ]
     },
     "metadata": {},
     "output_type": "display_data"
    },
    {
     "data": {
      "text/html": [
       "<pre style=\"white-space:pre;overflow-x:auto;line-height:normal;font-family:Menlo,'DejaVu Sans Mono',consolas,'Courier New',monospace\"><span style=\"color: #008080; text-decoration-color: #008080; font-weight: bold\">5</span>: Feature <span style=\"color: #008080; text-decoration-color: #008080; font-weight: bold\">12</span> <span style=\"font-weight: bold\">(</span>Quality: <span style=\"color: #008080; text-decoration-color: #008080; font-weight: bold\">-0.3343</span><span style=\"font-weight: bold\">)</span>\n",
       "</pre>\n"
      ],
      "text/plain": [
       "\u001b[1;36m5\u001b[0m: Feature \u001b[1;36m12\u001b[0m \u001b[1m(\u001b[0mQuality: \u001b[1;36m-0.3343\u001b[0m\u001b[1m)\u001b[0m\n"
      ]
     },
     "metadata": {},
     "output_type": "display_data"
    },
    {
     "data": {
      "text/html": [
       "<pre style=\"white-space:pre;overflow-x:auto;line-height:normal;font-family:Menlo,'DejaVu Sans Mono',consolas,'Courier New',monospace\"><span style=\"color: #008080; text-decoration-color: #008080; font-weight: bold\">6</span>: Feature <span style=\"color: #008080; text-decoration-color: #008080; font-weight: bold\">7</span> <span style=\"font-weight: bold\">(</span>Quality: <span style=\"color: #008080; text-decoration-color: #008080; font-weight: bold\">-0.3537</span><span style=\"font-weight: bold\">)</span>\n",
       "</pre>\n"
      ],
      "text/plain": [
       "\u001b[1;36m6\u001b[0m: Feature \u001b[1;36m7\u001b[0m \u001b[1m(\u001b[0mQuality: \u001b[1;36m-0.3537\u001b[0m\u001b[1m)\u001b[0m\n"
      ]
     },
     "metadata": {},
     "output_type": "display_data"
    },
    {
     "data": {
      "text/html": [
       "<pre style=\"white-space:pre;overflow-x:auto;line-height:normal;font-family:Menlo,'DejaVu Sans Mono',consolas,'Courier New',monospace\"><span style=\"color: #008080; text-decoration-color: #008080; font-weight: bold\">7</span>: Feature <span style=\"color: #008080; text-decoration-color: #008080; font-weight: bold\">13</span> <span style=\"font-weight: bold\">(</span>Quality: <span style=\"color: #008080; text-decoration-color: #008080; font-weight: bold\">-0.3618</span><span style=\"font-weight: bold\">)</span>\n",
       "</pre>\n"
      ],
      "text/plain": [
       "\u001b[1;36m7\u001b[0m: Feature \u001b[1;36m13\u001b[0m \u001b[1m(\u001b[0mQuality: \u001b[1;36m-0.3618\u001b[0m\u001b[1m)\u001b[0m\n"
      ]
     },
     "metadata": {},
     "output_type": "display_data"
    },
    {
     "data": {
      "text/html": [
       "<pre style=\"white-space:pre;overflow-x:auto;line-height:normal;font-family:Menlo,'DejaVu Sans Mono',consolas,'Courier New',monospace\"><span style=\"color: #008080; text-decoration-color: #008080; font-weight: bold\">8</span>: Feature <span style=\"color: #008080; text-decoration-color: #008080; font-weight: bold\">14</span> <span style=\"font-weight: bold\">(</span>Quality: <span style=\"color: #008080; text-decoration-color: #008080; font-weight: bold\">-0.3671</span><span style=\"font-weight: bold\">)</span>\n",
       "</pre>\n"
      ],
      "text/plain": [
       "\u001b[1;36m8\u001b[0m: Feature \u001b[1;36m14\u001b[0m \u001b[1m(\u001b[0mQuality: \u001b[1;36m-0.3671\u001b[0m\u001b[1m)\u001b[0m\n"
      ]
     },
     "metadata": {},
     "output_type": "display_data"
    },
    {
     "data": {
      "text/html": [
       "<pre style=\"white-space:pre;overflow-x:auto;line-height:normal;font-family:Menlo,'DejaVu Sans Mono',consolas,'Courier New',monospace\"><span style=\"color: #008080; text-decoration-color: #008080; font-weight: bold\">9</span>: Feature <span style=\"color: #008080; text-decoration-color: #008080; font-weight: bold\">3</span> <span style=\"font-weight: bold\">(</span>Quality: <span style=\"color: #008080; text-decoration-color: #008080; font-weight: bold\">-0.3738</span><span style=\"font-weight: bold\">)</span>\n",
       "</pre>\n"
      ],
      "text/plain": [
       "\u001b[1;36m9\u001b[0m: Feature \u001b[1;36m3\u001b[0m \u001b[1m(\u001b[0mQuality: \u001b[1;36m-0.3738\u001b[0m\u001b[1m)\u001b[0m\n"
      ]
     },
     "metadata": {},
     "output_type": "display_data"
    },
    {
     "data": {
      "text/html": [
       "<pre style=\"white-space:pre;overflow-x:auto;line-height:normal;font-family:Menlo,'DejaVu Sans Mono',consolas,'Courier New',monospace\"><span style=\"color: #008080; text-decoration-color: #008080; font-weight: bold\">10</span>: Feature <span style=\"color: #008080; text-decoration-color: #008080; font-weight: bold\">20</span> <span style=\"font-weight: bold\">(</span>Quality: <span style=\"color: #008080; text-decoration-color: #008080; font-weight: bold\">-0.3807</span><span style=\"font-weight: bold\">)</span>\n",
       "</pre>\n"
      ],
      "text/plain": [
       "\u001b[1;36m10\u001b[0m: Feature \u001b[1;36m20\u001b[0m \u001b[1m(\u001b[0mQuality: \u001b[1;36m-0.3807\u001b[0m\u001b[1m)\u001b[0m\n"
      ]
     },
     "metadata": {},
     "output_type": "display_data"
    },
    {
     "data": {
      "text/html": [
       "<pre style=\"white-space:pre;overflow-x:auto;line-height:normal;font-family:Menlo,'DejaVu Sans Mono',consolas,'Courier New',monospace\"><span style=\"color: #008080; text-decoration-color: #008080; font-weight: bold\">11</span>: Feature <span style=\"color: #008080; text-decoration-color: #008080; font-weight: bold\">21</span> <span style=\"font-weight: bold\">(</span>Quality: <span style=\"color: #008080; text-decoration-color: #008080; font-weight: bold\">-0.4026</span><span style=\"font-weight: bold\">)</span>\n",
       "</pre>\n"
      ],
      "text/plain": [
       "\u001b[1;36m11\u001b[0m: Feature \u001b[1;36m21\u001b[0m \u001b[1m(\u001b[0mQuality: \u001b[1;36m-0.4026\u001b[0m\u001b[1m)\u001b[0m\n"
      ]
     },
     "metadata": {},
     "output_type": "display_data"
    },
    {
     "data": {
      "text/html": [
       "<pre style=\"white-space:pre;overflow-x:auto;line-height:normal;font-family:Menlo,'DejaVu Sans Mono',consolas,'Courier New',monospace\"><span style=\"color: #008080; text-decoration-color: #008080; font-weight: bold\">12</span>: Feature <span style=\"color: #008080; text-decoration-color: #008080; font-weight: bold\">10</span> <span style=\"font-weight: bold\">(</span>Quality: <span style=\"color: #008080; text-decoration-color: #008080; font-weight: bold\">-0.4167</span><span style=\"font-weight: bold\">)</span>\n",
       "</pre>\n"
      ],
      "text/plain": [
       "\u001b[1;36m12\u001b[0m: Feature \u001b[1;36m10\u001b[0m \u001b[1m(\u001b[0mQuality: \u001b[1;36m-0.4167\u001b[0m\u001b[1m)\u001b[0m\n"
      ]
     },
     "metadata": {},
     "output_type": "display_data"
    },
    {
     "data": {
      "text/html": [
       "<pre style=\"white-space:pre;overflow-x:auto;line-height:normal;font-family:Menlo,'DejaVu Sans Mono',consolas,'Courier New',monospace\"><span style=\"color: #008080; text-decoration-color: #008080; font-weight: bold\">13</span>: Feature <span style=\"color: #008080; text-decoration-color: #008080; font-weight: bold\">6</span> <span style=\"font-weight: bold\">(</span>Quality: <span style=\"color: #008080; text-decoration-color: #008080; font-weight: bold\">-0.4387</span><span style=\"font-weight: bold\">)</span>\n",
       "</pre>\n"
      ],
      "text/plain": [
       "\u001b[1;36m13\u001b[0m: Feature \u001b[1;36m6\u001b[0m \u001b[1m(\u001b[0mQuality: \u001b[1;36m-0.4387\u001b[0m\u001b[1m)\u001b[0m\n"
      ]
     },
     "metadata": {},
     "output_type": "display_data"
    },
    {
     "data": {
      "text/html": [
       "<pre style=\"white-space:pre;overflow-x:auto;line-height:normal;font-family:Menlo,'DejaVu Sans Mono',consolas,'Courier New',monospace\"><span style=\"color: #008080; text-decoration-color: #008080; font-weight: bold\">14</span>: Feature <span style=\"color: #008080; text-decoration-color: #008080; font-weight: bold\">0</span> <span style=\"font-weight: bold\">(</span>Quality: <span style=\"color: #008080; text-decoration-color: #008080; font-weight: bold\">-0.4692</span><span style=\"font-weight: bold\">)</span>\n",
       "</pre>\n"
      ],
      "text/plain": [
       "\u001b[1;36m14\u001b[0m: Feature \u001b[1;36m0\u001b[0m \u001b[1m(\u001b[0mQuality: \u001b[1;36m-0.4692\u001b[0m\u001b[1m)\u001b[0m\n"
      ]
     },
     "metadata": {},
     "output_type": "display_data"
    },
    {
     "data": {
      "text/html": [
       "<pre style=\"white-space:pre;overflow-x:auto;line-height:normal;font-family:Menlo,'DejaVu Sans Mono',consolas,'Courier New',monospace\"><span style=\"color: #008080; text-decoration-color: #008080; font-weight: bold\">15</span>: Feature <span style=\"color: #008080; text-decoration-color: #008080; font-weight: bold\">2</span> <span style=\"font-weight: bold\">(</span>Quality: <span style=\"color: #008080; text-decoration-color: #008080; font-weight: bold\">-0.4755</span><span style=\"font-weight: bold\">)</span>\n",
       "</pre>\n"
      ],
      "text/plain": [
       "\u001b[1;36m15\u001b[0m: Feature \u001b[1;36m2\u001b[0m \u001b[1m(\u001b[0mQuality: \u001b[1;36m-0.4755\u001b[0m\u001b[1m)\u001b[0m\n"
      ]
     },
     "metadata": {},
     "output_type": "display_data"
    },
    {
     "data": {
      "text/html": [
       "<pre style=\"white-space:pre;overflow-x:auto;line-height:normal;font-family:Menlo,'DejaVu Sans Mono',consolas,'Courier New',monospace\"><span style=\"color: #008080; text-decoration-color: #008080; font-weight: bold\">16</span>: Feature <span style=\"color: #008080; text-decoration-color: #008080; font-weight: bold\">17</span> <span style=\"font-weight: bold\">(</span>Quality: <span style=\"color: #008080; text-decoration-color: #008080; font-weight: bold\">-0.4763</span><span style=\"font-weight: bold\">)</span>\n",
       "</pre>\n"
      ],
      "text/plain": [
       "\u001b[1;36m16\u001b[0m: Feature \u001b[1;36m17\u001b[0m \u001b[1m(\u001b[0mQuality: \u001b[1;36m-0.4763\u001b[0m\u001b[1m)\u001b[0m\n"
      ]
     },
     "metadata": {},
     "output_type": "display_data"
    },
    {
     "data": {
      "text/html": [
       "<pre style=\"white-space:pre;overflow-x:auto;line-height:normal;font-family:Menlo,'DejaVu Sans Mono',consolas,'Courier New',monospace\"><span style=\"color: #008080; text-decoration-color: #008080; font-weight: bold\">17</span>: Feature <span style=\"color: #008080; text-decoration-color: #008080; font-weight: bold\">1</span> <span style=\"font-weight: bold\">(</span>Quality: <span style=\"color: #008080; text-decoration-color: #008080; font-weight: bold\">-0.4800</span><span style=\"font-weight: bold\">)</span>\n",
       "</pre>\n"
      ],
      "text/plain": [
       "\u001b[1;36m17\u001b[0m: Feature \u001b[1;36m1\u001b[0m \u001b[1m(\u001b[0mQuality: \u001b[1;36m-0.4800\u001b[0m\u001b[1m)\u001b[0m\n"
      ]
     },
     "metadata": {},
     "output_type": "display_data"
    },
    {
     "data": {
      "text/html": [
       "<pre style=\"white-space:pre;overflow-x:auto;line-height:normal;font-family:Menlo,'DejaVu Sans Mono',consolas,'Courier New',monospace\"><span style=\"color: #008080; text-decoration-color: #008080; font-weight: bold\">18</span>: Feature <span style=\"color: #008080; text-decoration-color: #008080; font-weight: bold\">16</span> <span style=\"font-weight: bold\">(</span>Quality: <span style=\"color: #008080; text-decoration-color: #008080; font-weight: bold\">-0.4876</span><span style=\"font-weight: bold\">)</span>\n",
       "</pre>\n"
      ],
      "text/plain": [
       "\u001b[1;36m18\u001b[0m: Feature \u001b[1;36m16\u001b[0m \u001b[1m(\u001b[0mQuality: \u001b[1;36m-0.4876\u001b[0m\u001b[1m)\u001b[0m\n"
      ]
     },
     "metadata": {},
     "output_type": "display_data"
    },
    {
     "data": {
      "text/html": [
       "<pre style=\"white-space:pre;overflow-x:auto;line-height:normal;font-family:Menlo,'DejaVu Sans Mono',consolas,'Courier New',monospace\"><span style=\"color: #008080; text-decoration-color: #008080; font-weight: bold\">19</span>: Feature <span style=\"color: #008080; text-decoration-color: #008080; font-weight: bold\">5</span> <span style=\"font-weight: bold\">(</span>Quality: <span style=\"color: #008080; text-decoration-color: #008080; font-weight: bold\">-0.4910</span><span style=\"font-weight: bold\">)</span>\n",
       "</pre>\n"
      ],
      "text/plain": [
       "\u001b[1;36m19\u001b[0m: Feature \u001b[1;36m5\u001b[0m \u001b[1m(\u001b[0mQuality: \u001b[1;36m-0.4910\u001b[0m\u001b[1m)\u001b[0m\n"
      ]
     },
     "metadata": {},
     "output_type": "display_data"
    },
    {
     "data": {
      "text/html": [
       "<pre style=\"white-space:pre;overflow-x:auto;line-height:normal;font-family:Menlo,'DejaVu Sans Mono',consolas,'Courier New',monospace\"><span style=\"color: #008080; text-decoration-color: #008080; font-weight: bold\">20</span>: Feature <span style=\"color: #008080; text-decoration-color: #008080; font-weight: bold\">9</span> <span style=\"font-weight: bold\">(</span>Quality: <span style=\"color: #008080; text-decoration-color: #008080; font-weight: bold\">-0.4942</span><span style=\"font-weight: bold\">)</span>\n",
       "</pre>\n"
      ],
      "text/plain": [
       "\u001b[1;36m20\u001b[0m: Feature \u001b[1;36m9\u001b[0m \u001b[1m(\u001b[0mQuality: \u001b[1;36m-0.4942\u001b[0m\u001b[1m)\u001b[0m\n"
      ]
     },
     "metadata": {},
     "output_type": "display_data"
    },
    {
     "data": {
      "text/html": [
       "<pre style=\"white-space:pre;overflow-x:auto;line-height:normal;font-family:Menlo,'DejaVu Sans Mono',consolas,'Courier New',monospace\"><span style=\"color: #008080; text-decoration-color: #008080; font-weight: bold\">21</span>: Feature <span style=\"color: #008080; text-decoration-color: #008080; font-weight: bold\">15</span> <span style=\"font-weight: bold\">(</span>Quality: <span style=\"color: #008080; text-decoration-color: #008080; font-weight: bold\">-0.4994</span><span style=\"font-weight: bold\">)</span>\n",
       "</pre>\n"
      ],
      "text/plain": [
       "\u001b[1;36m21\u001b[0m: Feature \u001b[1;36m15\u001b[0m \u001b[1m(\u001b[0mQuality: \u001b[1;36m-0.4994\u001b[0m\u001b[1m)\u001b[0m\n"
      ]
     },
     "metadata": {},
     "output_type": "display_data"
    },
    {
     "data": {
      "text/html": [
       "<pre style=\"white-space:pre;overflow-x:auto;line-height:normal;font-family:Menlo,'DejaVu Sans Mono',consolas,'Courier New',monospace\">Smiliar quality for features:\n",
       "</pre>\n"
      ],
      "text/plain": [
       "Smiliar quality for features:\n"
      ]
     },
     "metadata": {},
     "output_type": "display_data"
    },
    {
     "data": {
      "text/html": [
       "<pre style=\"white-space:pre;overflow-x:auto;line-height:normal;font-family:Menlo,'DejaVu Sans Mono',consolas,'Courier New',monospace\"><span style=\"color: #008080; text-decoration-color: #008080; font-weight: bold\">0</span>: Feature <span style=\"color: #008080; text-decoration-color: #008080; font-weight: bold\">4</span> <span style=\"font-weight: bold\">(</span>Quality: <span style=\"color: #008080; text-decoration-color: #008080; font-weight: bold\">-0.0406</span><span style=\"font-weight: bold\">)</span>\n",
       "</pre>\n"
      ],
      "text/plain": [
       "\u001b[1;36m0\u001b[0m: Feature \u001b[1;36m4\u001b[0m \u001b[1m(\u001b[0mQuality: \u001b[1;36m-0.0406\u001b[0m\u001b[1m)\u001b[0m\n"
      ]
     },
     "metadata": {},
     "output_type": "display_data"
    },
    {
     "data": {
      "text/html": [
       "<pre style=\"white-space:pre;overflow-x:auto;line-height:normal;font-family:Menlo,'DejaVu Sans Mono',consolas,'Courier New',monospace\"><span style=\"color: #008080; text-decoration-color: #008080; font-weight: bold\">1</span>: Feature <span style=\"color: #008080; text-decoration-color: #008080; font-weight: bold\">19</span> <span style=\"font-weight: bold\">(</span>Quality: <span style=\"color: #008080; text-decoration-color: #008080; font-weight: bold\">-0.0957</span><span style=\"font-weight: bold\">)</span>\n",
       "</pre>\n"
      ],
      "text/plain": [
       "\u001b[1;36m1\u001b[0m: Feature \u001b[1;36m19\u001b[0m \u001b[1m(\u001b[0mQuality: \u001b[1;36m-0.0957\u001b[0m\u001b[1m)\u001b[0m\n"
      ]
     },
     "metadata": {},
     "output_type": "display_data"
    },
    {
     "data": {
      "text/html": [
       "<pre style=\"white-space:pre;overflow-x:auto;line-height:normal;font-family:Menlo,'DejaVu Sans Mono',consolas,'Courier New',monospace\"><span style=\"color: #008080; text-decoration-color: #008080; font-weight: bold\">2</span>: Feature <span style=\"color: #008080; text-decoration-color: #008080; font-weight: bold\">9</span> <span style=\"font-weight: bold\">(</span>Quality: <span style=\"color: #008080; text-decoration-color: #008080; font-weight: bold\">-0.1797</span><span style=\"font-weight: bold\">)</span>\n",
       "</pre>\n"
      ],
      "text/plain": [
       "\u001b[1;36m2\u001b[0m: Feature \u001b[1;36m9\u001b[0m \u001b[1m(\u001b[0mQuality: \u001b[1;36m-0.1797\u001b[0m\u001b[1m)\u001b[0m\n"
      ]
     },
     "metadata": {},
     "output_type": "display_data"
    },
    {
     "data": {
      "text/html": [
       "<pre style=\"white-space:pre;overflow-x:auto;line-height:normal;font-family:Menlo,'DejaVu Sans Mono',consolas,'Courier New',monospace\"><span style=\"color: #008080; text-decoration-color: #008080; font-weight: bold\">3</span>: Feature <span style=\"color: #008080; text-decoration-color: #008080; font-weight: bold\">11</span> <span style=\"font-weight: bold\">(</span>Quality: <span style=\"color: #008080; text-decoration-color: #008080; font-weight: bold\">-0.1913</span><span style=\"font-weight: bold\">)</span>\n",
       "</pre>\n"
      ],
      "text/plain": [
       "\u001b[1;36m3\u001b[0m: Feature \u001b[1;36m11\u001b[0m \u001b[1m(\u001b[0mQuality: \u001b[1;36m-0.1913\u001b[0m\u001b[1m)\u001b[0m\n"
      ]
     },
     "metadata": {},
     "output_type": "display_data"
    },
    {
     "data": {
      "text/html": [
       "<pre style=\"white-space:pre;overflow-x:auto;line-height:normal;font-family:Menlo,'DejaVu Sans Mono',consolas,'Courier New',monospace\"><span style=\"color: #008080; text-decoration-color: #008080; font-weight: bold\">4</span>: Feature <span style=\"color: #008080; text-decoration-color: #008080; font-weight: bold\">12</span> <span style=\"font-weight: bold\">(</span>Quality: <span style=\"color: #008080; text-decoration-color: #008080; font-weight: bold\">-0.1913</span><span style=\"font-weight: bold\">)</span>\n",
       "</pre>\n"
      ],
      "text/plain": [
       "\u001b[1;36m4\u001b[0m: Feature \u001b[1;36m12\u001b[0m \u001b[1m(\u001b[0mQuality: \u001b[1;36m-0.1913\u001b[0m\u001b[1m)\u001b[0m\n"
      ]
     },
     "metadata": {},
     "output_type": "display_data"
    },
    {
     "data": {
      "text/html": [
       "<pre style=\"white-space:pre;overflow-x:auto;line-height:normal;font-family:Menlo,'DejaVu Sans Mono',consolas,'Courier New',monospace\"><span style=\"color: #008080; text-decoration-color: #008080; font-weight: bold\">5</span>: Feature <span style=\"color: #008080; text-decoration-color: #008080; font-weight: bold\">3</span> <span style=\"font-weight: bold\">(</span>Quality: <span style=\"color: #008080; text-decoration-color: #008080; font-weight: bold\">-0.1952</span><span style=\"font-weight: bold\">)</span>\n",
       "</pre>\n"
      ],
      "text/plain": [
       "\u001b[1;36m5\u001b[0m: Feature \u001b[1;36m3\u001b[0m \u001b[1m(\u001b[0mQuality: \u001b[1;36m-0.1952\u001b[0m\u001b[1m)\u001b[0m\n"
      ]
     },
     "metadata": {},
     "output_type": "display_data"
    },
    {
     "data": {
      "text/html": [
       "<pre style=\"white-space:pre;overflow-x:auto;line-height:normal;font-family:Menlo,'DejaVu Sans Mono',consolas,'Courier New',monospace\"><span style=\"color: #008080; text-decoration-color: #008080; font-weight: bold\">6</span>: Feature <span style=\"color: #008080; text-decoration-color: #008080; font-weight: bold\">2</span> <span style=\"font-weight: bold\">(</span>Quality: <span style=\"color: #008080; text-decoration-color: #008080; font-weight: bold\">-0.2274</span><span style=\"font-weight: bold\">)</span>\n",
       "</pre>\n"
      ],
      "text/plain": [
       "\u001b[1;36m6\u001b[0m: Feature \u001b[1;36m2\u001b[0m \u001b[1m(\u001b[0mQuality: \u001b[1;36m-0.2274\u001b[0m\u001b[1m)\u001b[0m\n"
      ]
     },
     "metadata": {},
     "output_type": "display_data"
    },
    {
     "data": {
      "text/html": [
       "<pre style=\"white-space:pre;overflow-x:auto;line-height:normal;font-family:Menlo,'DejaVu Sans Mono',consolas,'Courier New',monospace\"><span style=\"color: #008080; text-decoration-color: #008080; font-weight: bold\">7</span>: Feature <span style=\"color: #008080; text-decoration-color: #008080; font-weight: bold\">18</span> <span style=\"font-weight: bold\">(</span>Quality: <span style=\"color: #008080; text-decoration-color: #008080; font-weight: bold\">-0.2283</span><span style=\"font-weight: bold\">)</span>\n",
       "</pre>\n"
      ],
      "text/plain": [
       "\u001b[1;36m7\u001b[0m: Feature \u001b[1;36m18\u001b[0m \u001b[1m(\u001b[0mQuality: \u001b[1;36m-0.2283\u001b[0m\u001b[1m)\u001b[0m\n"
      ]
     },
     "metadata": {},
     "output_type": "display_data"
    },
    {
     "data": {
      "text/html": [
       "<pre style=\"white-space:pre;overflow-x:auto;line-height:normal;font-family:Menlo,'DejaVu Sans Mono',consolas,'Courier New',monospace\"><span style=\"color: #008080; text-decoration-color: #008080; font-weight: bold\">8</span>: Feature <span style=\"color: #008080; text-decoration-color: #008080; font-weight: bold\">8</span> <span style=\"font-weight: bold\">(</span>Quality: <span style=\"color: #008080; text-decoration-color: #008080; font-weight: bold\">-0.2372</span><span style=\"font-weight: bold\">)</span>\n",
       "</pre>\n"
      ],
      "text/plain": [
       "\u001b[1;36m8\u001b[0m: Feature \u001b[1;36m8\u001b[0m \u001b[1m(\u001b[0mQuality: \u001b[1;36m-0.2372\u001b[0m\u001b[1m)\u001b[0m\n"
      ]
     },
     "metadata": {},
     "output_type": "display_data"
    },
    {
     "data": {
      "text/html": [
       "<pre style=\"white-space:pre;overflow-x:auto;line-height:normal;font-family:Menlo,'DejaVu Sans Mono',consolas,'Courier New',monospace\"><span style=\"color: #008080; text-decoration-color: #008080; font-weight: bold\">9</span>: Feature <span style=\"color: #008080; text-decoration-color: #008080; font-weight: bold\">21</span> <span style=\"font-weight: bold\">(</span>Quality: <span style=\"color: #008080; text-decoration-color: #008080; font-weight: bold\">-0.2696</span><span style=\"font-weight: bold\">)</span>\n",
       "</pre>\n"
      ],
      "text/plain": [
       "\u001b[1;36m9\u001b[0m: Feature \u001b[1;36m21\u001b[0m \u001b[1m(\u001b[0mQuality: \u001b[1;36m-0.2696\u001b[0m\u001b[1m)\u001b[0m\n"
      ]
     },
     "metadata": {},
     "output_type": "display_data"
    },
    {
     "data": {
      "text/html": [
       "<pre style=\"white-space:pre;overflow-x:auto;line-height:normal;font-family:Menlo,'DejaVu Sans Mono',consolas,'Courier New',monospace\"><span style=\"color: #008080; text-decoration-color: #008080; font-weight: bold\">10</span>: Feature <span style=\"color: #008080; text-decoration-color: #008080; font-weight: bold\">13</span> <span style=\"font-weight: bold\">(</span>Quality: <span style=\"color: #008080; text-decoration-color: #008080; font-weight: bold\">-0.3089</span><span style=\"font-weight: bold\">)</span>\n",
       "</pre>\n"
      ],
      "text/plain": [
       "\u001b[1;36m10\u001b[0m: Feature \u001b[1;36m13\u001b[0m \u001b[1m(\u001b[0mQuality: \u001b[1;36m-0.3089\u001b[0m\u001b[1m)\u001b[0m\n"
      ]
     },
     "metadata": {},
     "output_type": "display_data"
    },
    {
     "data": {
      "text/html": [
       "<pre style=\"white-space:pre;overflow-x:auto;line-height:normal;font-family:Menlo,'DejaVu Sans Mono',consolas,'Courier New',monospace\"><span style=\"color: #008080; text-decoration-color: #008080; font-weight: bold\">11</span>: Feature <span style=\"color: #008080; text-decoration-color: #008080; font-weight: bold\">14</span> <span style=\"font-weight: bold\">(</span>Quality: <span style=\"color: #008080; text-decoration-color: #008080; font-weight: bold\">-0.3255</span><span style=\"font-weight: bold\">)</span>\n",
       "</pre>\n"
      ],
      "text/plain": [
       "\u001b[1;36m11\u001b[0m: Feature \u001b[1;36m14\u001b[0m \u001b[1m(\u001b[0mQuality: \u001b[1;36m-0.3255\u001b[0m\u001b[1m)\u001b[0m\n"
      ]
     },
     "metadata": {},
     "output_type": "display_data"
    },
    {
     "data": {
      "text/html": [
       "<pre style=\"white-space:pre;overflow-x:auto;line-height:normal;font-family:Menlo,'DejaVu Sans Mono',consolas,'Courier New',monospace\"><span style=\"color: #008080; text-decoration-color: #008080; font-weight: bold\">12</span>: Feature <span style=\"color: #008080; text-decoration-color: #008080; font-weight: bold\">1</span> <span style=\"font-weight: bold\">(</span>Quality: <span style=\"color: #008080; text-decoration-color: #008080; font-weight: bold\">-0.4598</span><span style=\"font-weight: bold\">)</span>\n",
       "</pre>\n"
      ],
      "text/plain": [
       "\u001b[1;36m12\u001b[0m: Feature \u001b[1;36m1\u001b[0m \u001b[1m(\u001b[0mQuality: \u001b[1;36m-0.4598\u001b[0m\u001b[1m)\u001b[0m\n"
      ]
     },
     "metadata": {},
     "output_type": "display_data"
    },
    {
     "data": {
      "text/html": [
       "<pre style=\"white-space:pre;overflow-x:auto;line-height:normal;font-family:Menlo,'DejaVu Sans Mono',consolas,'Courier New',monospace\"><span style=\"color: #008080; text-decoration-color: #008080; font-weight: bold\">13</span>: Feature <span style=\"color: #008080; text-decoration-color: #008080; font-weight: bold\">20</span> <span style=\"font-weight: bold\">(</span>Quality: <span style=\"color: #008080; text-decoration-color: #008080; font-weight: bold\">-0.4616</span><span style=\"font-weight: bold\">)</span>\n",
       "</pre>\n"
      ],
      "text/plain": [
       "\u001b[1;36m13\u001b[0m: Feature \u001b[1;36m20\u001b[0m \u001b[1m(\u001b[0mQuality: \u001b[1;36m-0.4616\u001b[0m\u001b[1m)\u001b[0m\n"
      ]
     },
     "metadata": {},
     "output_type": "display_data"
    },
    {
     "data": {
      "text/html": [
       "<pre style=\"white-space:pre;overflow-x:auto;line-height:normal;font-family:Menlo,'DejaVu Sans Mono',consolas,'Courier New',monospace\"><span style=\"color: #008080; text-decoration-color: #008080; font-weight: bold\">14</span>: Feature <span style=\"color: #008080; text-decoration-color: #008080; font-weight: bold\">0</span> <span style=\"font-weight: bold\">(</span>Quality: <span style=\"color: #008080; text-decoration-color: #008080; font-weight: bold\">-0.4930</span><span style=\"font-weight: bold\">)</span>\n",
       "</pre>\n"
      ],
      "text/plain": [
       "\u001b[1;36m14\u001b[0m: Feature \u001b[1;36m0\u001b[0m \u001b[1m(\u001b[0mQuality: \u001b[1;36m-0.4930\u001b[0m\u001b[1m)\u001b[0m\n"
      ]
     },
     "metadata": {},
     "output_type": "display_data"
    },
    {
     "data": {
      "text/html": [
       "<pre style=\"white-space:pre;overflow-x:auto;line-height:normal;font-family:Menlo,'DejaVu Sans Mono',consolas,'Courier New',monospace\"><span style=\"color: #008080; text-decoration-color: #008080; font-weight: bold\">15</span>: Feature <span style=\"color: #008080; text-decoration-color: #008080; font-weight: bold\">7</span> <span style=\"font-weight: bold\">(</span>Quality: <span style=\"color: #008080; text-decoration-color: #008080; font-weight: bold\">-0.4982</span><span style=\"font-weight: bold\">)</span>\n",
       "</pre>\n"
      ],
      "text/plain": [
       "\u001b[1;36m15\u001b[0m: Feature \u001b[1;36m7\u001b[0m \u001b[1m(\u001b[0mQuality: \u001b[1;36m-0.4982\u001b[0m\u001b[1m)\u001b[0m\n"
      ]
     },
     "metadata": {},
     "output_type": "display_data"
    },
    {
     "data": {
      "text/html": [
       "<pre style=\"white-space:pre;overflow-x:auto;line-height:normal;font-family:Menlo,'DejaVu Sans Mono',consolas,'Courier New',monospace\"><span style=\"color: #008080; text-decoration-color: #008080; font-weight: bold\">16</span>: Feature <span style=\"color: #008080; text-decoration-color: #008080; font-weight: bold\">17</span> <span style=\"font-weight: bold\">(</span>Quality: <span style=\"color: #008080; text-decoration-color: #008080; font-weight: bold\">-0.4991</span><span style=\"font-weight: bold\">)</span>\n",
       "</pre>\n"
      ],
      "text/plain": [
       "\u001b[1;36m16\u001b[0m: Feature \u001b[1;36m17\u001b[0m \u001b[1m(\u001b[0mQuality: \u001b[1;36m-0.4991\u001b[0m\u001b[1m)\u001b[0m\n"
      ]
     },
     "metadata": {},
     "output_type": "display_data"
    },
    {
     "data": {
      "text/html": [
       "<pre style=\"white-space:pre;overflow-x:auto;line-height:normal;font-family:Menlo,'DejaVu Sans Mono',consolas,'Courier New',monospace\"><span style=\"color: #008080; text-decoration-color: #008080; font-weight: bold\">17</span>: Feature <span style=\"color: #008080; text-decoration-color: #008080; font-weight: bold\">6</span> <span style=\"font-weight: bold\">(</span>Quality: <span style=\"color: #008080; text-decoration-color: #008080; font-weight: bold\">-0.4991</span><span style=\"font-weight: bold\">)</span>\n",
       "</pre>\n"
      ],
      "text/plain": [
       "\u001b[1;36m17\u001b[0m: Feature \u001b[1;36m6\u001b[0m \u001b[1m(\u001b[0mQuality: \u001b[1;36m-0.4991\u001b[0m\u001b[1m)\u001b[0m\n"
      ]
     },
     "metadata": {},
     "output_type": "display_data"
    },
    {
     "data": {
      "text/html": [
       "<pre style=\"white-space:pre;overflow-x:auto;line-height:normal;font-family:Menlo,'DejaVu Sans Mono',consolas,'Courier New',monospace\"><span style=\"color: #008080; text-decoration-color: #008080; font-weight: bold\">18</span>: Feature <span style=\"color: #008080; text-decoration-color: #008080; font-weight: bold\">5</span> <span style=\"font-weight: bold\">(</span>Quality: <span style=\"color: #008080; text-decoration-color: #008080; font-weight: bold\">-0.4999</span><span style=\"font-weight: bold\">)</span>\n",
       "</pre>\n"
      ],
      "text/plain": [
       "\u001b[1;36m18\u001b[0m: Feature \u001b[1;36m5\u001b[0m \u001b[1m(\u001b[0mQuality: \u001b[1;36m-0.4999\u001b[0m\u001b[1m)\u001b[0m\n"
      ]
     },
     "metadata": {},
     "output_type": "display_data"
    },
    {
     "data": {
      "text/html": [
       "<pre style=\"white-space:pre;overflow-x:auto;line-height:normal;font-family:Menlo,'DejaVu Sans Mono',consolas,'Courier New',monospace\"><span style=\"color: #008080; text-decoration-color: #008080; font-weight: bold\">19</span>: Feature <span style=\"color: #008080; text-decoration-color: #008080; font-weight: bold\">15</span> <span style=\"font-weight: bold\">(</span>Quality: <span style=\"color: #008080; text-decoration-color: #008080; font-weight: bold\">-0.4999</span><span style=\"font-weight: bold\">)</span>\n",
       "</pre>\n"
      ],
      "text/plain": [
       "\u001b[1;36m19\u001b[0m: Feature \u001b[1;36m15\u001b[0m \u001b[1m(\u001b[0mQuality: \u001b[1;36m-0.4999\u001b[0m\u001b[1m)\u001b[0m\n"
      ]
     },
     "metadata": {},
     "output_type": "display_data"
    },
    {
     "data": {
      "text/html": [
       "<pre style=\"white-space:pre;overflow-x:auto;line-height:normal;font-family:Menlo,'DejaVu Sans Mono',consolas,'Courier New',monospace\"><span style=\"color: #008080; text-decoration-color: #008080; font-weight: bold\">20</span>: Feature <span style=\"color: #008080; text-decoration-color: #008080; font-weight: bold\">16</span> <span style=\"font-weight: bold\">(</span>Quality: <span style=\"color: #008080; text-decoration-color: #008080; font-weight: bold\">-0.4999</span><span style=\"font-weight: bold\">)</span>\n",
       "</pre>\n"
      ],
      "text/plain": [
       "\u001b[1;36m20\u001b[0m: Feature \u001b[1;36m16\u001b[0m \u001b[1m(\u001b[0mQuality: \u001b[1;36m-0.4999\u001b[0m\u001b[1m)\u001b[0m\n"
      ]
     },
     "metadata": {},
     "output_type": "display_data"
    },
    {
     "data": {
      "text/html": [
       "<pre style=\"white-space:pre;overflow-x:auto;line-height:normal;font-family:Menlo,'DejaVu Sans Mono',consolas,'Courier New',monospace\">Smiliar quality for features:\n",
       "</pre>\n"
      ],
      "text/plain": [
       "Smiliar quality for features:\n"
      ]
     },
     "metadata": {},
     "output_type": "display_data"
    },
    {
     "data": {
      "text/html": [
       "<pre style=\"white-space:pre;overflow-x:auto;line-height:normal;font-family:Menlo,'DejaVu Sans Mono',consolas,'Courier New',monospace\"><span style=\"color: #008080; text-decoration-color: #008080; font-weight: bold\">0</span>: Feature <span style=\"color: #008080; text-decoration-color: #008080; font-weight: bold\">3</span> <span style=\"font-weight: bold\">(</span>Quality: <span style=\"color: #008080; text-decoration-color: #008080; font-weight: bold\">-0.0000</span><span style=\"font-weight: bold\">)</span>\n",
       "</pre>\n"
      ],
      "text/plain": [
       "\u001b[1;36m0\u001b[0m: Feature \u001b[1;36m3\u001b[0m \u001b[1m(\u001b[0mQuality: \u001b[1;36m-0.0000\u001b[0m\u001b[1m)\u001b[0m\n"
      ]
     },
     "metadata": {},
     "output_type": "display_data"
    },
    {
     "data": {
      "text/html": [
       "<pre style=\"white-space:pre;overflow-x:auto;line-height:normal;font-family:Menlo,'DejaVu Sans Mono',consolas,'Courier New',monospace\"><span style=\"color: #008080; text-decoration-color: #008080; font-weight: bold\">1</span>: Feature <span style=\"color: #008080; text-decoration-color: #008080; font-weight: bold\">4</span> <span style=\"font-weight: bold\">(</span>Quality: <span style=\"color: #008080; text-decoration-color: #008080; font-weight: bold\">-0.0000</span><span style=\"font-weight: bold\">)</span>\n",
       "</pre>\n"
      ],
      "text/plain": [
       "\u001b[1;36m1\u001b[0m: Feature \u001b[1;36m4\u001b[0m \u001b[1m(\u001b[0mQuality: \u001b[1;36m-0.0000\u001b[0m\u001b[1m)\u001b[0m\n"
      ]
     },
     "metadata": {},
     "output_type": "display_data"
    },
    {
     "data": {
      "text/html": [
       "<pre style=\"white-space:pre;overflow-x:auto;line-height:normal;font-family:Menlo,'DejaVu Sans Mono',consolas,'Courier New',monospace\"><span style=\"color: #008080; text-decoration-color: #008080; font-weight: bold\">2</span>: Feature <span style=\"color: #008080; text-decoration-color: #008080; font-weight: bold\">7</span> <span style=\"font-weight: bold\">(</span>Quality: <span style=\"color: #008080; text-decoration-color: #008080; font-weight: bold\">-0.0000</span><span style=\"font-weight: bold\">)</span>\n",
       "</pre>\n"
      ],
      "text/plain": [
       "\u001b[1;36m2\u001b[0m: Feature \u001b[1;36m7\u001b[0m \u001b[1m(\u001b[0mQuality: \u001b[1;36m-0.0000\u001b[0m\u001b[1m)\u001b[0m\n"
      ]
     },
     "metadata": {},
     "output_type": "display_data"
    },
    {
     "data": {
      "text/html": [
       "<pre style=\"white-space:pre;overflow-x:auto;line-height:normal;font-family:Menlo,'DejaVu Sans Mono',consolas,'Courier New',monospace\"><span style=\"color: #008080; text-decoration-color: #008080; font-weight: bold\">3</span>: Feature <span style=\"color: #008080; text-decoration-color: #008080; font-weight: bold\">9</span> <span style=\"font-weight: bold\">(</span>Quality: <span style=\"color: #008080; text-decoration-color: #008080; font-weight: bold\">-0.0000</span><span style=\"font-weight: bold\">)</span>\n",
       "</pre>\n"
      ],
      "text/plain": [
       "\u001b[1;36m3\u001b[0m: Feature \u001b[1;36m9\u001b[0m \u001b[1m(\u001b[0mQuality: \u001b[1;36m-0.0000\u001b[0m\u001b[1m)\u001b[0m\n"
      ]
     },
     "metadata": {},
     "output_type": "display_data"
    },
    {
     "data": {
      "text/html": [
       "<pre style=\"white-space:pre;overflow-x:auto;line-height:normal;font-family:Menlo,'DejaVu Sans Mono',consolas,'Courier New',monospace\"><span style=\"color: #008080; text-decoration-color: #008080; font-weight: bold\">4</span>: Feature <span style=\"color: #008080; text-decoration-color: #008080; font-weight: bold\">2</span> <span style=\"font-weight: bold\">(</span>Quality: <span style=\"color: #008080; text-decoration-color: #008080; font-weight: bold\">-0.0600</span><span style=\"font-weight: bold\">)</span>\n",
       "</pre>\n"
      ],
      "text/plain": [
       "\u001b[1;36m4\u001b[0m: Feature \u001b[1;36m2\u001b[0m \u001b[1m(\u001b[0mQuality: \u001b[1;36m-0.0600\u001b[0m\u001b[1m)\u001b[0m\n"
      ]
     },
     "metadata": {},
     "output_type": "display_data"
    },
    {
     "data": {
      "text/html": [
       "<pre style=\"white-space:pre;overflow-x:auto;line-height:normal;font-family:Menlo,'DejaVu Sans Mono',consolas,'Courier New',monospace\"><span style=\"color: #008080; text-decoration-color: #008080; font-weight: bold\">5</span>: Feature <span style=\"color: #008080; text-decoration-color: #008080; font-weight: bold\">1</span> <span style=\"font-weight: bold\">(</span>Quality: <span style=\"color: #008080; text-decoration-color: #008080; font-weight: bold\">-0.0900</span><span style=\"font-weight: bold\">)</span>\n",
       "</pre>\n"
      ],
      "text/plain": [
       "\u001b[1;36m5\u001b[0m: Feature \u001b[1;36m1\u001b[0m \u001b[1m(\u001b[0mQuality: \u001b[1;36m-0.0900\u001b[0m\u001b[1m)\u001b[0m\n"
      ]
     },
     "metadata": {},
     "output_type": "display_data"
    },
    {
     "data": {
      "text/html": [
       "<pre style=\"white-space:pre;overflow-x:auto;line-height:normal;font-family:Menlo,'DejaVu Sans Mono',consolas,'Courier New',monospace\"><span style=\"color: #008080; text-decoration-color: #008080; font-weight: bold\">6</span>: Feature <span style=\"color: #008080; text-decoration-color: #008080; font-weight: bold\">20</span> <span style=\"font-weight: bold\">(</span>Quality: <span style=\"color: #008080; text-decoration-color: #008080; font-weight: bold\">-0.0900</span><span style=\"font-weight: bold\">)</span>\n",
       "</pre>\n"
      ],
      "text/plain": [
       "\u001b[1;36m6\u001b[0m: Feature \u001b[1;36m20\u001b[0m \u001b[1m(\u001b[0mQuality: \u001b[1;36m-0.0900\u001b[0m\u001b[1m)\u001b[0m\n"
      ]
     },
     "metadata": {},
     "output_type": "display_data"
    },
    {
     "data": {
      "text/html": [
       "<pre style=\"white-space:pre;overflow-x:auto;line-height:normal;font-family:Menlo,'DejaVu Sans Mono',consolas,'Courier New',monospace\"><span style=\"color: #008080; text-decoration-color: #008080; font-weight: bold\">7</span>: Feature <span style=\"color: #008080; text-decoration-color: #008080; font-weight: bold\">6</span> <span style=\"font-weight: bold\">(</span>Quality: <span style=\"color: #008080; text-decoration-color: #008080; font-weight: bold\">-0.0947</span><span style=\"font-weight: bold\">)</span>\n",
       "</pre>\n"
      ],
      "text/plain": [
       "\u001b[1;36m7\u001b[0m: Feature \u001b[1;36m6\u001b[0m \u001b[1m(\u001b[0mQuality: \u001b[1;36m-0.0947\u001b[0m\u001b[1m)\u001b[0m\n"
      ]
     },
     "metadata": {},
     "output_type": "display_data"
    },
    {
     "data": {
      "text/html": [
       "<pre style=\"white-space:pre;overflow-x:auto;line-height:normal;font-family:Menlo,'DejaVu Sans Mono',consolas,'Courier New',monospace\"><span style=\"color: #008080; text-decoration-color: #008080; font-weight: bold\">8</span>: Feature <span style=\"color: #008080; text-decoration-color: #008080; font-weight: bold\">8</span> <span style=\"font-weight: bold\">(</span>Quality: <span style=\"color: #008080; text-decoration-color: #008080; font-weight: bold\">-0.1350</span><span style=\"font-weight: bold\">)</span>\n",
       "</pre>\n"
      ],
      "text/plain": [
       "\u001b[1;36m8\u001b[0m: Feature \u001b[1;36m8\u001b[0m \u001b[1m(\u001b[0mQuality: \u001b[1;36m-0.1350\u001b[0m\u001b[1m)\u001b[0m\n"
      ]
     },
     "metadata": {},
     "output_type": "display_data"
    },
    {
     "data": {
      "text/html": [
       "<pre style=\"white-space:pre;overflow-x:auto;line-height:normal;font-family:Menlo,'DejaVu Sans Mono',consolas,'Courier New',monospace\"><span style=\"color: #008080; text-decoration-color: #008080; font-weight: bold\">9</span>: Feature <span style=\"color: #008080; text-decoration-color: #008080; font-weight: bold\">13</span> <span style=\"font-weight: bold\">(</span>Quality: <span style=\"color: #008080; text-decoration-color: #008080; font-weight: bold\">-0.1500</span><span style=\"font-weight: bold\">)</span>\n",
       "</pre>\n"
      ],
      "text/plain": [
       "\u001b[1;36m9\u001b[0m: Feature \u001b[1;36m13\u001b[0m \u001b[1m(\u001b[0mQuality: \u001b[1;36m-0.1500\u001b[0m\u001b[1m)\u001b[0m\n"
      ]
     },
     "metadata": {},
     "output_type": "display_data"
    },
    {
     "data": {
      "text/html": [
       "<pre style=\"white-space:pre;overflow-x:auto;line-height:normal;font-family:Menlo,'DejaVu Sans Mono',consolas,'Courier New',monospace\"><span style=\"color: #008080; text-decoration-color: #008080; font-weight: bold\">10</span>: Feature <span style=\"color: #008080; text-decoration-color: #008080; font-weight: bold\">14</span> <span style=\"font-weight: bold\">(</span>Quality: <span style=\"color: #008080; text-decoration-color: #008080; font-weight: bold\">-0.1500</span><span style=\"font-weight: bold\">)</span>\n",
       "</pre>\n"
      ],
      "text/plain": [
       "\u001b[1;36m10\u001b[0m: Feature \u001b[1;36m14\u001b[0m \u001b[1m(\u001b[0mQuality: \u001b[1;36m-0.1500\u001b[0m\u001b[1m)\u001b[0m\n"
      ]
     },
     "metadata": {},
     "output_type": "display_data"
    },
    {
     "data": {
      "text/html": [
       "<pre style=\"white-space:pre;overflow-x:auto;line-height:normal;font-family:Menlo,'DejaVu Sans Mono',consolas,'Courier New',monospace\"><span style=\"color: #008080; text-decoration-color: #008080; font-weight: bold\">11</span>: Feature <span style=\"color: #008080; text-decoration-color: #008080; font-weight: bold\">0</span> <span style=\"font-weight: bold\">(</span>Quality: <span style=\"color: #008080; text-decoration-color: #008080; font-weight: bold\">-0.1636</span><span style=\"font-weight: bold\">)</span>\n",
       "</pre>\n"
      ],
      "text/plain": [
       "\u001b[1;36m11\u001b[0m: Feature \u001b[1;36m0\u001b[0m \u001b[1m(\u001b[0mQuality: \u001b[1;36m-0.1636\u001b[0m\u001b[1m)\u001b[0m\n"
      ]
     },
     "metadata": {},
     "output_type": "display_data"
    },
    {
     "data": {
      "text/html": [
       "<pre style=\"white-space:pre;overflow-x:auto;line-height:normal;font-family:Menlo,'DejaVu Sans Mono',consolas,'Courier New',monospace\"><span style=\"color: #008080; text-decoration-color: #008080; font-weight: bold\">12</span>: Feature <span style=\"color: #008080; text-decoration-color: #008080; font-weight: bold\">5</span> <span style=\"font-weight: bold\">(</span>Quality: <span style=\"color: #008080; text-decoration-color: #008080; font-weight: bold\">-0.1800</span><span style=\"font-weight: bold\">)</span>\n",
       "</pre>\n"
      ],
      "text/plain": [
       "\u001b[1;36m12\u001b[0m: Feature \u001b[1;36m5\u001b[0m \u001b[1m(\u001b[0mQuality: \u001b[1;36m-0.1800\u001b[0m\u001b[1m)\u001b[0m\n"
      ]
     },
     "metadata": {},
     "output_type": "display_data"
    },
    {
     "data": {
      "text/html": [
       "<pre style=\"white-space:pre;overflow-x:auto;line-height:normal;font-family:Menlo,'DejaVu Sans Mono',consolas,'Courier New',monospace\"><span style=\"color: #008080; text-decoration-color: #008080; font-weight: bold\">13</span>: Feature <span style=\"color: #008080; text-decoration-color: #008080; font-weight: bold\">11</span> <span style=\"font-weight: bold\">(</span>Quality: <span style=\"color: #008080; text-decoration-color: #008080; font-weight: bold\">-0.1800</span><span style=\"font-weight: bold\">)</span>\n",
       "</pre>\n"
      ],
      "text/plain": [
       "\u001b[1;36m13\u001b[0m: Feature \u001b[1;36m11\u001b[0m \u001b[1m(\u001b[0mQuality: \u001b[1;36m-0.1800\u001b[0m\u001b[1m)\u001b[0m\n"
      ]
     },
     "metadata": {},
     "output_type": "display_data"
    },
    {
     "data": {
      "text/html": [
       "<pre style=\"white-space:pre;overflow-x:auto;line-height:normal;font-family:Menlo,'DejaVu Sans Mono',consolas,'Courier New',monospace\"><span style=\"color: #008080; text-decoration-color: #008080; font-weight: bold\">14</span>: Feature <span style=\"color: #008080; text-decoration-color: #008080; font-weight: bold\">12</span> <span style=\"font-weight: bold\">(</span>Quality: <span style=\"color: #008080; text-decoration-color: #008080; font-weight: bold\">-0.1800</span><span style=\"font-weight: bold\">)</span>\n",
       "</pre>\n"
      ],
      "text/plain": [
       "\u001b[1;36m14\u001b[0m: Feature \u001b[1;36m12\u001b[0m \u001b[1m(\u001b[0mQuality: \u001b[1;36m-0.1800\u001b[0m\u001b[1m)\u001b[0m\n"
      ]
     },
     "metadata": {},
     "output_type": "display_data"
    },
    {
     "data": {
      "text/html": [
       "<pre style=\"white-space:pre;overflow-x:auto;line-height:normal;font-family:Menlo,'DejaVu Sans Mono',consolas,'Courier New',monospace\"><span style=\"color: #008080; text-decoration-color: #008080; font-weight: bold\">15</span>: Feature <span style=\"color: #008080; text-decoration-color: #008080; font-weight: bold\">15</span> <span style=\"font-weight: bold\">(</span>Quality: <span style=\"color: #008080; text-decoration-color: #008080; font-weight: bold\">-0.1800</span><span style=\"font-weight: bold\">)</span>\n",
       "</pre>\n"
      ],
      "text/plain": [
       "\u001b[1;36m15\u001b[0m: Feature \u001b[1;36m15\u001b[0m \u001b[1m(\u001b[0mQuality: \u001b[1;36m-0.1800\u001b[0m\u001b[1m)\u001b[0m\n"
      ]
     },
     "metadata": {},
     "output_type": "display_data"
    },
    {
     "data": {
      "text/html": [
       "<pre style=\"white-space:pre;overflow-x:auto;line-height:normal;font-family:Menlo,'DejaVu Sans Mono',consolas,'Courier New',monospace\"><span style=\"color: #008080; text-decoration-color: #008080; font-weight: bold\">16</span>: Feature <span style=\"color: #008080; text-decoration-color: #008080; font-weight: bold\">16</span> <span style=\"font-weight: bold\">(</span>Quality: <span style=\"color: #008080; text-decoration-color: #008080; font-weight: bold\">-0.1800</span><span style=\"font-weight: bold\">)</span>\n",
       "</pre>\n"
      ],
      "text/plain": [
       "\u001b[1;36m16\u001b[0m: Feature \u001b[1;36m16\u001b[0m \u001b[1m(\u001b[0mQuality: \u001b[1;36m-0.1800\u001b[0m\u001b[1m)\u001b[0m\n"
      ]
     },
     "metadata": {},
     "output_type": "display_data"
    },
    {
     "data": {
      "text/html": [
       "<pre style=\"white-space:pre;overflow-x:auto;line-height:normal;font-family:Menlo,'DejaVu Sans Mono',consolas,'Courier New',monospace\"><span style=\"color: #008080; text-decoration-color: #008080; font-weight: bold\">17</span>: Feature <span style=\"color: #008080; text-decoration-color: #008080; font-weight: bold\">17</span> <span style=\"font-weight: bold\">(</span>Quality: <span style=\"color: #008080; text-decoration-color: #008080; font-weight: bold\">-0.1800</span><span style=\"font-weight: bold\">)</span>\n",
       "</pre>\n"
      ],
      "text/plain": [
       "\u001b[1;36m17\u001b[0m: Feature \u001b[1;36m17\u001b[0m \u001b[1m(\u001b[0mQuality: \u001b[1;36m-0.1800\u001b[0m\u001b[1m)\u001b[0m\n"
      ]
     },
     "metadata": {},
     "output_type": "display_data"
    },
    {
     "data": {
      "text/html": [
       "<pre style=\"white-space:pre;overflow-x:auto;line-height:normal;font-family:Menlo,'DejaVu Sans Mono',consolas,'Courier New',monospace\"><span style=\"color: #008080; text-decoration-color: #008080; font-weight: bold\">18</span>: Feature <span style=\"color: #008080; text-decoration-color: #008080; font-weight: bold\">18</span> <span style=\"font-weight: bold\">(</span>Quality: <span style=\"color: #008080; text-decoration-color: #008080; font-weight: bold\">-0.1800</span><span style=\"font-weight: bold\">)</span>\n",
       "</pre>\n"
      ],
      "text/plain": [
       "\u001b[1;36m18\u001b[0m: Feature \u001b[1;36m18\u001b[0m \u001b[1m(\u001b[0mQuality: \u001b[1;36m-0.1800\u001b[0m\u001b[1m)\u001b[0m\n"
      ]
     },
     "metadata": {},
     "output_type": "display_data"
    },
    {
     "data": {
      "text/html": [
       "<pre style=\"white-space:pre;overflow-x:auto;line-height:normal;font-family:Menlo,'DejaVu Sans Mono',consolas,'Courier New',monospace\"><span style=\"color: #008080; text-decoration-color: #008080; font-weight: bold\">19</span>: Feature <span style=\"color: #008080; text-decoration-color: #008080; font-weight: bold\">21</span> <span style=\"font-weight: bold\">(</span>Quality: <span style=\"color: #008080; text-decoration-color: #008080; font-weight: bold\">-0.1800</span><span style=\"font-weight: bold\">)</span>\n",
       "</pre>\n"
      ],
      "text/plain": [
       "\u001b[1;36m19\u001b[0m: Feature \u001b[1;36m21\u001b[0m \u001b[1m(\u001b[0mQuality: \u001b[1;36m-0.1800\u001b[0m\u001b[1m)\u001b[0m\n"
      ]
     },
     "metadata": {},
     "output_type": "display_data"
    },
    {
     "data": {
      "text/html": [
       "<pre style=\"white-space:pre;overflow-x:auto;line-height:normal;font-family:Menlo,'DejaVu Sans Mono',consolas,'Courier New',monospace\">Smiliar quality for features:\n",
       "</pre>\n"
      ],
      "text/plain": [
       "Smiliar quality for features:\n"
      ]
     },
     "metadata": {},
     "output_type": "display_data"
    },
    {
     "data": {
      "text/html": [
       "<pre style=\"white-space:pre;overflow-x:auto;line-height:normal;font-family:Menlo,'DejaVu Sans Mono',consolas,'Courier New',monospace\"><span style=\"color: #008080; text-decoration-color: #008080; font-weight: bold\">0</span>: Feature <span style=\"color: #008080; text-decoration-color: #008080; font-weight: bold\">3</span> <span style=\"font-weight: bold\">(</span>Quality: <span style=\"color: #008080; text-decoration-color: #008080; font-weight: bold\">-0.0000</span><span style=\"font-weight: bold\">)</span>\n",
       "</pre>\n"
      ],
      "text/plain": [
       "\u001b[1;36m0\u001b[0m: Feature \u001b[1;36m3\u001b[0m \u001b[1m(\u001b[0mQuality: \u001b[1;36m-0.0000\u001b[0m\u001b[1m)\u001b[0m\n"
      ]
     },
     "metadata": {},
     "output_type": "display_data"
    },
    {
     "data": {
      "text/html": [
       "<pre style=\"white-space:pre;overflow-x:auto;line-height:normal;font-family:Menlo,'DejaVu Sans Mono',consolas,'Courier New',monospace\"><span style=\"color: #008080; text-decoration-color: #008080; font-weight: bold\">1</span>: Feature <span style=\"color: #008080; text-decoration-color: #008080; font-weight: bold\">4</span> <span style=\"font-weight: bold\">(</span>Quality: <span style=\"color: #008080; text-decoration-color: #008080; font-weight: bold\">-0.0000</span><span style=\"font-weight: bold\">)</span>\n",
       "</pre>\n"
      ],
      "text/plain": [
       "\u001b[1;36m1\u001b[0m: Feature \u001b[1;36m4\u001b[0m \u001b[1m(\u001b[0mQuality: \u001b[1;36m-0.0000\u001b[0m\u001b[1m)\u001b[0m\n"
      ]
     },
     "metadata": {},
     "output_type": "display_data"
    },
    {
     "data": {
      "text/html": [
       "<pre style=\"white-space:pre;overflow-x:auto;line-height:normal;font-family:Menlo,'DejaVu Sans Mono',consolas,'Courier New',monospace\"><span style=\"color: #008080; text-decoration-color: #008080; font-weight: bold\">2</span>: Feature <span style=\"color: #008080; text-decoration-color: #008080; font-weight: bold\">9</span> <span style=\"font-weight: bold\">(</span>Quality: <span style=\"color: #008080; text-decoration-color: #008080; font-weight: bold\">-0.0000</span><span style=\"font-weight: bold\">)</span>\n",
       "</pre>\n"
      ],
      "text/plain": [
       "\u001b[1;36m2\u001b[0m: Feature \u001b[1;36m9\u001b[0m \u001b[1m(\u001b[0mQuality: \u001b[1;36m-0.0000\u001b[0m\u001b[1m)\u001b[0m\n"
      ]
     },
     "metadata": {},
     "output_type": "display_data"
    },
    {
     "data": {
      "text/html": [
       "<pre style=\"white-space:pre;overflow-x:auto;line-height:normal;font-family:Menlo,'DejaVu Sans Mono',consolas,'Courier New',monospace\"><span style=\"color: #008080; text-decoration-color: #008080; font-weight: bold\">3</span>: Feature <span style=\"color: #008080; text-decoration-color: #008080; font-weight: bold\">7</span> <span style=\"font-weight: bold\">(</span>Quality: <span style=\"color: #008080; text-decoration-color: #008080; font-weight: bold\">-0.0635</span><span style=\"font-weight: bold\">)</span>\n",
       "</pre>\n"
      ],
      "text/plain": [
       "\u001b[1;36m3\u001b[0m: Feature \u001b[1;36m7\u001b[0m \u001b[1m(\u001b[0mQuality: \u001b[1;36m-0.0635\u001b[0m\u001b[1m)\u001b[0m\n"
      ]
     },
     "metadata": {},
     "output_type": "display_data"
    },
    {
     "data": {
      "text/html": [
       "<pre style=\"white-space:pre;overflow-x:auto;line-height:normal;font-family:Menlo,'DejaVu Sans Mono',consolas,'Courier New',monospace\"><span style=\"color: #008080; text-decoration-color: #008080; font-weight: bold\">4</span>: Feature <span style=\"color: #008080; text-decoration-color: #008080; font-weight: bold\">2</span> <span style=\"font-weight: bold\">(</span>Quality: <span style=\"color: #008080; text-decoration-color: #008080; font-weight: bold\">-0.0844</span><span style=\"font-weight: bold\">)</span>\n",
       "</pre>\n"
      ],
      "text/plain": [
       "\u001b[1;36m4\u001b[0m: Feature \u001b[1;36m2\u001b[0m \u001b[1m(\u001b[0mQuality: \u001b[1;36m-0.0844\u001b[0m\u001b[1m)\u001b[0m\n"
      ]
     },
     "metadata": {},
     "output_type": "display_data"
    },
    {
     "data": {
      "text/html": [
       "<pre style=\"white-space:pre;overflow-x:auto;line-height:normal;font-family:Menlo,'DejaVu Sans Mono',consolas,'Courier New',monospace\"><span style=\"color: #008080; text-decoration-color: #008080; font-weight: bold\">5</span>: Feature <span style=\"color: #008080; text-decoration-color: #008080; font-weight: bold\">20</span> <span style=\"font-weight: bold\">(</span>Quality: <span style=\"color: #008080; text-decoration-color: #008080; font-weight: bold\">-0.0866</span><span style=\"font-weight: bold\">)</span>\n",
       "</pre>\n"
      ],
      "text/plain": [
       "\u001b[1;36m5\u001b[0m: Feature \u001b[1;36m20\u001b[0m \u001b[1m(\u001b[0mQuality: \u001b[1;36m-0.0866\u001b[0m\u001b[1m)\u001b[0m\n"
      ]
     },
     "metadata": {},
     "output_type": "display_data"
    },
    {
     "data": {
      "text/html": [
       "<pre style=\"white-space:pre;overflow-x:auto;line-height:normal;font-family:Menlo,'DejaVu Sans Mono',consolas,'Courier New',monospace\"><span style=\"color: #008080; text-decoration-color: #008080; font-weight: bold\">6</span>: Feature <span style=\"color: #008080; text-decoration-color: #008080; font-weight: bold\">1</span> <span style=\"font-weight: bold\">(</span>Quality: <span style=\"color: #008080; text-decoration-color: #008080; font-weight: bold\">-0.1179</span><span style=\"font-weight: bold\">)</span>\n",
       "</pre>\n"
      ],
      "text/plain": [
       "\u001b[1;36m6\u001b[0m: Feature \u001b[1;36m1\u001b[0m \u001b[1m(\u001b[0mQuality: \u001b[1;36m-0.1179\u001b[0m\u001b[1m)\u001b[0m\n"
      ]
     },
     "metadata": {},
     "output_type": "display_data"
    },
    {
     "data": {
      "text/html": [
       "<pre style=\"white-space:pre;overflow-x:auto;line-height:normal;font-family:Menlo,'DejaVu Sans Mono',consolas,'Courier New',monospace\"><span style=\"color: #008080; text-decoration-color: #008080; font-weight: bold\">7</span>: Feature <span style=\"color: #008080; text-decoration-color: #008080; font-weight: bold\">8</span> <span style=\"font-weight: bold\">(</span>Quality: <span style=\"color: #008080; text-decoration-color: #008080; font-weight: bold\">-0.1292</span><span style=\"font-weight: bold\">)</span>\n",
       "</pre>\n"
      ],
      "text/plain": [
       "\u001b[1;36m7\u001b[0m: Feature \u001b[1;36m8\u001b[0m \u001b[1m(\u001b[0mQuality: \u001b[1;36m-0.1292\u001b[0m\u001b[1m)\u001b[0m\n"
      ]
     },
     "metadata": {},
     "output_type": "display_data"
    },
    {
     "data": {
      "text/html": [
       "<pre style=\"white-space:pre;overflow-x:auto;line-height:normal;font-family:Menlo,'DejaVu Sans Mono',consolas,'Courier New',monospace\"><span style=\"color: #008080; text-decoration-color: #008080; font-weight: bold\">8</span>: Feature <span style=\"color: #008080; text-decoration-color: #008080; font-weight: bold\">6</span> <span style=\"font-weight: bold\">(</span>Quality: <span style=\"color: #008080; text-decoration-color: #008080; font-weight: bold\">-0.1378</span><span style=\"font-weight: bold\">)</span>\n",
       "</pre>\n"
      ],
      "text/plain": [
       "\u001b[1;36m8\u001b[0m: Feature \u001b[1;36m6\u001b[0m \u001b[1m(\u001b[0mQuality: \u001b[1;36m-0.1378\u001b[0m\u001b[1m)\u001b[0m\n"
      ]
     },
     "metadata": {},
     "output_type": "display_data"
    },
    {
     "data": {
      "text/html": [
       "<pre style=\"white-space:pre;overflow-x:auto;line-height:normal;font-family:Menlo,'DejaVu Sans Mono',consolas,'Courier New',monospace\"><span style=\"color: #008080; text-decoration-color: #008080; font-weight: bold\">9</span>: Feature <span style=\"color: #008080; text-decoration-color: #008080; font-weight: bold\">13</span> <span style=\"font-weight: bold\">(</span>Quality: <span style=\"color: #008080; text-decoration-color: #008080; font-weight: bold\">-0.1481</span><span style=\"font-weight: bold\">)</span>\n",
       "</pre>\n"
      ],
      "text/plain": [
       "\u001b[1;36m9\u001b[0m: Feature \u001b[1;36m13\u001b[0m \u001b[1m(\u001b[0mQuality: \u001b[1;36m-0.1481\u001b[0m\u001b[1m)\u001b[0m\n"
      ]
     },
     "metadata": {},
     "output_type": "display_data"
    },
    {
     "data": {
      "text/html": [
       "<pre style=\"white-space:pre;overflow-x:auto;line-height:normal;font-family:Menlo,'DejaVu Sans Mono',consolas,'Courier New',monospace\"><span style=\"color: #008080; text-decoration-color: #008080; font-weight: bold\">10</span>: Feature <span style=\"color: #008080; text-decoration-color: #008080; font-weight: bold\">14</span> <span style=\"font-weight: bold\">(</span>Quality: <span style=\"color: #008080; text-decoration-color: #008080; font-weight: bold\">-0.1481</span><span style=\"font-weight: bold\">)</span>\n",
       "</pre>\n"
      ],
      "text/plain": [
       "\u001b[1;36m10\u001b[0m: Feature \u001b[1;36m14\u001b[0m \u001b[1m(\u001b[0mQuality: \u001b[1;36m-0.1481\u001b[0m\u001b[1m)\u001b[0m\n"
      ]
     },
     "metadata": {},
     "output_type": "display_data"
    },
    {
     "data": {
      "text/html": [
       "<pre style=\"white-space:pre;overflow-x:auto;line-height:normal;font-family:Menlo,'DejaVu Sans Mono',consolas,'Courier New',monospace\"><span style=\"color: #008080; text-decoration-color: #008080; font-weight: bold\">11</span>: Feature <span style=\"color: #008080; text-decoration-color: #008080; font-weight: bold\">0</span> <span style=\"font-weight: bold\">(</span>Quality: <span style=\"color: #008080; text-decoration-color: #008080; font-weight: bold\">-0.1573</span><span style=\"font-weight: bold\">)</span>\n",
       "</pre>\n"
      ],
      "text/plain": [
       "\u001b[1;36m11\u001b[0m: Feature \u001b[1;36m0\u001b[0m \u001b[1m(\u001b[0mQuality: \u001b[1;36m-0.1573\u001b[0m\u001b[1m)\u001b[0m\n"
      ]
     },
     "metadata": {},
     "output_type": "display_data"
    },
    {
     "data": {
      "text/html": [
       "<pre style=\"white-space:pre;overflow-x:auto;line-height:normal;font-family:Menlo,'DejaVu Sans Mono',consolas,'Courier New',monospace\"><span style=\"color: #008080; text-decoration-color: #008080; font-weight: bold\">12</span>: Feature <span style=\"color: #008080; text-decoration-color: #008080; font-weight: bold\">5</span> <span style=\"font-weight: bold\">(</span>Quality: <span style=\"color: #008080; text-decoration-color: #008080; font-weight: bold\">-0.1723</span><span style=\"font-weight: bold\">)</span>\n",
       "</pre>\n"
      ],
      "text/plain": [
       "\u001b[1;36m12\u001b[0m: Feature \u001b[1;36m5\u001b[0m \u001b[1m(\u001b[0mQuality: \u001b[1;36m-0.1723\u001b[0m\u001b[1m)\u001b[0m\n"
      ]
     },
     "metadata": {},
     "output_type": "display_data"
    },
    {
     "data": {
      "text/html": [
       "<pre style=\"white-space:pre;overflow-x:auto;line-height:normal;font-family:Menlo,'DejaVu Sans Mono',consolas,'Courier New',monospace\"><span style=\"color: #008080; text-decoration-color: #008080; font-weight: bold\">13</span>: Feature <span style=\"color: #008080; text-decoration-color: #008080; font-weight: bold\">11</span> <span style=\"font-weight: bold\">(</span>Quality: <span style=\"color: #008080; text-decoration-color: #008080; font-weight: bold\">-0.1723</span><span style=\"font-weight: bold\">)</span>\n",
       "</pre>\n"
      ],
      "text/plain": [
       "\u001b[1;36m13\u001b[0m: Feature \u001b[1;36m11\u001b[0m \u001b[1m(\u001b[0mQuality: \u001b[1;36m-0.1723\u001b[0m\u001b[1m)\u001b[0m\n"
      ]
     },
     "metadata": {},
     "output_type": "display_data"
    },
    {
     "data": {
      "text/html": [
       "<pre style=\"white-space:pre;overflow-x:auto;line-height:normal;font-family:Menlo,'DejaVu Sans Mono',consolas,'Courier New',monospace\"><span style=\"color: #008080; text-decoration-color: #008080; font-weight: bold\">14</span>: Feature <span style=\"color: #008080; text-decoration-color: #008080; font-weight: bold\">12</span> <span style=\"font-weight: bold\">(</span>Quality: <span style=\"color: #008080; text-decoration-color: #008080; font-weight: bold\">-0.1723</span><span style=\"font-weight: bold\">)</span>\n",
       "</pre>\n"
      ],
      "text/plain": [
       "\u001b[1;36m14\u001b[0m: Feature \u001b[1;36m12\u001b[0m \u001b[1m(\u001b[0mQuality: \u001b[1;36m-0.1723\u001b[0m\u001b[1m)\u001b[0m\n"
      ]
     },
     "metadata": {},
     "output_type": "display_data"
    },
    {
     "data": {
      "text/html": [
       "<pre style=\"white-space:pre;overflow-x:auto;line-height:normal;font-family:Menlo,'DejaVu Sans Mono',consolas,'Courier New',monospace\"><span style=\"color: #008080; text-decoration-color: #008080; font-weight: bold\">15</span>: Feature <span style=\"color: #008080; text-decoration-color: #008080; font-weight: bold\">15</span> <span style=\"font-weight: bold\">(</span>Quality: <span style=\"color: #008080; text-decoration-color: #008080; font-weight: bold\">-0.1723</span><span style=\"font-weight: bold\">)</span>\n",
       "</pre>\n"
      ],
      "text/plain": [
       "\u001b[1;36m15\u001b[0m: Feature \u001b[1;36m15\u001b[0m \u001b[1m(\u001b[0mQuality: \u001b[1;36m-0.1723\u001b[0m\u001b[1m)\u001b[0m\n"
      ]
     },
     "metadata": {},
     "output_type": "display_data"
    },
    {
     "data": {
      "text/html": [
       "<pre style=\"white-space:pre;overflow-x:auto;line-height:normal;font-family:Menlo,'DejaVu Sans Mono',consolas,'Courier New',monospace\"><span style=\"color: #008080; text-decoration-color: #008080; font-weight: bold\">16</span>: Feature <span style=\"color: #008080; text-decoration-color: #008080; font-weight: bold\">16</span> <span style=\"font-weight: bold\">(</span>Quality: <span style=\"color: #008080; text-decoration-color: #008080; font-weight: bold\">-0.1723</span><span style=\"font-weight: bold\">)</span>\n",
       "</pre>\n"
      ],
      "text/plain": [
       "\u001b[1;36m16\u001b[0m: Feature \u001b[1;36m16\u001b[0m \u001b[1m(\u001b[0mQuality: \u001b[1;36m-0.1723\u001b[0m\u001b[1m)\u001b[0m\n"
      ]
     },
     "metadata": {},
     "output_type": "display_data"
    },
    {
     "data": {
      "text/html": [
       "<pre style=\"white-space:pre;overflow-x:auto;line-height:normal;font-family:Menlo,'DejaVu Sans Mono',consolas,'Courier New',monospace\"><span style=\"color: #008080; text-decoration-color: #008080; font-weight: bold\">17</span>: Feature <span style=\"color: #008080; text-decoration-color: #008080; font-weight: bold\">17</span> <span style=\"font-weight: bold\">(</span>Quality: <span style=\"color: #008080; text-decoration-color: #008080; font-weight: bold\">-0.1723</span><span style=\"font-weight: bold\">)</span>\n",
       "</pre>\n"
      ],
      "text/plain": [
       "\u001b[1;36m17\u001b[0m: Feature \u001b[1;36m17\u001b[0m \u001b[1m(\u001b[0mQuality: \u001b[1;36m-0.1723\u001b[0m\u001b[1m)\u001b[0m\n"
      ]
     },
     "metadata": {},
     "output_type": "display_data"
    },
    {
     "data": {
      "text/html": [
       "<pre style=\"white-space:pre;overflow-x:auto;line-height:normal;font-family:Menlo,'DejaVu Sans Mono',consolas,'Courier New',monospace\"><span style=\"color: #008080; text-decoration-color: #008080; font-weight: bold\">18</span>: Feature <span style=\"color: #008080; text-decoration-color: #008080; font-weight: bold\">18</span> <span style=\"font-weight: bold\">(</span>Quality: <span style=\"color: #008080; text-decoration-color: #008080; font-weight: bold\">-0.1723</span><span style=\"font-weight: bold\">)</span>\n",
       "</pre>\n"
      ],
      "text/plain": [
       "\u001b[1;36m18\u001b[0m: Feature \u001b[1;36m18\u001b[0m \u001b[1m(\u001b[0mQuality: \u001b[1;36m-0.1723\u001b[0m\u001b[1m)\u001b[0m\n"
      ]
     },
     "metadata": {},
     "output_type": "display_data"
    },
    {
     "data": {
      "text/html": [
       "<pre style=\"white-space:pre;overflow-x:auto;line-height:normal;font-family:Menlo,'DejaVu Sans Mono',consolas,'Courier New',monospace\"><span style=\"color: #008080; text-decoration-color: #008080; font-weight: bold\">19</span>: Feature <span style=\"color: #008080; text-decoration-color: #008080; font-weight: bold\">21</span> <span style=\"font-weight: bold\">(</span>Quality: <span style=\"color: #008080; text-decoration-color: #008080; font-weight: bold\">-0.1723</span><span style=\"font-weight: bold\">)</span>\n",
       "</pre>\n"
      ],
      "text/plain": [
       "\u001b[1;36m19\u001b[0m: Feature \u001b[1;36m21\u001b[0m \u001b[1m(\u001b[0mQuality: \u001b[1;36m-0.1723\u001b[0m\u001b[1m)\u001b[0m\n"
      ]
     },
     "metadata": {},
     "output_type": "display_data"
    },
    {
     "data": {
      "text/html": [
       "<pre style=\"white-space:pre;overflow-x:auto;line-height:normal;font-family:Menlo,'DejaVu Sans Mono',consolas,'Courier New',monospace\">Smiliar quality for features:\n",
       "</pre>\n"
      ],
      "text/plain": [
       "Smiliar quality for features:\n"
      ]
     },
     "metadata": {},
     "output_type": "display_data"
    },
    {
     "data": {
      "text/html": [
       "<pre style=\"white-space:pre;overflow-x:auto;line-height:normal;font-family:Menlo,'DejaVu Sans Mono',consolas,'Courier New',monospace\"><span style=\"color: #008080; text-decoration-color: #008080; font-weight: bold\">0</span>: Feature <span style=\"color: #008080; text-decoration-color: #008080; font-weight: bold\">2</span> <span style=\"font-weight: bold\">(</span>Quality: <span style=\"color: #008080; text-decoration-color: #008080; font-weight: bold\">-0.0000</span><span style=\"font-weight: bold\">)</span>\n",
       "</pre>\n"
      ],
      "text/plain": [
       "\u001b[1;36m0\u001b[0m: Feature \u001b[1;36m2\u001b[0m \u001b[1m(\u001b[0mQuality: \u001b[1;36m-0.0000\u001b[0m\u001b[1m)\u001b[0m\n"
      ]
     },
     "metadata": {},
     "output_type": "display_data"
    },
    {
     "data": {
      "text/html": [
       "<pre style=\"white-space:pre;overflow-x:auto;line-height:normal;font-family:Menlo,'DejaVu Sans Mono',consolas,'Courier New',monospace\"><span style=\"color: #008080; text-decoration-color: #008080; font-weight: bold\">1</span>: Feature <span style=\"color: #008080; text-decoration-color: #008080; font-weight: bold\">20</span> <span style=\"font-weight: bold\">(</span>Quality: <span style=\"color: #008080; text-decoration-color: #008080; font-weight: bold\">-0.0000</span><span style=\"font-weight: bold\">)</span>\n",
       "</pre>\n"
      ],
      "text/plain": [
       "\u001b[1;36m1\u001b[0m: Feature \u001b[1;36m20\u001b[0m \u001b[1m(\u001b[0mQuality: \u001b[1;36m-0.0000\u001b[0m\u001b[1m)\u001b[0m\n"
      ]
     },
     "metadata": {},
     "output_type": "display_data"
    },
    {
     "data": {
      "text/html": [
       "<pre style=\"white-space:pre;overflow-x:auto;line-height:normal;font-family:Menlo,'DejaVu Sans Mono',consolas,'Courier New',monospace\"><span style=\"color: #008080; text-decoration-color: #008080; font-weight: bold\">2</span>: Feature <span style=\"color: #008080; text-decoration-color: #008080; font-weight: bold\">1</span> <span style=\"font-weight: bold\">(</span>Quality: <span style=\"color: #008080; text-decoration-color: #008080; font-weight: bold\">-0.0710</span><span style=\"font-weight: bold\">)</span>\n",
       "</pre>\n"
      ],
      "text/plain": [
       "\u001b[1;36m2\u001b[0m: Feature \u001b[1;36m1\u001b[0m \u001b[1m(\u001b[0mQuality: \u001b[1;36m-0.0710\u001b[0m\u001b[1m)\u001b[0m\n"
      ]
     },
     "metadata": {},
     "output_type": "display_data"
    },
    {
     "data": {
      "text/html": [
       "<pre style=\"white-space:pre;overflow-x:auto;line-height:normal;font-family:Menlo,'DejaVu Sans Mono',consolas,'Courier New',monospace\"><span style=\"color: #008080; text-decoration-color: #008080; font-weight: bold\">3</span>: Feature <span style=\"color: #008080; text-decoration-color: #008080; font-weight: bold\">0</span> <span style=\"font-weight: bold\">(</span>Quality: <span style=\"color: #008080; text-decoration-color: #008080; font-weight: bold\">-0.0970</span><span style=\"font-weight: bold\">)</span>\n",
       "</pre>\n"
      ],
      "text/plain": [
       "\u001b[1;36m3\u001b[0m: Feature \u001b[1;36m0\u001b[0m \u001b[1m(\u001b[0mQuality: \u001b[1;36m-0.0970\u001b[0m\u001b[1m)\u001b[0m\n"
      ]
     },
     "metadata": {},
     "output_type": "display_data"
    },
    {
     "data": {
      "text/html": [
       "<pre style=\"white-space:pre;overflow-x:auto;line-height:normal;font-family:Menlo,'DejaVu Sans Mono',consolas,'Courier New',monospace\"><span style=\"color: #008080; text-decoration-color: #008080; font-weight: bold\">4</span>: Feature <span style=\"color: #008080; text-decoration-color: #008080; font-weight: bold\">3</span> <span style=\"font-weight: bold\">(</span>Quality: <span style=\"color: #008080; text-decoration-color: #008080; font-weight: bold\">-0.1231</span><span style=\"font-weight: bold\">)</span>\n",
       "</pre>\n"
      ],
      "text/plain": [
       "\u001b[1;36m4\u001b[0m: Feature \u001b[1;36m3\u001b[0m \u001b[1m(\u001b[0mQuality: \u001b[1;36m-0.1231\u001b[0m\u001b[1m)\u001b[0m\n"
      ]
     },
     "metadata": {},
     "output_type": "display_data"
    },
    {
     "data": {
      "text/html": [
       "<pre style=\"white-space:pre;overflow-x:auto;line-height:normal;font-family:Menlo,'DejaVu Sans Mono',consolas,'Courier New',monospace\"><span style=\"color: #008080; text-decoration-color: #008080; font-weight: bold\">5</span>: Feature <span style=\"color: #008080; text-decoration-color: #008080; font-weight: bold\">14</span> <span style=\"font-weight: bold\">(</span>Quality: <span style=\"color: #008080; text-decoration-color: #008080; font-weight: bold\">-0.1231</span><span style=\"font-weight: bold\">)</span>\n",
       "</pre>\n"
      ],
      "text/plain": [
       "\u001b[1;36m5\u001b[0m: Feature \u001b[1;36m14\u001b[0m \u001b[1m(\u001b[0mQuality: \u001b[1;36m-0.1231\u001b[0m\u001b[1m)\u001b[0m\n"
      ]
     },
     "metadata": {},
     "output_type": "display_data"
    },
    {
     "data": {
      "text/html": [
       "<pre style=\"white-space:pre;overflow-x:auto;line-height:normal;font-family:Menlo,'DejaVu Sans Mono',consolas,'Courier New',monospace\"><span style=\"color: #008080; text-decoration-color: #008080; font-weight: bold\">6</span>: Feature <span style=\"color: #008080; text-decoration-color: #008080; font-weight: bold\">6</span> <span style=\"font-weight: bold\">(</span>Quality: <span style=\"color: #008080; text-decoration-color: #008080; font-weight: bold\">-0.1319</span><span style=\"font-weight: bold\">)</span>\n",
       "</pre>\n"
      ],
      "text/plain": [
       "\u001b[1;36m6\u001b[0m: Feature \u001b[1;36m6\u001b[0m \u001b[1m(\u001b[0mQuality: \u001b[1;36m-0.1319\u001b[0m\u001b[1m)\u001b[0m\n"
      ]
     },
     "metadata": {},
     "output_type": "display_data"
    },
    {
     "data": {
      "text/html": [
       "<pre style=\"white-space:pre;overflow-x:auto;line-height:normal;font-family:Menlo,'DejaVu Sans Mono',consolas,'Courier New',monospace\"><span style=\"color: #008080; text-decoration-color: #008080; font-weight: bold\">7</span>: Feature <span style=\"color: #008080; text-decoration-color: #008080; font-weight: bold\">7</span> <span style=\"font-weight: bold\">(</span>Quality: <span style=\"color: #008080; text-decoration-color: #008080; font-weight: bold\">-0.1319</span><span style=\"font-weight: bold\">)</span>\n",
       "</pre>\n"
      ],
      "text/plain": [
       "\u001b[1;36m7\u001b[0m: Feature \u001b[1;36m7\u001b[0m \u001b[1m(\u001b[0mQuality: \u001b[1;36m-0.1319\u001b[0m\u001b[1m)\u001b[0m\n"
      ]
     },
     "metadata": {},
     "output_type": "display_data"
    },
    {
     "data": {
      "text/html": [
       "<pre style=\"white-space:pre;overflow-x:auto;line-height:normal;font-family:Menlo,'DejaVu Sans Mono',consolas,'Courier New',monospace\"><span style=\"color: #008080; text-decoration-color: #008080; font-weight: bold\">8</span>: Feature <span style=\"color: #008080; text-decoration-color: #008080; font-weight: bold\">17</span> <span style=\"font-weight: bold\">(</span>Quality: <span style=\"color: #008080; text-decoration-color: #008080; font-weight: bold\">-0.1319</span><span style=\"font-weight: bold\">)</span>\n",
       "</pre>\n"
      ],
      "text/plain": [
       "\u001b[1;36m8\u001b[0m: Feature \u001b[1;36m17\u001b[0m \u001b[1m(\u001b[0mQuality: \u001b[1;36m-0.1319\u001b[0m\u001b[1m)\u001b[0m\n"
      ]
     },
     "metadata": {},
     "output_type": "display_data"
    },
    {
     "data": {
      "text/html": [
       "<pre style=\"white-space:pre;overflow-x:auto;line-height:normal;font-family:Menlo,'DejaVu Sans Mono',consolas,'Courier New',monospace\"><span style=\"color: #008080; text-decoration-color: #008080; font-weight: bold\">9</span>: Feature <span style=\"color: #008080; text-decoration-color: #008080; font-weight: bold\">18</span> <span style=\"font-weight: bold\">(</span>Quality: <span style=\"color: #008080; text-decoration-color: #008080; font-weight: bold\">-0.1319</span><span style=\"font-weight: bold\">)</span>\n",
       "</pre>\n"
      ],
      "text/plain": [
       "\u001b[1;36m9\u001b[0m: Feature \u001b[1;36m18\u001b[0m \u001b[1m(\u001b[0mQuality: \u001b[1;36m-0.1319\u001b[0m\u001b[1m)\u001b[0m\n"
      ]
     },
     "metadata": {},
     "output_type": "display_data"
    },
    {
     "data": {
      "text/html": [
       "<pre style=\"white-space:pre;overflow-x:auto;line-height:normal;font-family:Menlo,'DejaVu Sans Mono',consolas,'Courier New',monospace\"><span style=\"color: #008080; text-decoration-color: #008080; font-weight: bold\">10</span>: Feature <span style=\"color: #008080; text-decoration-color: #008080; font-weight: bold\">21</span> <span style=\"font-weight: bold\">(</span>Quality: <span style=\"color: #008080; text-decoration-color: #008080; font-weight: bold\">-0.1319</span><span style=\"font-weight: bold\">)</span>\n",
       "</pre>\n"
      ],
      "text/plain": [
       "\u001b[1;36m10\u001b[0m: Feature \u001b[1;36m21\u001b[0m \u001b[1m(\u001b[0mQuality: \u001b[1;36m-0.1319\u001b[0m\u001b[1m)\u001b[0m\n"
      ]
     },
     "metadata": {},
     "output_type": "display_data"
    },
    {
     "data": {
      "text/html": [
       "<pre style=\"white-space:pre;overflow-x:auto;line-height:normal;font-family:Menlo,'DejaVu Sans Mono',consolas,'Courier New',monospace\"><span style=\"color: #008080; text-decoration-color: #008080; font-weight: bold\">11</span>: Feature <span style=\"color: #008080; text-decoration-color: #008080; font-weight: bold\">11</span> <span style=\"font-weight: bold\">(</span>Quality: <span style=\"color: #008080; text-decoration-color: #008080; font-weight: bold\">-0.1346</span><span style=\"font-weight: bold\">)</span>\n",
       "</pre>\n"
      ],
      "text/plain": [
       "\u001b[1;36m11\u001b[0m: Feature \u001b[1;36m11\u001b[0m \u001b[1m(\u001b[0mQuality: \u001b[1;36m-0.1346\u001b[0m\u001b[1m)\u001b[0m\n"
      ]
     },
     "metadata": {},
     "output_type": "display_data"
    },
    {
     "data": {
      "text/html": [
       "<pre style=\"white-space:pre;overflow-x:auto;line-height:normal;font-family:Menlo,'DejaVu Sans Mono',consolas,'Courier New',monospace\"><span style=\"color: #008080; text-decoration-color: #008080; font-weight: bold\">12</span>: Feature <span style=\"color: #008080; text-decoration-color: #008080; font-weight: bold\">12</span> <span style=\"font-weight: bold\">(</span>Quality: <span style=\"color: #008080; text-decoration-color: #008080; font-weight: bold\">-0.1346</span><span style=\"font-weight: bold\">)</span>\n",
       "</pre>\n"
      ],
      "text/plain": [
       "\u001b[1;36m12\u001b[0m: Feature \u001b[1;36m12\u001b[0m \u001b[1m(\u001b[0mQuality: \u001b[1;36m-0.1346\u001b[0m\u001b[1m)\u001b[0m\n"
      ]
     },
     "metadata": {},
     "output_type": "display_data"
    },
    {
     "data": {
      "text/html": [
       "<pre style=\"white-space:pre;overflow-x:auto;line-height:normal;font-family:Menlo,'DejaVu Sans Mono',consolas,'Courier New',monospace\"><span style=\"color: #008080; text-decoration-color: #008080; font-weight: bold\">13</span>: Feature <span style=\"color: #008080; text-decoration-color: #008080; font-weight: bold\">13</span> <span style=\"font-weight: bold\">(</span>Quality: <span style=\"color: #008080; text-decoration-color: #008080; font-weight: bold\">-0.1399</span><span style=\"font-weight: bold\">)</span>\n",
       "</pre>\n"
      ],
      "text/plain": [
       "\u001b[1;36m13\u001b[0m: Feature \u001b[1;36m13\u001b[0m \u001b[1m(\u001b[0mQuality: \u001b[1;36m-0.1399\u001b[0m\u001b[1m)\u001b[0m\n"
      ]
     },
     "metadata": {},
     "output_type": "display_data"
    },
    {
     "data": {
      "text/html": [
       "<pre style=\"white-space:pre;overflow-x:auto;line-height:normal;font-family:Menlo,'DejaVu Sans Mono',consolas,'Courier New',monospace\"><span style=\"color: #008080; text-decoration-color: #008080; font-weight: bold\">14</span>: Feature <span style=\"color: #008080; text-decoration-color: #008080; font-weight: bold\">4</span> <span style=\"font-weight: bold\">(</span>Quality: <span style=\"color: #008080; text-decoration-color: #008080; font-weight: bold\">-0.1420</span><span style=\"font-weight: bold\">)</span>\n",
       "</pre>\n"
      ],
      "text/plain": [
       "\u001b[1;36m14\u001b[0m: Feature \u001b[1;36m4\u001b[0m \u001b[1m(\u001b[0mQuality: \u001b[1;36m-0.1420\u001b[0m\u001b[1m)\u001b[0m\n"
      ]
     },
     "metadata": {},
     "output_type": "display_data"
    },
    {
     "data": {
      "text/html": [
       "<pre style=\"white-space:pre;overflow-x:auto;line-height:normal;font-family:Menlo,'DejaVu Sans Mono',consolas,'Courier New',monospace\"><span style=\"color: #008080; text-decoration-color: #008080; font-weight: bold\">15</span>: Feature <span style=\"color: #008080; text-decoration-color: #008080; font-weight: bold\">5</span> <span style=\"font-weight: bold\">(</span>Quality: <span style=\"color: #008080; text-decoration-color: #008080; font-weight: bold\">-0.1420</span><span style=\"font-weight: bold\">)</span>\n",
       "</pre>\n"
      ],
      "text/plain": [
       "\u001b[1;36m15\u001b[0m: Feature \u001b[1;36m5\u001b[0m \u001b[1m(\u001b[0mQuality: \u001b[1;36m-0.1420\u001b[0m\u001b[1m)\u001b[0m\n"
      ]
     },
     "metadata": {},
     "output_type": "display_data"
    },
    {
     "data": {
      "text/html": [
       "<pre style=\"white-space:pre;overflow-x:auto;line-height:normal;font-family:Menlo,'DejaVu Sans Mono',consolas,'Courier New',monospace\"><span style=\"color: #008080; text-decoration-color: #008080; font-weight: bold\">16</span>: Feature <span style=\"color: #008080; text-decoration-color: #008080; font-weight: bold\">8</span> <span style=\"font-weight: bold\">(</span>Quality: <span style=\"color: #008080; text-decoration-color: #008080; font-weight: bold\">-0.1420</span><span style=\"font-weight: bold\">)</span>\n",
       "</pre>\n"
      ],
      "text/plain": [
       "\u001b[1;36m16\u001b[0m: Feature \u001b[1;36m8\u001b[0m \u001b[1m(\u001b[0mQuality: \u001b[1;36m-0.1420\u001b[0m\u001b[1m)\u001b[0m\n"
      ]
     },
     "metadata": {},
     "output_type": "display_data"
    },
    {
     "data": {
      "text/html": [
       "<pre style=\"white-space:pre;overflow-x:auto;line-height:normal;font-family:Menlo,'DejaVu Sans Mono',consolas,'Courier New',monospace\"><span style=\"color: #008080; text-decoration-color: #008080; font-weight: bold\">17</span>: Feature <span style=\"color: #008080; text-decoration-color: #008080; font-weight: bold\">9</span> <span style=\"font-weight: bold\">(</span>Quality: <span style=\"color: #008080; text-decoration-color: #008080; font-weight: bold\">-0.1420</span><span style=\"font-weight: bold\">)</span>\n",
       "</pre>\n"
      ],
      "text/plain": [
       "\u001b[1;36m17\u001b[0m: Feature \u001b[1;36m9\u001b[0m \u001b[1m(\u001b[0mQuality: \u001b[1;36m-0.1420\u001b[0m\u001b[1m)\u001b[0m\n"
      ]
     },
     "metadata": {},
     "output_type": "display_data"
    },
    {
     "data": {
      "text/html": [
       "<pre style=\"white-space:pre;overflow-x:auto;line-height:normal;font-family:Menlo,'DejaVu Sans Mono',consolas,'Courier New',monospace\"><span style=\"color: #008080; text-decoration-color: #008080; font-weight: bold\">18</span>: Feature <span style=\"color: #008080; text-decoration-color: #008080; font-weight: bold\">15</span> <span style=\"font-weight: bold\">(</span>Quality: <span style=\"color: #008080; text-decoration-color: #008080; font-weight: bold\">-0.1420</span><span style=\"font-weight: bold\">)</span>\n",
       "</pre>\n"
      ],
      "text/plain": [
       "\u001b[1;36m18\u001b[0m: Feature \u001b[1;36m15\u001b[0m \u001b[1m(\u001b[0mQuality: \u001b[1;36m-0.1420\u001b[0m\u001b[1m)\u001b[0m\n"
      ]
     },
     "metadata": {},
     "output_type": "display_data"
    },
    {
     "data": {
      "text/html": [
       "<pre style=\"white-space:pre;overflow-x:auto;line-height:normal;font-family:Menlo,'DejaVu Sans Mono',consolas,'Courier New',monospace\"><span style=\"color: #008080; text-decoration-color: #008080; font-weight: bold\">19</span>: Feature <span style=\"color: #008080; text-decoration-color: #008080; font-weight: bold\">16</span> <span style=\"font-weight: bold\">(</span>Quality: <span style=\"color: #008080; text-decoration-color: #008080; font-weight: bold\">-0.1420</span><span style=\"font-weight: bold\">)</span>\n",
       "</pre>\n"
      ],
      "text/plain": [
       "\u001b[1;36m19\u001b[0m: Feature \u001b[1;36m16\u001b[0m \u001b[1m(\u001b[0mQuality: \u001b[1;36m-0.1420\u001b[0m\u001b[1m)\u001b[0m\n"
      ]
     },
     "metadata": {},
     "output_type": "display_data"
    },
    {
     "data": {
      "text/html": [
       "<pre style=\"white-space:pre;overflow-x:auto;line-height:normal;font-family:Menlo,'DejaVu Sans Mono',consolas,'Courier New',monospace\">Smiliar quality for features:\n",
       "</pre>\n"
      ],
      "text/plain": [
       "Smiliar quality for features:\n"
      ]
     },
     "metadata": {},
     "output_type": "display_data"
    },
    {
     "data": {
      "text/html": [
       "<pre style=\"white-space:pre;overflow-x:auto;line-height:normal;font-family:Menlo,'DejaVu Sans Mono',consolas,'Courier New',monospace\"><span style=\"color: #008080; text-decoration-color: #008080; font-weight: bold\">0</span>: Feature <span style=\"color: #008080; text-decoration-color: #008080; font-weight: bold\">3</span> <span style=\"font-weight: bold\">(</span>Quality: <span style=\"color: #008080; text-decoration-color: #008080; font-weight: bold\">-0.0000</span><span style=\"font-weight: bold\">)</span>\n",
       "</pre>\n"
      ],
      "text/plain": [
       "\u001b[1;36m0\u001b[0m: Feature \u001b[1;36m3\u001b[0m \u001b[1m(\u001b[0mQuality: \u001b[1;36m-0.0000\u001b[0m\u001b[1m)\u001b[0m\n"
      ]
     },
     "metadata": {},
     "output_type": "display_data"
    },
    {
     "data": {
      "text/html": [
       "<pre style=\"white-space:pre;overflow-x:auto;line-height:normal;font-family:Menlo,'DejaVu Sans Mono',consolas,'Courier New',monospace\"><span style=\"color: #008080; text-decoration-color: #008080; font-weight: bold\">1</span>: Feature <span style=\"color: #008080; text-decoration-color: #008080; font-weight: bold\">4</span> <span style=\"font-weight: bold\">(</span>Quality: <span style=\"color: #008080; text-decoration-color: #008080; font-weight: bold\">-0.0000</span><span style=\"font-weight: bold\">)</span>\n",
       "</pre>\n"
      ],
      "text/plain": [
       "\u001b[1;36m1\u001b[0m: Feature \u001b[1;36m4\u001b[0m \u001b[1m(\u001b[0mQuality: \u001b[1;36m-0.0000\u001b[0m\u001b[1m)\u001b[0m\n"
      ]
     },
     "metadata": {},
     "output_type": "display_data"
    },
    {
     "data": {
      "text/html": [
       "<pre style=\"white-space:pre;overflow-x:auto;line-height:normal;font-family:Menlo,'DejaVu Sans Mono',consolas,'Courier New',monospace\"><span style=\"color: #008080; text-decoration-color: #008080; font-weight: bold\">2</span>: Feature <span style=\"color: #008080; text-decoration-color: #008080; font-weight: bold\">11</span> <span style=\"font-weight: bold\">(</span>Quality: <span style=\"color: #008080; text-decoration-color: #008080; font-weight: bold\">-0.0000</span><span style=\"font-weight: bold\">)</span>\n",
       "</pre>\n"
      ],
      "text/plain": [
       "\u001b[1;36m2\u001b[0m: Feature \u001b[1;36m11\u001b[0m \u001b[1m(\u001b[0mQuality: \u001b[1;36m-0.0000\u001b[0m\u001b[1m)\u001b[0m\n"
      ]
     },
     "metadata": {},
     "output_type": "display_data"
    },
    {
     "data": {
      "text/html": [
       "<pre style=\"white-space:pre;overflow-x:auto;line-height:normal;font-family:Menlo,'DejaVu Sans Mono',consolas,'Courier New',monospace\"><span style=\"color: #008080; text-decoration-color: #008080; font-weight: bold\">3</span>: Feature <span style=\"color: #008080; text-decoration-color: #008080; font-weight: bold\">12</span> <span style=\"font-weight: bold\">(</span>Quality: <span style=\"color: #008080; text-decoration-color: #008080; font-weight: bold\">-0.0000</span><span style=\"font-weight: bold\">)</span>\n",
       "</pre>\n"
      ],
      "text/plain": [
       "\u001b[1;36m3\u001b[0m: Feature \u001b[1;36m12\u001b[0m \u001b[1m(\u001b[0mQuality: \u001b[1;36m-0.0000\u001b[0m\u001b[1m)\u001b[0m\n"
      ]
     },
     "metadata": {},
     "output_type": "display_data"
    },
    {
     "data": {
      "text/html": [
       "<pre style=\"white-space:pre;overflow-x:auto;line-height:normal;font-family:Menlo,'DejaVu Sans Mono',consolas,'Courier New',monospace\"><span style=\"color: #008080; text-decoration-color: #008080; font-weight: bold\">4</span>: Feature <span style=\"color: #008080; text-decoration-color: #008080; font-weight: bold\">13</span> <span style=\"font-weight: bold\">(</span>Quality: <span style=\"color: #008080; text-decoration-color: #008080; font-weight: bold\">-0.0000</span><span style=\"font-weight: bold\">)</span>\n",
       "</pre>\n"
      ],
      "text/plain": [
       "\u001b[1;36m4\u001b[0m: Feature \u001b[1;36m13\u001b[0m \u001b[1m(\u001b[0mQuality: \u001b[1;36m-0.0000\u001b[0m\u001b[1m)\u001b[0m\n"
      ]
     },
     "metadata": {},
     "output_type": "display_data"
    },
    {
     "data": {
      "text/html": [
       "<pre style=\"white-space:pre;overflow-x:auto;line-height:normal;font-family:Menlo,'DejaVu Sans Mono',consolas,'Courier New',monospace\"><span style=\"color: #008080; text-decoration-color: #008080; font-weight: bold\">5</span>: Feature <span style=\"color: #008080; text-decoration-color: #008080; font-weight: bold\">14</span> <span style=\"font-weight: bold\">(</span>Quality: <span style=\"color: #008080; text-decoration-color: #008080; font-weight: bold\">-0.0000</span><span style=\"font-weight: bold\">)</span>\n",
       "</pre>\n"
      ],
      "text/plain": [
       "\u001b[1;36m5\u001b[0m: Feature \u001b[1;36m14\u001b[0m \u001b[1m(\u001b[0mQuality: \u001b[1;36m-0.0000\u001b[0m\u001b[1m)\u001b[0m\n"
      ]
     },
     "metadata": {},
     "output_type": "display_data"
    },
    {
     "data": {
      "text/html": [
       "<pre style=\"white-space:pre;overflow-x:auto;line-height:normal;font-family:Menlo,'DejaVu Sans Mono',consolas,'Courier New',monospace\"><span style=\"color: #008080; text-decoration-color: #008080; font-weight: bold\">6</span>: Feature <span style=\"color: #008080; text-decoration-color: #008080; font-weight: bold\">18</span> <span style=\"font-weight: bold\">(</span>Quality: <span style=\"color: #008080; text-decoration-color: #008080; font-weight: bold\">-0.0000</span><span style=\"font-weight: bold\">)</span>\n",
       "</pre>\n"
      ],
      "text/plain": [
       "\u001b[1;36m6\u001b[0m: Feature \u001b[1;36m18\u001b[0m \u001b[1m(\u001b[0mQuality: \u001b[1;36m-0.0000\u001b[0m\u001b[1m)\u001b[0m\n"
      ]
     },
     "metadata": {},
     "output_type": "display_data"
    },
    {
     "data": {
      "text/html": [
       "<pre style=\"white-space:pre;overflow-x:auto;line-height:normal;font-family:Menlo,'DejaVu Sans Mono',consolas,'Courier New',monospace\"><span style=\"color: #008080; text-decoration-color: #008080; font-weight: bold\">7</span>: Feature <span style=\"color: #008080; text-decoration-color: #008080; font-weight: bold\">19</span> <span style=\"font-weight: bold\">(</span>Quality: <span style=\"color: #008080; text-decoration-color: #008080; font-weight: bold\">-0.0000</span><span style=\"font-weight: bold\">)</span>\n",
       "</pre>\n"
      ],
      "text/plain": [
       "\u001b[1;36m7\u001b[0m: Feature \u001b[1;36m19\u001b[0m \u001b[1m(\u001b[0mQuality: \u001b[1;36m-0.0000\u001b[0m\u001b[1m)\u001b[0m\n"
      ]
     },
     "metadata": {},
     "output_type": "display_data"
    },
    {
     "data": {
      "text/html": [
       "<pre style=\"white-space:pre;overflow-x:auto;line-height:normal;font-family:Menlo,'DejaVu Sans Mono',consolas,'Courier New',monospace\"><span style=\"color: #008080; text-decoration-color: #008080; font-weight: bold\">8</span>: Feature <span style=\"color: #008080; text-decoration-color: #008080; font-weight: bold\">20</span> <span style=\"font-weight: bold\">(</span>Quality: <span style=\"color: #008080; text-decoration-color: #008080; font-weight: bold\">-0.0000</span><span style=\"font-weight: bold\">)</span>\n",
       "</pre>\n"
      ],
      "text/plain": [
       "\u001b[1;36m8\u001b[0m: Feature \u001b[1;36m20\u001b[0m \u001b[1m(\u001b[0mQuality: \u001b[1;36m-0.0000\u001b[0m\u001b[1m)\u001b[0m\n"
      ]
     },
     "metadata": {},
     "output_type": "display_data"
    },
    {
     "data": {
      "text/html": [
       "<pre style=\"white-space:pre;overflow-x:auto;line-height:normal;font-family:Menlo,'DejaVu Sans Mono',consolas,'Courier New',monospace\"><span style=\"color: #008080; text-decoration-color: #008080; font-weight: bold\">9</span>: Feature <span style=\"color: #008080; text-decoration-color: #008080; font-weight: bold\">21</span> <span style=\"font-weight: bold\">(</span>Quality: <span style=\"color: #008080; text-decoration-color: #008080; font-weight: bold\">-0.0000</span><span style=\"font-weight: bold\">)</span>\n",
       "</pre>\n"
      ],
      "text/plain": [
       "\u001b[1;36m9\u001b[0m: Feature \u001b[1;36m21\u001b[0m \u001b[1m(\u001b[0mQuality: \u001b[1;36m-0.0000\u001b[0m\u001b[1m)\u001b[0m\n"
      ]
     },
     "metadata": {},
     "output_type": "display_data"
    },
    {
     "data": {
      "text/html": [
       "<pre style=\"white-space:pre;overflow-x:auto;line-height:normal;font-family:Menlo,'DejaVu Sans Mono',consolas,'Courier New',monospace\"><span style=\"color: #008080; text-decoration-color: #008080; font-weight: bold\">10</span>: Feature <span style=\"color: #008080; text-decoration-color: #008080; font-weight: bold\">2</span> <span style=\"font-weight: bold\">(</span>Quality: <span style=\"color: #008080; text-decoration-color: #008080; font-weight: bold\">-0.0279</span><span style=\"font-weight: bold\">)</span>\n",
       "</pre>\n"
      ],
      "text/plain": [
       "\u001b[1;36m10\u001b[0m: Feature \u001b[1;36m2\u001b[0m \u001b[1m(\u001b[0mQuality: \u001b[1;36m-0.0279\u001b[0m\u001b[1m)\u001b[0m\n"
      ]
     },
     "metadata": {},
     "output_type": "display_data"
    },
    {
     "data": {
      "text/html": [
       "<pre style=\"white-space:pre;overflow-x:auto;line-height:normal;font-family:Menlo,'DejaVu Sans Mono',consolas,'Courier New',monospace\"><span style=\"color: #008080; text-decoration-color: #008080; font-weight: bold\">11</span>: Feature <span style=\"color: #008080; text-decoration-color: #008080; font-weight: bold\">17</span> <span style=\"font-weight: bold\">(</span>Quality: <span style=\"color: #008080; text-decoration-color: #008080; font-weight: bold\">-0.0283</span><span style=\"font-weight: bold\">)</span>\n",
       "</pre>\n"
      ],
      "text/plain": [
       "\u001b[1;36m11\u001b[0m: Feature \u001b[1;36m17\u001b[0m \u001b[1m(\u001b[0mQuality: \u001b[1;36m-0.0283\u001b[0m\u001b[1m)\u001b[0m\n"
      ]
     },
     "metadata": {},
     "output_type": "display_data"
    },
    {
     "data": {
      "text/html": [
       "<pre style=\"white-space:pre;overflow-x:auto;line-height:normal;font-family:Menlo,'DejaVu Sans Mono',consolas,'Courier New',monospace\"><span style=\"color: #008080; text-decoration-color: #008080; font-weight: bold\">12</span>: Feature <span style=\"color: #008080; text-decoration-color: #008080; font-weight: bold\">0</span> <span style=\"font-weight: bold\">(</span>Quality: <span style=\"color: #008080; text-decoration-color: #008080; font-weight: bold\">-0.0484</span><span style=\"font-weight: bold\">)</span>\n",
       "</pre>\n"
      ],
      "text/plain": [
       "\u001b[1;36m12\u001b[0m: Feature \u001b[1;36m0\u001b[0m \u001b[1m(\u001b[0mQuality: \u001b[1;36m-0.0484\u001b[0m\u001b[1m)\u001b[0m\n"
      ]
     },
     "metadata": {},
     "output_type": "display_data"
    },
    {
     "data": {
      "text/html": [
       "<pre style=\"white-space:pre;overflow-x:auto;line-height:normal;font-family:Menlo,'DejaVu Sans Mono',consolas,'Courier New',monospace\"><span style=\"color: #008080; text-decoration-color: #008080; font-weight: bold\">13</span>: Feature <span style=\"color: #008080; text-decoration-color: #008080; font-weight: bold\">8</span> <span style=\"font-weight: bold\">(</span>Quality: <span style=\"color: #008080; text-decoration-color: #008080; font-weight: bold\">-0.0675</span><span style=\"font-weight: bold\">)</span>\n",
       "</pre>\n"
      ],
      "text/plain": [
       "\u001b[1;36m13\u001b[0m: Feature \u001b[1;36m8\u001b[0m \u001b[1m(\u001b[0mQuality: \u001b[1;36m-0.0675\u001b[0m\u001b[1m)\u001b[0m\n"
      ]
     },
     "metadata": {},
     "output_type": "display_data"
    },
    {
     "data": {
      "text/html": [
       "<pre style=\"white-space:pre;overflow-x:auto;line-height:normal;font-family:Menlo,'DejaVu Sans Mono',consolas,'Courier New',monospace\"><span style=\"color: #008080; text-decoration-color: #008080; font-weight: bold\">14</span>: Feature <span style=\"color: #008080; text-decoration-color: #008080; font-weight: bold\">5</span> <span style=\"font-weight: bold\">(</span>Quality: <span style=\"color: #008080; text-decoration-color: #008080; font-weight: bold\">-0.0890</span><span style=\"font-weight: bold\">)</span>\n",
       "</pre>\n"
      ],
      "text/plain": [
       "\u001b[1;36m14\u001b[0m: Feature \u001b[1;36m5\u001b[0m \u001b[1m(\u001b[0mQuality: \u001b[1;36m-0.0890\u001b[0m\u001b[1m)\u001b[0m\n"
      ]
     },
     "metadata": {},
     "output_type": "display_data"
    },
    {
     "data": {
      "text/html": [
       "<pre style=\"white-space:pre;overflow-x:auto;line-height:normal;font-family:Menlo,'DejaVu Sans Mono',consolas,'Courier New',monospace\"><span style=\"color: #008080; text-decoration-color: #008080; font-weight: bold\">15</span>: Feature <span style=\"color: #008080; text-decoration-color: #008080; font-weight: bold\">6</span> <span style=\"font-weight: bold\">(</span>Quality: <span style=\"color: #008080; text-decoration-color: #008080; font-weight: bold\">-0.1210</span><span style=\"font-weight: bold\">)</span>\n",
       "</pre>\n"
      ],
      "text/plain": [
       "\u001b[1;36m15\u001b[0m: Feature \u001b[1;36m6\u001b[0m \u001b[1m(\u001b[0mQuality: \u001b[1;36m-0.1210\u001b[0m\u001b[1m)\u001b[0m\n"
      ]
     },
     "metadata": {},
     "output_type": "display_data"
    },
    {
     "data": {
      "text/html": [
       "<pre style=\"white-space:pre;overflow-x:auto;line-height:normal;font-family:Menlo,'DejaVu Sans Mono',consolas,'Courier New',monospace\"><span style=\"color: #008080; text-decoration-color: #008080; font-weight: bold\">16</span>: Feature <span style=\"color: #008080; text-decoration-color: #008080; font-weight: bold\">7</span> <span style=\"font-weight: bold\">(</span>Quality: <span style=\"color: #008080; text-decoration-color: #008080; font-weight: bold\">-0.1210</span><span style=\"font-weight: bold\">)</span>\n",
       "</pre>\n"
      ],
      "text/plain": [
       "\u001b[1;36m16\u001b[0m: Feature \u001b[1;36m7\u001b[0m \u001b[1m(\u001b[0mQuality: \u001b[1;36m-0.1210\u001b[0m\u001b[1m)\u001b[0m\n"
      ]
     },
     "metadata": {},
     "output_type": "display_data"
    },
    {
     "data": {
      "text/html": [
       "<pre style=\"white-space:pre;overflow-x:auto;line-height:normal;font-family:Menlo,'DejaVu Sans Mono',consolas,'Courier New',monospace\"><span style=\"color: #008080; text-decoration-color: #008080; font-weight: bold\">17</span>: Feature <span style=\"color: #008080; text-decoration-color: #008080; font-weight: bold\">16</span> <span style=\"font-weight: bold\">(</span>Quality: <span style=\"color: #008080; text-decoration-color: #008080; font-weight: bold\">-0.1210</span><span style=\"font-weight: bold\">)</span>\n",
       "</pre>\n"
      ],
      "text/plain": [
       "\u001b[1;36m17\u001b[0m: Feature \u001b[1;36m16\u001b[0m \u001b[1m(\u001b[0mQuality: \u001b[1;36m-0.1210\u001b[0m\u001b[1m)\u001b[0m\n"
      ]
     },
     "metadata": {},
     "output_type": "display_data"
    },
    {
     "data": {
      "text/html": [
       "<pre style=\"white-space:pre;overflow-x:auto;line-height:normal;font-family:Menlo,'DejaVu Sans Mono',consolas,'Courier New',monospace\"><span style=\"color: #008080; text-decoration-color: #008080; font-weight: bold\">18</span>: Feature <span style=\"color: #008080; text-decoration-color: #008080; font-weight: bold\">1</span> <span style=\"font-weight: bold\">(</span>Quality: <span style=\"color: #008080; text-decoration-color: #008080; font-weight: bold\">-0.1351</span><span style=\"font-weight: bold\">)</span>\n",
       "</pre>\n"
      ],
      "text/plain": [
       "\u001b[1;36m18\u001b[0m: Feature \u001b[1;36m1\u001b[0m \u001b[1m(\u001b[0mQuality: \u001b[1;36m-0.1351\u001b[0m\u001b[1m)\u001b[0m\n"
      ]
     },
     "metadata": {},
     "output_type": "display_data"
    },
    {
     "data": {
      "text/html": [
       "<pre style=\"white-space:pre;overflow-x:auto;line-height:normal;font-family:Menlo,'DejaVu Sans Mono',consolas,'Courier New',monospace\"><span style=\"color: #008080; text-decoration-color: #008080; font-weight: bold\">19</span>: Feature <span style=\"color: #008080; text-decoration-color: #008080; font-weight: bold\">9</span> <span style=\"font-weight: bold\">(</span>Quality: <span style=\"color: #008080; text-decoration-color: #008080; font-weight: bold\">-0.1457</span><span style=\"font-weight: bold\">)</span>\n",
       "</pre>\n"
      ],
      "text/plain": [
       "\u001b[1;36m19\u001b[0m: Feature \u001b[1;36m9\u001b[0m \u001b[1m(\u001b[0mQuality: \u001b[1;36m-0.1457\u001b[0m\u001b[1m)\u001b[0m\n"
      ]
     },
     "metadata": {},
     "output_type": "display_data"
    },
    {
     "data": {
      "text/html": [
       "<pre style=\"white-space:pre;overflow-x:auto;line-height:normal;font-family:Menlo,'DejaVu Sans Mono',consolas,'Courier New',monospace\"><span style=\"color: #008080; text-decoration-color: #008080; font-weight: bold\">20</span>: Feature <span style=\"color: #008080; text-decoration-color: #008080; font-weight: bold\">15</span> <span style=\"font-weight: bold\">(</span>Quality: <span style=\"color: #008080; text-decoration-color: #008080; font-weight: bold\">-0.1457</span><span style=\"font-weight: bold\">)</span>\n",
       "</pre>\n"
      ],
      "text/plain": [
       "\u001b[1;36m20\u001b[0m: Feature \u001b[1;36m15\u001b[0m \u001b[1m(\u001b[0mQuality: \u001b[1;36m-0.1457\u001b[0m\u001b[1m)\u001b[0m\n"
      ]
     },
     "metadata": {},
     "output_type": "display_data"
    },
    {
     "data": {
      "text/html": [
       "<pre style=\"white-space:pre;overflow-x:auto;line-height:normal;font-family:Menlo,'DejaVu Sans Mono',consolas,'Courier New',monospace\">Smiliar quality for features:\n",
       "</pre>\n"
      ],
      "text/plain": [
       "Smiliar quality for features:\n"
      ]
     },
     "metadata": {},
     "output_type": "display_data"
    },
    {
     "data": {
      "text/html": [
       "<pre style=\"white-space:pre;overflow-x:auto;line-height:normal;font-family:Menlo,'DejaVu Sans Mono',consolas,'Courier New',monospace\"><span style=\"color: #008080; text-decoration-color: #008080; font-weight: bold\">0</span>: Feature <span style=\"color: #008080; text-decoration-color: #008080; font-weight: bold\">3</span> <span style=\"font-weight: bold\">(</span>Quality: <span style=\"color: #008080; text-decoration-color: #008080; font-weight: bold\">-0.0000</span><span style=\"font-weight: bold\">)</span>\n",
       "</pre>\n"
      ],
      "text/plain": [
       "\u001b[1;36m0\u001b[0m: Feature \u001b[1;36m3\u001b[0m \u001b[1m(\u001b[0mQuality: \u001b[1;36m-0.0000\u001b[0m\u001b[1m)\u001b[0m\n"
      ]
     },
     "metadata": {},
     "output_type": "display_data"
    },
    {
     "data": {
      "text/html": [
       "<pre style=\"white-space:pre;overflow-x:auto;line-height:normal;font-family:Menlo,'DejaVu Sans Mono',consolas,'Courier New',monospace\"><span style=\"color: #008080; text-decoration-color: #008080; font-weight: bold\">1</span>: Feature <span style=\"color: #008080; text-decoration-color: #008080; font-weight: bold\">4</span> <span style=\"font-weight: bold\">(</span>Quality: <span style=\"color: #008080; text-decoration-color: #008080; font-weight: bold\">-0.0000</span><span style=\"font-weight: bold\">)</span>\n",
       "</pre>\n"
      ],
      "text/plain": [
       "\u001b[1;36m1\u001b[0m: Feature \u001b[1;36m4\u001b[0m \u001b[1m(\u001b[0mQuality: \u001b[1;36m-0.0000\u001b[0m\u001b[1m)\u001b[0m\n"
      ]
     },
     "metadata": {},
     "output_type": "display_data"
    },
    {
     "data": {
      "text/html": [
       "<pre style=\"white-space:pre;overflow-x:auto;line-height:normal;font-family:Menlo,'DejaVu Sans Mono',consolas,'Courier New',monospace\"><span style=\"color: #008080; text-decoration-color: #008080; font-weight: bold\">2</span>: Feature <span style=\"color: #008080; text-decoration-color: #008080; font-weight: bold\">6</span> <span style=\"font-weight: bold\">(</span>Quality: <span style=\"color: #008080; text-decoration-color: #008080; font-weight: bold\">-0.1247</span><span style=\"font-weight: bold\">)</span>\n",
       "</pre>\n"
      ],
      "text/plain": [
       "\u001b[1;36m2\u001b[0m: Feature \u001b[1;36m6\u001b[0m \u001b[1m(\u001b[0mQuality: \u001b[1;36m-0.1247\u001b[0m\u001b[1m)\u001b[0m\n"
      ]
     },
     "metadata": {},
     "output_type": "display_data"
    },
    {
     "data": {
      "text/html": [
       "<pre style=\"white-space:pre;overflow-x:auto;line-height:normal;font-family:Menlo,'DejaVu Sans Mono',consolas,'Courier New',monospace\"><span style=\"color: #008080; text-decoration-color: #008080; font-weight: bold\">3</span>: Feature <span style=\"color: #008080; text-decoration-color: #008080; font-weight: bold\">7</span> <span style=\"font-weight: bold\">(</span>Quality: <span style=\"color: #008080; text-decoration-color: #008080; font-weight: bold\">-0.1247</span><span style=\"font-weight: bold\">)</span>\n",
       "</pre>\n"
      ],
      "text/plain": [
       "\u001b[1;36m3\u001b[0m: Feature \u001b[1;36m7\u001b[0m \u001b[1m(\u001b[0mQuality: \u001b[1;36m-0.1247\u001b[0m\u001b[1m)\u001b[0m\n"
      ]
     },
     "metadata": {},
     "output_type": "display_data"
    },
    {
     "data": {
      "text/html": [
       "<pre style=\"white-space:pre;overflow-x:auto;line-height:normal;font-family:Menlo,'DejaVu Sans Mono',consolas,'Courier New',monospace\"><span style=\"color: #008080; text-decoration-color: #008080; font-weight: bold\">4</span>: Feature <span style=\"color: #008080; text-decoration-color: #008080; font-weight: bold\">9</span> <span style=\"font-weight: bold\">(</span>Quality: <span style=\"color: #008080; text-decoration-color: #008080; font-weight: bold\">-0.1247</span><span style=\"font-weight: bold\">)</span>\n",
       "</pre>\n"
      ],
      "text/plain": [
       "\u001b[1;36m4\u001b[0m: Feature \u001b[1;36m9\u001b[0m \u001b[1m(\u001b[0mQuality: \u001b[1;36m-0.1247\u001b[0m\u001b[1m)\u001b[0m\n"
      ]
     },
     "metadata": {},
     "output_type": "display_data"
    },
    {
     "data": {
      "text/html": [
       "<pre style=\"white-space:pre;overflow-x:auto;line-height:normal;font-family:Menlo,'DejaVu Sans Mono',consolas,'Courier New',monospace\"><span style=\"color: #008080; text-decoration-color: #008080; font-weight: bold\">5</span>: Feature <span style=\"color: #008080; text-decoration-color: #008080; font-weight: bold\">18</span> <span style=\"font-weight: bold\">(</span>Quality: <span style=\"color: #008080; text-decoration-color: #008080; font-weight: bold\">-0.1247</span><span style=\"font-weight: bold\">)</span>\n",
       "</pre>\n"
      ],
      "text/plain": [
       "\u001b[1;36m5\u001b[0m: Feature \u001b[1;36m18\u001b[0m \u001b[1m(\u001b[0mQuality: \u001b[1;36m-0.1247\u001b[0m\u001b[1m)\u001b[0m\n"
      ]
     },
     "metadata": {},
     "output_type": "display_data"
    },
    {
     "data": {
      "text/html": [
       "<pre style=\"white-space:pre;overflow-x:auto;line-height:normal;font-family:Menlo,'DejaVu Sans Mono',consolas,'Courier New',monospace\"><span style=\"color: #008080; text-decoration-color: #008080; font-weight: bold\">6</span>: Feature <span style=\"color: #008080; text-decoration-color: #008080; font-weight: bold\">1</span> <span style=\"font-weight: bold\">(</span>Quality: <span style=\"color: #008080; text-decoration-color: #008080; font-weight: bold\">-0.1714</span><span style=\"font-weight: bold\">)</span>\n",
       "</pre>\n"
      ],
      "text/plain": [
       "\u001b[1;36m6\u001b[0m: Feature \u001b[1;36m1\u001b[0m \u001b[1m(\u001b[0mQuality: \u001b[1;36m-0.1714\u001b[0m\u001b[1m)\u001b[0m\n"
      ]
     },
     "metadata": {},
     "output_type": "display_data"
    },
    {
     "data": {
      "text/html": [
       "<pre style=\"white-space:pre;overflow-x:auto;line-height:normal;font-family:Menlo,'DejaVu Sans Mono',consolas,'Courier New',monospace\"><span style=\"color: #008080; text-decoration-color: #008080; font-weight: bold\">7</span>: Feature <span style=\"color: #008080; text-decoration-color: #008080; font-weight: bold\">20</span> <span style=\"font-weight: bold\">(</span>Quality: <span style=\"color: #008080; text-decoration-color: #008080; font-weight: bold\">-0.2338</span><span style=\"font-weight: bold\">)</span>\n",
       "</pre>\n"
      ],
      "text/plain": [
       "\u001b[1;36m7\u001b[0m: Feature \u001b[1;36m20\u001b[0m \u001b[1m(\u001b[0mQuality: \u001b[1;36m-0.2338\u001b[0m\u001b[1m)\u001b[0m\n"
      ]
     },
     "metadata": {},
     "output_type": "display_data"
    },
    {
     "data": {
      "text/html": [
       "<pre style=\"white-space:pre;overflow-x:auto;line-height:normal;font-family:Menlo,'DejaVu Sans Mono',consolas,'Courier New',monospace\"><span style=\"color: #008080; text-decoration-color: #008080; font-weight: bold\">8</span>: Feature <span style=\"color: #008080; text-decoration-color: #008080; font-weight: bold\">8</span> <span style=\"font-weight: bold\">(</span>Quality: <span style=\"color: #008080; text-decoration-color: #008080; font-weight: bold\">-0.2645</span><span style=\"font-weight: bold\">)</span>\n",
       "</pre>\n"
      ],
      "text/plain": [
       "\u001b[1;36m8\u001b[0m: Feature \u001b[1;36m8\u001b[0m \u001b[1m(\u001b[0mQuality: \u001b[1;36m-0.2645\u001b[0m\u001b[1m)\u001b[0m\n"
      ]
     },
     "metadata": {},
     "output_type": "display_data"
    },
    {
     "data": {
      "text/html": [
       "<pre style=\"white-space:pre;overflow-x:auto;line-height:normal;font-family:Menlo,'DejaVu Sans Mono',consolas,'Courier New',monospace\"><span style=\"color: #008080; text-decoration-color: #008080; font-weight: bold\">9</span>: Feature <span style=\"color: #008080; text-decoration-color: #008080; font-weight: bold\">21</span> <span style=\"font-weight: bold\">(</span>Quality: <span style=\"color: #008080; text-decoration-color: #008080; font-weight: bold\">-0.2939</span><span style=\"font-weight: bold\">)</span>\n",
       "</pre>\n"
      ],
      "text/plain": [
       "\u001b[1;36m9\u001b[0m: Feature \u001b[1;36m21\u001b[0m \u001b[1m(\u001b[0mQuality: \u001b[1;36m-0.2939\u001b[0m\u001b[1m)\u001b[0m\n"
      ]
     },
     "metadata": {},
     "output_type": "display_data"
    },
    {
     "data": {
      "text/html": [
       "<pre style=\"white-space:pre;overflow-x:auto;line-height:normal;font-family:Menlo,'DejaVu Sans Mono',consolas,'Courier New',monospace\"><span style=\"color: #008080; text-decoration-color: #008080; font-weight: bold\">10</span>: Feature <span style=\"color: #008080; text-decoration-color: #008080; font-weight: bold\">11</span> <span style=\"font-weight: bold\">(</span>Quality: <span style=\"color: #008080; text-decoration-color: #008080; font-weight: bold\">-0.2981</span><span style=\"font-weight: bold\">)</span>\n",
       "</pre>\n"
      ],
      "text/plain": [
       "\u001b[1;36m10\u001b[0m: Feature \u001b[1;36m11\u001b[0m \u001b[1m(\u001b[0mQuality: \u001b[1;36m-0.2981\u001b[0m\u001b[1m)\u001b[0m\n"
      ]
     },
     "metadata": {},
     "output_type": "display_data"
    },
    {
     "data": {
      "text/html": [
       "<pre style=\"white-space:pre;overflow-x:auto;line-height:normal;font-family:Menlo,'DejaVu Sans Mono',consolas,'Courier New',monospace\"><span style=\"color: #008080; text-decoration-color: #008080; font-weight: bold\">11</span>: Feature <span style=\"color: #008080; text-decoration-color: #008080; font-weight: bold\">12</span> <span style=\"font-weight: bold\">(</span>Quality: <span style=\"color: #008080; text-decoration-color: #008080; font-weight: bold\">-0.2981</span><span style=\"font-weight: bold\">)</span>\n",
       "</pre>\n"
      ],
      "text/plain": [
       "\u001b[1;36m11\u001b[0m: Feature \u001b[1;36m12\u001b[0m \u001b[1m(\u001b[0mQuality: \u001b[1;36m-0.2981\u001b[0m\u001b[1m)\u001b[0m\n"
      ]
     },
     "metadata": {},
     "output_type": "display_data"
    },
    {
     "data": {
      "text/html": [
       "<pre style=\"white-space:pre;overflow-x:auto;line-height:normal;font-family:Menlo,'DejaVu Sans Mono',consolas,'Courier New',monospace\"><span style=\"color: #008080; text-decoration-color: #008080; font-weight: bold\">12</span>: Feature <span style=\"color: #008080; text-decoration-color: #008080; font-weight: bold\">2</span> <span style=\"font-weight: bold\">(</span>Quality: <span style=\"color: #008080; text-decoration-color: #008080; font-weight: bold\">-0.3132</span><span style=\"font-weight: bold\">)</span>\n",
       "</pre>\n"
      ],
      "text/plain": [
       "\u001b[1;36m12\u001b[0m: Feature \u001b[1;36m2\u001b[0m \u001b[1m(\u001b[0mQuality: \u001b[1;36m-0.3132\u001b[0m\u001b[1m)\u001b[0m\n"
      ]
     },
     "metadata": {},
     "output_type": "display_data"
    },
    {
     "data": {
      "text/html": [
       "<pre style=\"white-space:pre;overflow-x:auto;line-height:normal;font-family:Menlo,'DejaVu Sans Mono',consolas,'Courier New',monospace\"><span style=\"color: #008080; text-decoration-color: #008080; font-weight: bold\">13</span>: Feature <span style=\"color: #008080; text-decoration-color: #008080; font-weight: bold\">0</span> <span style=\"font-weight: bold\">(</span>Quality: <span style=\"color: #008080; text-decoration-color: #008080; font-weight: bold\">-0.3496</span><span style=\"font-weight: bold\">)</span>\n",
       "</pre>\n"
      ],
      "text/plain": [
       "\u001b[1;36m13\u001b[0m: Feature \u001b[1;36m0\u001b[0m \u001b[1m(\u001b[0mQuality: \u001b[1;36m-0.3496\u001b[0m\u001b[1m)\u001b[0m\n"
      ]
     },
     "metadata": {},
     "output_type": "display_data"
    },
    {
     "data": {
      "text/html": [
       "<pre style=\"white-space:pre;overflow-x:auto;line-height:normal;font-family:Menlo,'DejaVu Sans Mono',consolas,'Courier New',monospace\"><span style=\"color: #008080; text-decoration-color: #008080; font-weight: bold\">14</span>: Feature <span style=\"color: #008080; text-decoration-color: #008080; font-weight: bold\">5</span> <span style=\"font-weight: bold\">(</span>Quality: <span style=\"color: #008080; text-decoration-color: #008080; font-weight: bold\">-0.3527</span><span style=\"font-weight: bold\">)</span>\n",
       "</pre>\n"
      ],
      "text/plain": [
       "\u001b[1;36m14\u001b[0m: Feature \u001b[1;36m5\u001b[0m \u001b[1m(\u001b[0mQuality: \u001b[1;36m-0.3527\u001b[0m\u001b[1m)\u001b[0m\n"
      ]
     },
     "metadata": {},
     "output_type": "display_data"
    },
    {
     "data": {
      "text/html": [
       "<pre style=\"white-space:pre;overflow-x:auto;line-height:normal;font-family:Menlo,'DejaVu Sans Mono',consolas,'Courier New',monospace\"><span style=\"color: #008080; text-decoration-color: #008080; font-weight: bold\">15</span>: Feature <span style=\"color: #008080; text-decoration-color: #008080; font-weight: bold\">13</span> <span style=\"font-weight: bold\">(</span>Quality: <span style=\"color: #008080; text-decoration-color: #008080; font-weight: bold\">-0.3527</span><span style=\"font-weight: bold\">)</span>\n",
       "</pre>\n"
      ],
      "text/plain": [
       "\u001b[1;36m15\u001b[0m: Feature \u001b[1;36m13\u001b[0m \u001b[1m(\u001b[0mQuality: \u001b[1;36m-0.3527\u001b[0m\u001b[1m)\u001b[0m\n"
      ]
     },
     "metadata": {},
     "output_type": "display_data"
    },
    {
     "data": {
      "text/html": [
       "<pre style=\"white-space:pre;overflow-x:auto;line-height:normal;font-family:Menlo,'DejaVu Sans Mono',consolas,'Courier New',monospace\"><span style=\"color: #008080; text-decoration-color: #008080; font-weight: bold\">16</span>: Feature <span style=\"color: #008080; text-decoration-color: #008080; font-weight: bold\">14</span> <span style=\"font-weight: bold\">(</span>Quality: <span style=\"color: #008080; text-decoration-color: #008080; font-weight: bold\">-0.3527</span><span style=\"font-weight: bold\">)</span>\n",
       "</pre>\n"
      ],
      "text/plain": [
       "\u001b[1;36m16\u001b[0m: Feature \u001b[1;36m14\u001b[0m \u001b[1m(\u001b[0mQuality: \u001b[1;36m-0.3527\u001b[0m\u001b[1m)\u001b[0m\n"
      ]
     },
     "metadata": {},
     "output_type": "display_data"
    },
    {
     "data": {
      "text/html": [
       "<pre style=\"white-space:pre;overflow-x:auto;line-height:normal;font-family:Menlo,'DejaVu Sans Mono',consolas,'Courier New',monospace\"><span style=\"color: #008080; text-decoration-color: #008080; font-weight: bold\">17</span>: Feature <span style=\"color: #008080; text-decoration-color: #008080; font-weight: bold\">15</span> <span style=\"font-weight: bold\">(</span>Quality: <span style=\"color: #008080; text-decoration-color: #008080; font-weight: bold\">-0.3527</span><span style=\"font-weight: bold\">)</span>\n",
       "</pre>\n"
      ],
      "text/plain": [
       "\u001b[1;36m17\u001b[0m: Feature \u001b[1;36m15\u001b[0m \u001b[1m(\u001b[0mQuality: \u001b[1;36m-0.3527\u001b[0m\u001b[1m)\u001b[0m\n"
      ]
     },
     "metadata": {},
     "output_type": "display_data"
    },
    {
     "data": {
      "text/html": [
       "<pre style=\"white-space:pre;overflow-x:auto;line-height:normal;font-family:Menlo,'DejaVu Sans Mono',consolas,'Courier New',monospace\"><span style=\"color: #008080; text-decoration-color: #008080; font-weight: bold\">18</span>: Feature <span style=\"color: #008080; text-decoration-color: #008080; font-weight: bold\">16</span> <span style=\"font-weight: bold\">(</span>Quality: <span style=\"color: #008080; text-decoration-color: #008080; font-weight: bold\">-0.3527</span><span style=\"font-weight: bold\">)</span>\n",
       "</pre>\n"
      ],
      "text/plain": [
       "\u001b[1;36m18\u001b[0m: Feature \u001b[1;36m16\u001b[0m \u001b[1m(\u001b[0mQuality: \u001b[1;36m-0.3527\u001b[0m\u001b[1m)\u001b[0m\n"
      ]
     },
     "metadata": {},
     "output_type": "display_data"
    },
    {
     "data": {
      "text/html": [
       "<pre style=\"white-space:pre;overflow-x:auto;line-height:normal;font-family:Menlo,'DejaVu Sans Mono',consolas,'Courier New',monospace\"><span style=\"color: #008080; text-decoration-color: #008080; font-weight: bold\">19</span>: Feature <span style=\"color: #008080; text-decoration-color: #008080; font-weight: bold\">17</span> <span style=\"font-weight: bold\">(</span>Quality: <span style=\"color: #008080; text-decoration-color: #008080; font-weight: bold\">-0.3527</span><span style=\"font-weight: bold\">)</span>\n",
       "</pre>\n"
      ],
      "text/plain": [
       "\u001b[1;36m19\u001b[0m: Feature \u001b[1;36m17\u001b[0m \u001b[1m(\u001b[0mQuality: \u001b[1;36m-0.3527\u001b[0m\u001b[1m)\u001b[0m\n"
      ]
     },
     "metadata": {},
     "output_type": "display_data"
    },
    {
     "data": {
      "text/html": [
       "<pre style=\"white-space:pre;overflow-x:auto;line-height:normal;font-family:Menlo,'DejaVu Sans Mono',consolas,'Courier New',monospace\"><span style=\"color: #008080; text-decoration-color: #008080; font-weight: bold\">20</span>: Feature <span style=\"color: #008080; text-decoration-color: #008080; font-weight: bold\">19</span> <span style=\"font-weight: bold\">(</span>Quality: <span style=\"color: #008080; text-decoration-color: #008080; font-weight: bold\">-0.3527</span><span style=\"font-weight: bold\">)</span>\n",
       "</pre>\n"
      ],
      "text/plain": [
       "\u001b[1;36m20\u001b[0m: Feature \u001b[1;36m19\u001b[0m \u001b[1m(\u001b[0mQuality: \u001b[1;36m-0.3527\u001b[0m\u001b[1m)\u001b[0m\n"
      ]
     },
     "metadata": {},
     "output_type": "display_data"
    },
    {
     "data": {
      "text/html": [
       "<pre style=\"white-space:pre;overflow-x:auto;line-height:normal;font-family:Menlo,'DejaVu Sans Mono',consolas,'Courier New',monospace\">Smiliar quality for features:\n",
       "</pre>\n"
      ],
      "text/plain": [
       "Smiliar quality for features:\n"
      ]
     },
     "metadata": {},
     "output_type": "display_data"
    },
    {
     "data": {
      "text/html": [
       "<pre style=\"white-space:pre;overflow-x:auto;line-height:normal;font-family:Menlo,'DejaVu Sans Mono',consolas,'Courier New',monospace\"><span style=\"color: #008080; text-decoration-color: #008080; font-weight: bold\">0</span>: Feature <span style=\"color: #008080; text-decoration-color: #008080; font-weight: bold\">8</span> <span style=\"font-weight: bold\">(</span>Quality: <span style=\"color: #008080; text-decoration-color: #008080; font-weight: bold\">-0.0223</span><span style=\"font-weight: bold\">)</span>\n",
       "</pre>\n"
      ],
      "text/plain": [
       "\u001b[1;36m0\u001b[0m: Feature \u001b[1;36m8\u001b[0m \u001b[1m(\u001b[0mQuality: \u001b[1;36m-0.0223\u001b[0m\u001b[1m)\u001b[0m\n"
      ]
     },
     "metadata": {},
     "output_type": "display_data"
    },
    {
     "data": {
      "text/html": [
       "<pre style=\"white-space:pre;overflow-x:auto;line-height:normal;font-family:Menlo,'DejaVu Sans Mono',consolas,'Courier New',monospace\"><span style=\"color: #008080; text-decoration-color: #008080; font-weight: bold\">1</span>: Feature <span style=\"color: #008080; text-decoration-color: #008080; font-weight: bold\">4</span> <span style=\"font-weight: bold\">(</span>Quality: <span style=\"color: #008080; text-decoration-color: #008080; font-weight: bold\">-0.0247</span><span style=\"font-weight: bold\">)</span>\n",
       "</pre>\n"
      ],
      "text/plain": [
       "\u001b[1;36m1\u001b[0m: Feature \u001b[1;36m4\u001b[0m \u001b[1m(\u001b[0mQuality: \u001b[1;36m-0.0247\u001b[0m\u001b[1m)\u001b[0m\n"
      ]
     },
     "metadata": {},
     "output_type": "display_data"
    },
    {
     "data": {
      "text/html": [
       "<pre style=\"white-space:pre;overflow-x:auto;line-height:normal;font-family:Menlo,'DejaVu Sans Mono',consolas,'Courier New',monospace\"><span style=\"color: #008080; text-decoration-color: #008080; font-weight: bold\">2</span>: Feature <span style=\"color: #008080; text-decoration-color: #008080; font-weight: bold\">9</span> <span style=\"font-weight: bold\">(</span>Quality: <span style=\"color: #008080; text-decoration-color: #008080; font-weight: bold\">-0.0247</span><span style=\"font-weight: bold\">)</span>\n",
       "</pre>\n"
      ],
      "text/plain": [
       "\u001b[1;36m2\u001b[0m: Feature \u001b[1;36m9\u001b[0m \u001b[1m(\u001b[0mQuality: \u001b[1;36m-0.0247\u001b[0m\u001b[1m)\u001b[0m\n"
      ]
     },
     "metadata": {},
     "output_type": "display_data"
    },
    {
     "data": {
      "text/html": [
       "<pre style=\"white-space:pre;overflow-x:auto;line-height:normal;font-family:Menlo,'DejaVu Sans Mono',consolas,'Courier New',monospace\"><span style=\"color: #008080; text-decoration-color: #008080; font-weight: bold\">3</span>: Feature <span style=\"color: #008080; text-decoration-color: #008080; font-weight: bold\">7</span> <span style=\"font-weight: bold\">(</span>Quality: <span style=\"color: #008080; text-decoration-color: #008080; font-weight: bold\">-0.0377</span><span style=\"font-weight: bold\">)</span>\n",
       "</pre>\n"
      ],
      "text/plain": [
       "\u001b[1;36m3\u001b[0m: Feature \u001b[1;36m7\u001b[0m \u001b[1m(\u001b[0mQuality: \u001b[1;36m-0.0377\u001b[0m\u001b[1m)\u001b[0m\n"
      ]
     },
     "metadata": {},
     "output_type": "display_data"
    },
    {
     "data": {
      "text/html": [
       "<pre style=\"white-space:pre;overflow-x:auto;line-height:normal;font-family:Menlo,'DejaVu Sans Mono',consolas,'Courier New',monospace\"><span style=\"color: #008080; text-decoration-color: #008080; font-weight: bold\">4</span>: Feature <span style=\"color: #008080; text-decoration-color: #008080; font-weight: bold\">20</span> <span style=\"font-weight: bold\">(</span>Quality: <span style=\"color: #008080; text-decoration-color: #008080; font-weight: bold\">-0.0906</span><span style=\"font-weight: bold\">)</span>\n",
       "</pre>\n"
      ],
      "text/plain": [
       "\u001b[1;36m4\u001b[0m: Feature \u001b[1;36m20\u001b[0m \u001b[1m(\u001b[0mQuality: \u001b[1;36m-0.0906\u001b[0m\u001b[1m)\u001b[0m\n"
      ]
     },
     "metadata": {},
     "output_type": "display_data"
    },
    {
     "data": {
      "text/html": [
       "<pre style=\"white-space:pre;overflow-x:auto;line-height:normal;font-family:Menlo,'DejaVu Sans Mono',consolas,'Courier New',monospace\"><span style=\"color: #008080; text-decoration-color: #008080; font-weight: bold\">5</span>: Feature <span style=\"color: #008080; text-decoration-color: #008080; font-weight: bold\">18</span> <span style=\"font-weight: bold\">(</span>Quality: <span style=\"color: #008080; text-decoration-color: #008080; font-weight: bold\">-0.1396</span><span style=\"font-weight: bold\">)</span>\n",
       "</pre>\n"
      ],
      "text/plain": [
       "\u001b[1;36m5\u001b[0m: Feature \u001b[1;36m18\u001b[0m \u001b[1m(\u001b[0mQuality: \u001b[1;36m-0.1396\u001b[0m\u001b[1m)\u001b[0m\n"
      ]
     },
     "metadata": {},
     "output_type": "display_data"
    },
    {
     "data": {
      "text/html": [
       "<pre style=\"white-space:pre;overflow-x:auto;line-height:normal;font-family:Menlo,'DejaVu Sans Mono',consolas,'Courier New',monospace\"><span style=\"color: #008080; text-decoration-color: #008080; font-weight: bold\">6</span>: Feature <span style=\"color: #008080; text-decoration-color: #008080; font-weight: bold\">21</span> <span style=\"font-weight: bold\">(</span>Quality: <span style=\"color: #008080; text-decoration-color: #008080; font-weight: bold\">-0.1520</span><span style=\"font-weight: bold\">)</span>\n",
       "</pre>\n"
      ],
      "text/plain": [
       "\u001b[1;36m6\u001b[0m: Feature \u001b[1;36m21\u001b[0m \u001b[1m(\u001b[0mQuality: \u001b[1;36m-0.1520\u001b[0m\u001b[1m)\u001b[0m\n"
      ]
     },
     "metadata": {},
     "output_type": "display_data"
    },
    {
     "data": {
      "text/html": [
       "<pre style=\"white-space:pre;overflow-x:auto;line-height:normal;font-family:Menlo,'DejaVu Sans Mono',consolas,'Courier New',monospace\"><span style=\"color: #008080; text-decoration-color: #008080; font-weight: bold\">7</span>: Feature <span style=\"color: #008080; text-decoration-color: #008080; font-weight: bold\">17</span> <span style=\"font-weight: bold\">(</span>Quality: <span style=\"color: #008080; text-decoration-color: #008080; font-weight: bold\">-0.1703</span><span style=\"font-weight: bold\">)</span>\n",
       "</pre>\n"
      ],
      "text/plain": [
       "\u001b[1;36m7\u001b[0m: Feature \u001b[1;36m17\u001b[0m \u001b[1m(\u001b[0mQuality: \u001b[1;36m-0.1703\u001b[0m\u001b[1m)\u001b[0m\n"
      ]
     },
     "metadata": {},
     "output_type": "display_data"
    },
    {
     "data": {
      "text/html": [
       "<pre style=\"white-space:pre;overflow-x:auto;line-height:normal;font-family:Menlo,'DejaVu Sans Mono',consolas,'Courier New',monospace\"><span style=\"color: #008080; text-decoration-color: #008080; font-weight: bold\">8</span>: Feature <span style=\"color: #008080; text-decoration-color: #008080; font-weight: bold\">2</span> <span style=\"font-weight: bold\">(</span>Quality: <span style=\"color: #008080; text-decoration-color: #008080; font-weight: bold\">-0.1887</span><span style=\"font-weight: bold\">)</span>\n",
       "</pre>\n"
      ],
      "text/plain": [
       "\u001b[1;36m8\u001b[0m: Feature \u001b[1;36m2\u001b[0m \u001b[1m(\u001b[0mQuality: \u001b[1;36m-0.1887\u001b[0m\u001b[1m)\u001b[0m\n"
      ]
     },
     "metadata": {},
     "output_type": "display_data"
    },
    {
     "data": {
      "text/html": [
       "<pre style=\"white-space:pre;overflow-x:auto;line-height:normal;font-family:Menlo,'DejaVu Sans Mono',consolas,'Courier New',monospace\"><span style=\"color: #008080; text-decoration-color: #008080; font-weight: bold\">9</span>: Feature <span style=\"color: #008080; text-decoration-color: #008080; font-weight: bold\">14</span> <span style=\"font-weight: bold\">(</span>Quality: <span style=\"color: #008080; text-decoration-color: #008080; font-weight: bold\">-0.2323</span><span style=\"font-weight: bold\">)</span>\n",
       "</pre>\n"
      ],
      "text/plain": [
       "\u001b[1;36m9\u001b[0m: Feature \u001b[1;36m14\u001b[0m \u001b[1m(\u001b[0mQuality: \u001b[1;36m-0.2323\u001b[0m\u001b[1m)\u001b[0m\n"
      ]
     },
     "metadata": {},
     "output_type": "display_data"
    },
    {
     "data": {
      "text/html": [
       "<pre style=\"white-space:pre;overflow-x:auto;line-height:normal;font-family:Menlo,'DejaVu Sans Mono',consolas,'Courier New',monospace\"><span style=\"color: #008080; text-decoration-color: #008080; font-weight: bold\">10</span>: Feature <span style=\"color: #008080; text-decoration-color: #008080; font-weight: bold\">13</span> <span style=\"font-weight: bold\">(</span>Quality: <span style=\"color: #008080; text-decoration-color: #008080; font-weight: bold\">-0.2351</span><span style=\"font-weight: bold\">)</span>\n",
       "</pre>\n"
      ],
      "text/plain": [
       "\u001b[1;36m10\u001b[0m: Feature \u001b[1;36m13\u001b[0m \u001b[1m(\u001b[0mQuality: \u001b[1;36m-0.2351\u001b[0m\u001b[1m)\u001b[0m\n"
      ]
     },
     "metadata": {},
     "output_type": "display_data"
    },
    {
     "data": {
      "text/html": [
       "<pre style=\"white-space:pre;overflow-x:auto;line-height:normal;font-family:Menlo,'DejaVu Sans Mono',consolas,'Courier New',monospace\"><span style=\"color: #008080; text-decoration-color: #008080; font-weight: bold\">11</span>: Feature <span style=\"color: #008080; text-decoration-color: #008080; font-weight: bold\">6</span> <span style=\"font-weight: bold\">(</span>Quality: <span style=\"color: #008080; text-decoration-color: #008080; font-weight: bold\">-0.2797</span><span style=\"font-weight: bold\">)</span>\n",
       "</pre>\n"
      ],
      "text/plain": [
       "\u001b[1;36m11\u001b[0m: Feature \u001b[1;36m6\u001b[0m \u001b[1m(\u001b[0mQuality: \u001b[1;36m-0.2797\u001b[0m\u001b[1m)\u001b[0m\n"
      ]
     },
     "metadata": {},
     "output_type": "display_data"
    },
    {
     "data": {
      "text/html": [
       "<pre style=\"white-space:pre;overflow-x:auto;line-height:normal;font-family:Menlo,'DejaVu Sans Mono',consolas,'Courier New',monospace\"><span style=\"color: #008080; text-decoration-color: #008080; font-weight: bold\">12</span>: Feature <span style=\"color: #008080; text-decoration-color: #008080; font-weight: bold\">19</span> <span style=\"font-weight: bold\">(</span>Quality: <span style=\"color: #008080; text-decoration-color: #008080; font-weight: bold\">-0.3041</span><span style=\"font-weight: bold\">)</span>\n",
       "</pre>\n"
      ],
      "text/plain": [
       "\u001b[1;36m12\u001b[0m: Feature \u001b[1;36m19\u001b[0m \u001b[1m(\u001b[0mQuality: \u001b[1;36m-0.3041\u001b[0m\u001b[1m)\u001b[0m\n"
      ]
     },
     "metadata": {},
     "output_type": "display_data"
    },
    {
     "data": {
      "text/html": [
       "<pre style=\"white-space:pre;overflow-x:auto;line-height:normal;font-family:Menlo,'DejaVu Sans Mono',consolas,'Courier New',monospace\"><span style=\"color: #008080; text-decoration-color: #008080; font-weight: bold\">13</span>: Feature <span style=\"color: #008080; text-decoration-color: #008080; font-weight: bold\">3</span> <span style=\"font-weight: bold\">(</span>Quality: <span style=\"color: #008080; text-decoration-color: #008080; font-weight: bold\">-0.3275</span><span style=\"font-weight: bold\">)</span>\n",
       "</pre>\n"
      ],
      "text/plain": [
       "\u001b[1;36m13\u001b[0m: Feature \u001b[1;36m3\u001b[0m \u001b[1m(\u001b[0mQuality: \u001b[1;36m-0.3275\u001b[0m\u001b[1m)\u001b[0m\n"
      ]
     },
     "metadata": {},
     "output_type": "display_data"
    },
    {
     "data": {
      "text/html": [
       "<pre style=\"white-space:pre;overflow-x:auto;line-height:normal;font-family:Menlo,'DejaVu Sans Mono',consolas,'Courier New',monospace\"><span style=\"color: #008080; text-decoration-color: #008080; font-weight: bold\">14</span>: Feature <span style=\"color: #008080; text-decoration-color: #008080; font-weight: bold\">5</span> <span style=\"font-weight: bold\">(</span>Quality: <span style=\"color: #008080; text-decoration-color: #008080; font-weight: bold\">-0.3275</span><span style=\"font-weight: bold\">)</span>\n",
       "</pre>\n"
      ],
      "text/plain": [
       "\u001b[1;36m14\u001b[0m: Feature \u001b[1;36m5\u001b[0m \u001b[1m(\u001b[0mQuality: \u001b[1;36m-0.3275\u001b[0m\u001b[1m)\u001b[0m\n"
      ]
     },
     "metadata": {},
     "output_type": "display_data"
    },
    {
     "data": {
      "text/html": [
       "<pre style=\"white-space:pre;overflow-x:auto;line-height:normal;font-family:Menlo,'DejaVu Sans Mono',consolas,'Courier New',monospace\"><span style=\"color: #008080; text-decoration-color: #008080; font-weight: bold\">15</span>: Feature <span style=\"color: #008080; text-decoration-color: #008080; font-weight: bold\">16</span> <span style=\"font-weight: bold\">(</span>Quality: <span style=\"color: #008080; text-decoration-color: #008080; font-weight: bold\">-0.3275</span><span style=\"font-weight: bold\">)</span>\n",
       "</pre>\n"
      ],
      "text/plain": [
       "\u001b[1;36m15\u001b[0m: Feature \u001b[1;36m16\u001b[0m \u001b[1m(\u001b[0mQuality: \u001b[1;36m-0.3275\u001b[0m\u001b[1m)\u001b[0m\n"
      ]
     },
     "metadata": {},
     "output_type": "display_data"
    },
    {
     "data": {
      "text/html": [
       "<pre style=\"white-space:pre;overflow-x:auto;line-height:normal;font-family:Menlo,'DejaVu Sans Mono',consolas,'Courier New',monospace\"><span style=\"color: #008080; text-decoration-color: #008080; font-weight: bold\">16</span>: Feature <span style=\"color: #008080; text-decoration-color: #008080; font-weight: bold\">1</span> <span style=\"font-weight: bold\">(</span>Quality: <span style=\"color: #008080; text-decoration-color: #008080; font-weight: bold\">-0.3437</span><span style=\"font-weight: bold\">)</span>\n",
       "</pre>\n"
      ],
      "text/plain": [
       "\u001b[1;36m16\u001b[0m: Feature \u001b[1;36m1\u001b[0m \u001b[1m(\u001b[0mQuality: \u001b[1;36m-0.3437\u001b[0m\u001b[1m)\u001b[0m\n"
      ]
     },
     "metadata": {},
     "output_type": "display_data"
    },
    {
     "data": {
      "text/html": [
       "<pre style=\"white-space:pre;overflow-x:auto;line-height:normal;font-family:Menlo,'DejaVu Sans Mono',consolas,'Courier New',monospace\"><span style=\"color: #008080; text-decoration-color: #008080; font-weight: bold\">17</span>: Feature <span style=\"color: #008080; text-decoration-color: #008080; font-weight: bold\">0</span> <span style=\"font-weight: bold\">(</span>Quality: <span style=\"color: #008080; text-decoration-color: #008080; font-weight: bold\">-0.3527</span><span style=\"font-weight: bold\">)</span>\n",
       "</pre>\n"
      ],
      "text/plain": [
       "\u001b[1;36m17\u001b[0m: Feature \u001b[1;36m0\u001b[0m \u001b[1m(\u001b[0mQuality: \u001b[1;36m-0.3527\u001b[0m\u001b[1m)\u001b[0m\n"
      ]
     },
     "metadata": {},
     "output_type": "display_data"
    },
    {
     "data": {
      "text/html": [
       "<pre style=\"white-space:pre;overflow-x:auto;line-height:normal;font-family:Menlo,'DejaVu Sans Mono',consolas,'Courier New',monospace\"><span style=\"color: #008080; text-decoration-color: #008080; font-weight: bold\">18</span>: Feature <span style=\"color: #008080; text-decoration-color: #008080; font-weight: bold\">12</span> <span style=\"font-weight: bold\">(</span>Quality: <span style=\"color: #008080; text-decoration-color: #008080; font-weight: bold\">-0.3638</span><span style=\"font-weight: bold\">)</span>\n",
       "</pre>\n"
      ],
      "text/plain": [
       "\u001b[1;36m18\u001b[0m: Feature \u001b[1;36m12\u001b[0m \u001b[1m(\u001b[0mQuality: \u001b[1;36m-0.3638\u001b[0m\u001b[1m)\u001b[0m\n"
      ]
     },
     "metadata": {},
     "output_type": "display_data"
    },
    {
     "data": {
      "text/html": [
       "<pre style=\"white-space:pre;overflow-x:auto;line-height:normal;font-family:Menlo,'DejaVu Sans Mono',consolas,'Courier New',monospace\"><span style=\"color: #008080; text-decoration-color: #008080; font-weight: bold\">19</span>: Feature <span style=\"color: #008080; text-decoration-color: #008080; font-weight: bold\">11</span> <span style=\"font-weight: bold\">(</span>Quality: <span style=\"color: #008080; text-decoration-color: #008080; font-weight: bold\">-0.3788</span><span style=\"font-weight: bold\">)</span>\n",
       "</pre>\n"
      ],
      "text/plain": [
       "\u001b[1;36m19\u001b[0m: Feature \u001b[1;36m11\u001b[0m \u001b[1m(\u001b[0mQuality: \u001b[1;36m-0.3788\u001b[0m\u001b[1m)\u001b[0m\n"
      ]
     },
     "metadata": {},
     "output_type": "display_data"
    },
    {
     "data": {
      "text/html": [
       "<pre style=\"white-space:pre;overflow-x:auto;line-height:normal;font-family:Menlo,'DejaVu Sans Mono',consolas,'Courier New',monospace\"><span style=\"color: #008080; text-decoration-color: #008080; font-weight: bold\">20</span>: Feature <span style=\"color: #008080; text-decoration-color: #008080; font-weight: bold\">15</span> <span style=\"font-weight: bold\">(</span>Quality: <span style=\"color: #008080; text-decoration-color: #008080; font-weight: bold\">-0.4121</span><span style=\"font-weight: bold\">)</span>\n",
       "</pre>\n"
      ],
      "text/plain": [
       "\u001b[1;36m20\u001b[0m: Feature \u001b[1;36m15\u001b[0m \u001b[1m(\u001b[0mQuality: \u001b[1;36m-0.4121\u001b[0m\u001b[1m)\u001b[0m\n"
      ]
     },
     "metadata": {},
     "output_type": "display_data"
    },
    {
     "data": {
      "text/html": [
       "<pre style=\"white-space:pre;overflow-x:auto;line-height:normal;font-family:Menlo,'DejaVu Sans Mono',consolas,'Courier New',monospace\">Smiliar quality for features:\n",
       "</pre>\n"
      ],
      "text/plain": [
       "Smiliar quality for features:\n"
      ]
     },
     "metadata": {},
     "output_type": "display_data"
    },
    {
     "data": {
      "text/html": [
       "<pre style=\"white-space:pre;overflow-x:auto;line-height:normal;font-family:Menlo,'DejaVu Sans Mono',consolas,'Courier New',monospace\"><span style=\"color: #008080; text-decoration-color: #008080; font-weight: bold\">0</span>: Feature <span style=\"color: #008080; text-decoration-color: #008080; font-weight: bold\">12</span> <span style=\"font-weight: bold\">(</span>Quality: <span style=\"color: #008080; text-decoration-color: #008080; font-weight: bold\">-0.0000</span><span style=\"font-weight: bold\">)</span>\n",
       "</pre>\n"
      ],
      "text/plain": [
       "\u001b[1;36m0\u001b[0m: Feature \u001b[1;36m12\u001b[0m \u001b[1m(\u001b[0mQuality: \u001b[1;36m-0.0000\u001b[0m\u001b[1m)\u001b[0m\n"
      ]
     },
     "metadata": {},
     "output_type": "display_data"
    },
    {
     "data": {
      "text/html": [
       "<pre style=\"white-space:pre;overflow-x:auto;line-height:normal;font-family:Menlo,'DejaVu Sans Mono',consolas,'Courier New',monospace\"><span style=\"color: #008080; text-decoration-color: #008080; font-weight: bold\">1</span>: Feature <span style=\"color: #008080; text-decoration-color: #008080; font-weight: bold\">14</span> <span style=\"font-weight: bold\">(</span>Quality: <span style=\"color: #008080; text-decoration-color: #008080; font-weight: bold\">-0.0000</span><span style=\"font-weight: bold\">)</span>\n",
       "</pre>\n"
      ],
      "text/plain": [
       "\u001b[1;36m1\u001b[0m: Feature \u001b[1;36m14\u001b[0m \u001b[1m(\u001b[0mQuality: \u001b[1;36m-0.0000\u001b[0m\u001b[1m)\u001b[0m\n"
      ]
     },
     "metadata": {},
     "output_type": "display_data"
    },
    {
     "data": {
      "text/html": [
       "<pre style=\"white-space:pre;overflow-x:auto;line-height:normal;font-family:Menlo,'DejaVu Sans Mono',consolas,'Courier New',monospace\"><span style=\"color: #008080; text-decoration-color: #008080; font-weight: bold\">2</span>: Feature <span style=\"color: #008080; text-decoration-color: #008080; font-weight: bold\">2</span> <span style=\"font-weight: bold\">(</span>Quality: <span style=\"color: #008080; text-decoration-color: #008080; font-weight: bold\">-0.0399</span><span style=\"font-weight: bold\">)</span>\n",
       "</pre>\n"
      ],
      "text/plain": [
       "\u001b[1;36m2\u001b[0m: Feature \u001b[1;36m2\u001b[0m \u001b[1m(\u001b[0mQuality: \u001b[1;36m-0.0399\u001b[0m\u001b[1m)\u001b[0m\n"
      ]
     },
     "metadata": {},
     "output_type": "display_data"
    },
    {
     "data": {
      "text/html": [
       "<pre style=\"white-space:pre;overflow-x:auto;line-height:normal;font-family:Menlo,'DejaVu Sans Mono',consolas,'Courier New',monospace\"><span style=\"color: #008080; text-decoration-color: #008080; font-weight: bold\">3</span>: Feature <span style=\"color: #008080; text-decoration-color: #008080; font-weight: bold\">7</span> <span style=\"font-weight: bold\">(</span>Quality: <span style=\"color: #008080; text-decoration-color: #008080; font-weight: bold\">-0.0511</span><span style=\"font-weight: bold\">)</span>\n",
       "</pre>\n"
      ],
      "text/plain": [
       "\u001b[1;36m3\u001b[0m: Feature \u001b[1;36m7\u001b[0m \u001b[1m(\u001b[0mQuality: \u001b[1;36m-0.0511\u001b[0m\u001b[1m)\u001b[0m\n"
      ]
     },
     "metadata": {},
     "output_type": "display_data"
    },
    {
     "data": {
      "text/html": [
       "<pre style=\"white-space:pre;overflow-x:auto;line-height:normal;font-family:Menlo,'DejaVu Sans Mono',consolas,'Courier New',monospace\"><span style=\"color: #008080; text-decoration-color: #008080; font-weight: bold\">4</span>: Feature <span style=\"color: #008080; text-decoration-color: #008080; font-weight: bold\">21</span> <span style=\"font-weight: bold\">(</span>Quality: <span style=\"color: #008080; text-decoration-color: #008080; font-weight: bold\">-0.0511</span><span style=\"font-weight: bold\">)</span>\n",
       "</pre>\n"
      ],
      "text/plain": [
       "\u001b[1;36m4\u001b[0m: Feature \u001b[1;36m21\u001b[0m \u001b[1m(\u001b[0mQuality: \u001b[1;36m-0.0511\u001b[0m\u001b[1m)\u001b[0m\n"
      ]
     },
     "metadata": {},
     "output_type": "display_data"
    },
    {
     "data": {
      "text/html": [
       "<pre style=\"white-space:pre;overflow-x:auto;line-height:normal;font-family:Menlo,'DejaVu Sans Mono',consolas,'Courier New',monospace\"><span style=\"color: #008080; text-decoration-color: #008080; font-weight: bold\">5</span>: Feature <span style=\"color: #008080; text-decoration-color: #008080; font-weight: bold\">20</span> <span style=\"font-weight: bold\">(</span>Quality: <span style=\"color: #008080; text-decoration-color: #008080; font-weight: bold\">-0.0672</span><span style=\"font-weight: bold\">)</span>\n",
       "</pre>\n"
      ],
      "text/plain": [
       "\u001b[1;36m5\u001b[0m: Feature \u001b[1;36m20\u001b[0m \u001b[1m(\u001b[0mQuality: \u001b[1;36m-0.0672\u001b[0m\u001b[1m)\u001b[0m\n"
      ]
     },
     "metadata": {},
     "output_type": "display_data"
    },
    {
     "data": {
      "text/html": [
       "<pre style=\"white-space:pre;overflow-x:auto;line-height:normal;font-family:Menlo,'DejaVu Sans Mono',consolas,'Courier New',monospace\"><span style=\"color: #008080; text-decoration-color: #008080; font-weight: bold\">6</span>: Feature <span style=\"color: #008080; text-decoration-color: #008080; font-weight: bold\">11</span> <span style=\"font-weight: bold\">(</span>Quality: <span style=\"color: #008080; text-decoration-color: #008080; font-weight: bold\">-0.0696</span><span style=\"font-weight: bold\">)</span>\n",
       "</pre>\n"
      ],
      "text/plain": [
       "\u001b[1;36m6\u001b[0m: Feature \u001b[1;36m11\u001b[0m \u001b[1m(\u001b[0mQuality: \u001b[1;36m-0.0696\u001b[0m\u001b[1m)\u001b[0m\n"
      ]
     },
     "metadata": {},
     "output_type": "display_data"
    },
    {
     "data": {
      "text/html": [
       "<pre style=\"white-space:pre;overflow-x:auto;line-height:normal;font-family:Menlo,'DejaVu Sans Mono',consolas,'Courier New',monospace\"><span style=\"color: #008080; text-decoration-color: #008080; font-weight: bold\">7</span>: Feature <span style=\"color: #008080; text-decoration-color: #008080; font-weight: bold\">18</span> <span style=\"font-weight: bold\">(</span>Quality: <span style=\"color: #008080; text-decoration-color: #008080; font-weight: bold\">-0.0729</span><span style=\"font-weight: bold\">)</span>\n",
       "</pre>\n"
      ],
      "text/plain": [
       "\u001b[1;36m7\u001b[0m: Feature \u001b[1;36m18\u001b[0m \u001b[1m(\u001b[0mQuality: \u001b[1;36m-0.0729\u001b[0m\u001b[1m)\u001b[0m\n"
      ]
     },
     "metadata": {},
     "output_type": "display_data"
    },
    {
     "data": {
      "text/html": [
       "<pre style=\"white-space:pre;overflow-x:auto;line-height:normal;font-family:Menlo,'DejaVu Sans Mono',consolas,'Courier New',monospace\"><span style=\"color: #008080; text-decoration-color: #008080; font-weight: bold\">8</span>: Feature <span style=\"color: #008080; text-decoration-color: #008080; font-weight: bold\">8</span> <span style=\"font-weight: bold\">(</span>Quality: <span style=\"color: #008080; text-decoration-color: #008080; font-weight: bold\">-0.0736</span><span style=\"font-weight: bold\">)</span>\n",
       "</pre>\n"
      ],
      "text/plain": [
       "\u001b[1;36m8\u001b[0m: Feature \u001b[1;36m8\u001b[0m \u001b[1m(\u001b[0mQuality: \u001b[1;36m-0.0736\u001b[0m\u001b[1m)\u001b[0m\n"
      ]
     },
     "metadata": {},
     "output_type": "display_data"
    },
    {
     "data": {
      "text/html": [
       "<pre style=\"white-space:pre;overflow-x:auto;line-height:normal;font-family:Menlo,'DejaVu Sans Mono',consolas,'Courier New',monospace\"><span style=\"color: #008080; text-decoration-color: #008080; font-weight: bold\">9</span>: Feature <span style=\"color: #008080; text-decoration-color: #008080; font-weight: bold\">17</span> <span style=\"font-weight: bold\">(</span>Quality: <span style=\"color: #008080; text-decoration-color: #008080; font-weight: bold\">-0.0751</span><span style=\"font-weight: bold\">)</span>\n",
       "</pre>\n"
      ],
      "text/plain": [
       "\u001b[1;36m9\u001b[0m: Feature \u001b[1;36m17\u001b[0m \u001b[1m(\u001b[0mQuality: \u001b[1;36m-0.0751\u001b[0m\u001b[1m)\u001b[0m\n"
      ]
     },
     "metadata": {},
     "output_type": "display_data"
    },
    {
     "data": {
      "text/html": [
       "<pre style=\"white-space:pre;overflow-x:auto;line-height:normal;font-family:Menlo,'DejaVu Sans Mono',consolas,'Courier New',monospace\"><span style=\"color: #008080; text-decoration-color: #008080; font-weight: bold\">10</span>: Feature <span style=\"color: #008080; text-decoration-color: #008080; font-weight: bold\">1</span> <span style=\"font-weight: bold\">(</span>Quality: <span style=\"color: #008080; text-decoration-color: #008080; font-weight: bold\">-0.0766</span><span style=\"font-weight: bold\">)</span>\n",
       "</pre>\n"
      ],
      "text/plain": [
       "\u001b[1;36m10\u001b[0m: Feature \u001b[1;36m1\u001b[0m \u001b[1m(\u001b[0mQuality: \u001b[1;36m-0.0766\u001b[0m\u001b[1m)\u001b[0m\n"
      ]
     },
     "metadata": {},
     "output_type": "display_data"
    },
    {
     "data": {
      "text/html": [
       "<pre style=\"white-space:pre;overflow-x:auto;line-height:normal;font-family:Menlo,'DejaVu Sans Mono',consolas,'Courier New',monospace\"><span style=\"color: #008080; text-decoration-color: #008080; font-weight: bold\">11</span>: Feature <span style=\"color: #008080; text-decoration-color: #008080; font-weight: bold\">6</span> <span style=\"font-weight: bold\">(</span>Quality: <span style=\"color: #008080; text-decoration-color: #008080; font-weight: bold\">-0.0792</span><span style=\"font-weight: bold\">)</span>\n",
       "</pre>\n"
      ],
      "text/plain": [
       "\u001b[1;36m11\u001b[0m: Feature \u001b[1;36m6\u001b[0m \u001b[1m(\u001b[0mQuality: \u001b[1;36m-0.0792\u001b[0m\u001b[1m)\u001b[0m\n"
      ]
     },
     "metadata": {},
     "output_type": "display_data"
    },
    {
     "data": {
      "text/html": [
       "<pre style=\"white-space:pre;overflow-x:auto;line-height:normal;font-family:Menlo,'DejaVu Sans Mono',consolas,'Courier New',monospace\"><span style=\"color: #008080; text-decoration-color: #008080; font-weight: bold\">12</span>: Feature <span style=\"color: #008080; text-decoration-color: #008080; font-weight: bold\">13</span> <span style=\"font-weight: bold\">(</span>Quality: <span style=\"color: #008080; text-decoration-color: #008080; font-weight: bold\">-0.0792</span><span style=\"font-weight: bold\">)</span>\n",
       "</pre>\n"
      ],
      "text/plain": [
       "\u001b[1;36m12\u001b[0m: Feature \u001b[1;36m13\u001b[0m \u001b[1m(\u001b[0mQuality: \u001b[1;36m-0.0792\u001b[0m\u001b[1m)\u001b[0m\n"
      ]
     },
     "metadata": {},
     "output_type": "display_data"
    },
    {
     "data": {
      "text/html": [
       "<pre style=\"white-space:pre;overflow-x:auto;line-height:normal;font-family:Menlo,'DejaVu Sans Mono',consolas,'Courier New',monospace\"><span style=\"color: #008080; text-decoration-color: #008080; font-weight: bold\">13</span>: Feature <span style=\"color: #008080; text-decoration-color: #008080; font-weight: bold\">19</span> <span style=\"font-weight: bold\">(</span>Quality: <span style=\"color: #008080; text-decoration-color: #008080; font-weight: bold\">-0.0798</span><span style=\"font-weight: bold\">)</span>\n",
       "</pre>\n"
      ],
      "text/plain": [
       "\u001b[1;36m13\u001b[0m: Feature \u001b[1;36m19\u001b[0m \u001b[1m(\u001b[0mQuality: \u001b[1;36m-0.0798\u001b[0m\u001b[1m)\u001b[0m\n"
      ]
     },
     "metadata": {},
     "output_type": "display_data"
    },
    {
     "data": {
      "text/html": [
       "<pre style=\"white-space:pre;overflow-x:auto;line-height:normal;font-family:Menlo,'DejaVu Sans Mono',consolas,'Courier New',monospace\"><span style=\"color: #008080; text-decoration-color: #008080; font-weight: bold\">14</span>: Feature <span style=\"color: #008080; text-decoration-color: #008080; font-weight: bold\">3</span> <span style=\"font-weight: bold\">(</span>Quality: <span style=\"color: #008080; text-decoration-color: #008080; font-weight: bold\">-0.0802</span><span style=\"font-weight: bold\">)</span>\n",
       "</pre>\n"
      ],
      "text/plain": [
       "\u001b[1;36m14\u001b[0m: Feature \u001b[1;36m3\u001b[0m \u001b[1m(\u001b[0mQuality: \u001b[1;36m-0.0802\u001b[0m\u001b[1m)\u001b[0m\n"
      ]
     },
     "metadata": {},
     "output_type": "display_data"
    },
    {
     "data": {
      "text/html": [
       "<pre style=\"white-space:pre;overflow-x:auto;line-height:normal;font-family:Menlo,'DejaVu Sans Mono',consolas,'Courier New',monospace\"><span style=\"color: #008080; text-decoration-color: #008080; font-weight: bold\">15</span>: Feature <span style=\"color: #008080; text-decoration-color: #008080; font-weight: bold\">5</span> <span style=\"font-weight: bold\">(</span>Quality: <span style=\"color: #008080; text-decoration-color: #008080; font-weight: bold\">-0.0802</span><span style=\"font-weight: bold\">)</span>\n",
       "</pre>\n"
      ],
      "text/plain": [
       "\u001b[1;36m15\u001b[0m: Feature \u001b[1;36m5\u001b[0m \u001b[1m(\u001b[0mQuality: \u001b[1;36m-0.0802\u001b[0m\u001b[1m)\u001b[0m\n"
      ]
     },
     "metadata": {},
     "output_type": "display_data"
    },
    {
     "data": {
      "text/html": [
       "<pre style=\"white-space:pre;overflow-x:auto;line-height:normal;font-family:Menlo,'DejaVu Sans Mono',consolas,'Courier New',monospace\"><span style=\"color: #008080; text-decoration-color: #008080; font-weight: bold\">16</span>: Feature <span style=\"color: #008080; text-decoration-color: #008080; font-weight: bold\">16</span> <span style=\"font-weight: bold\">(</span>Quality: <span style=\"color: #008080; text-decoration-color: #008080; font-weight: bold\">-0.0802</span><span style=\"font-weight: bold\">)</span>\n",
       "</pre>\n"
      ],
      "text/plain": [
       "\u001b[1;36m16\u001b[0m: Feature \u001b[1;36m16\u001b[0m \u001b[1m(\u001b[0mQuality: \u001b[1;36m-0.0802\u001b[0m\u001b[1m)\u001b[0m\n"
      ]
     },
     "metadata": {},
     "output_type": "display_data"
    },
    {
     "data": {
      "text/html": [
       "<pre style=\"white-space:pre;overflow-x:auto;line-height:normal;font-family:Menlo,'DejaVu Sans Mono',consolas,'Courier New',monospace\"><span style=\"color: #008080; text-decoration-color: #008080; font-weight: bold\">17</span>: Feature <span style=\"color: #008080; text-decoration-color: #008080; font-weight: bold\">0</span> <span style=\"font-weight: bold\">(</span>Quality: <span style=\"color: #008080; text-decoration-color: #008080; font-weight: bold\">-0.0813</span><span style=\"font-weight: bold\">)</span>\n",
       "</pre>\n"
      ],
      "text/plain": [
       "\u001b[1;36m17\u001b[0m: Feature \u001b[1;36m0\u001b[0m \u001b[1m(\u001b[0mQuality: \u001b[1;36m-0.0813\u001b[0m\u001b[1m)\u001b[0m\n"
      ]
     },
     "metadata": {},
     "output_type": "display_data"
    },
    {
     "data": {
      "text/html": [
       "<pre style=\"white-space:pre;overflow-x:auto;line-height:normal;font-family:Menlo,'DejaVu Sans Mono',consolas,'Courier New',monospace\"><span style=\"color: #008080; text-decoration-color: #008080; font-weight: bold\">18</span>: Feature <span style=\"color: #008080; text-decoration-color: #008080; font-weight: bold\">9</span> <span style=\"font-weight: bold\">(</span>Quality: <span style=\"color: #008080; text-decoration-color: #008080; font-weight: bold\">-0.0815</span><span style=\"font-weight: bold\">)</span>\n",
       "</pre>\n"
      ],
      "text/plain": [
       "\u001b[1;36m18\u001b[0m: Feature \u001b[1;36m9\u001b[0m \u001b[1m(\u001b[0mQuality: \u001b[1;36m-0.0815\u001b[0m\u001b[1m)\u001b[0m\n"
      ]
     },
     "metadata": {},
     "output_type": "display_data"
    },
    {
     "data": {
      "text/html": [
       "<pre style=\"white-space:pre;overflow-x:auto;line-height:normal;font-family:Menlo,'DejaVu Sans Mono',consolas,'Courier New',monospace\"><span style=\"color: #008080; text-decoration-color: #008080; font-weight: bold\">19</span>: Feature <span style=\"color: #008080; text-decoration-color: #008080; font-weight: bold\">15</span> <span style=\"font-weight: bold\">(</span>Quality: <span style=\"color: #008080; text-decoration-color: #008080; font-weight: bold\">-0.0815</span><span style=\"font-weight: bold\">)</span>\n",
       "</pre>\n"
      ],
      "text/plain": [
       "\u001b[1;36m19\u001b[0m: Feature \u001b[1;36m15\u001b[0m \u001b[1m(\u001b[0mQuality: \u001b[1;36m-0.0815\u001b[0m\u001b[1m)\u001b[0m\n"
      ]
     },
     "metadata": {},
     "output_type": "display_data"
    },
    {
     "data": {
      "text/html": [
       "<pre style=\"white-space:pre;overflow-x:auto;line-height:normal;font-family:Menlo,'DejaVu Sans Mono',consolas,'Courier New',monospace\">Accuracy: <span style=\"color: #008080; text-decoration-color: #008080; font-weight: bold\">1.0000</span>\n",
       "</pre>\n"
      ],
      "text/plain": [
       "Accuracy: \u001b[1;36m1.0000\u001b[0m\n"
      ]
     },
     "metadata": {},
     "output_type": "display_data"
    },
    {
     "data": {
      "text/html": [
       "<pre style=\"white-space:pre;overflow-x:auto;line-height:normal;font-family:Menlo,'DejaVu Sans Mono',consolas,'Courier New',monospace\">F1 Score <span style=\"font-weight: bold\">(</span>macro<span style=\"font-weight: bold\">)</span>: <span style=\"color: #008080; text-decoration-color: #008080; font-weight: bold\">1.0000</span>\n",
       "</pre>\n"
      ],
      "text/plain": [
       "F1 Score \u001b[1m(\u001b[0mmacro\u001b[1m)\u001b[0m: \u001b[1;36m1.0000\u001b[0m\n"
      ]
     },
     "metadata": {},
     "output_type": "display_data"
    },
    {
     "data": {
      "text/html": [
       "<pre style=\"white-space:pre;overflow-x:auto;line-height:normal;font-family:Menlo,'DejaVu Sans Mono',consolas,'Courier New',monospace\">F1 Score <span style=\"font-weight: bold\">(</span>micro<span style=\"font-weight: bold\">)</span>: <span style=\"color: #008080; text-decoration-color: #008080; font-weight: bold\">1.0000</span>\n",
       "</pre>\n"
      ],
      "text/plain": [
       "F1 Score \u001b[1m(\u001b[0mmicro\u001b[1m)\u001b[0m: \u001b[1;36m1.0000\u001b[0m\n"
      ]
     },
     "metadata": {},
     "output_type": "display_data"
    },
    {
     "data": {
      "text/html": [
       "<pre style=\"white-space:pre;overflow-x:auto;line-height:normal;font-family:Menlo,'DejaVu Sans Mono',consolas,'Courier New',monospace\">Confusion Matrix:\n",
       "<span style=\"font-weight: bold\">[[</span><span style=\"color: #008080; text-decoration-color: #008080; font-weight: bold\">4208</span>    <span style=\"color: #008080; text-decoration-color: #008080; font-weight: bold\">0</span><span style=\"font-weight: bold\">]</span>\n",
       " <span style=\"font-weight: bold\">[</span>   <span style=\"color: #008080; text-decoration-color: #008080; font-weight: bold\">0</span> <span style=\"color: #008080; text-decoration-color: #008080; font-weight: bold\">3916</span><span style=\"font-weight: bold\">]]</span>\n",
       "</pre>\n"
      ],
      "text/plain": [
       "Confusion Matrix:\n",
       "\u001b[1m[\u001b[0m\u001b[1m[\u001b[0m\u001b[1;36m4208\u001b[0m    \u001b[1;36m0\u001b[0m\u001b[1m]\u001b[0m\n",
       " \u001b[1m[\u001b[0m   \u001b[1;36m0\u001b[0m \u001b[1;36m3916\u001b[0m\u001b[1m]\u001b[0m\u001b[1m]\u001b[0m\n"
      ]
     },
     "metadata": {},
     "output_type": "display_data"
    },
    {
     "data": {
      "image/png": "[encoded data removed]",
      "text/plain": [
       "<Figure size 640x480 with 2 Axes>"
      ]
     },
     "metadata": {},
     "output_type": "display_data"
    },
    {
     "data": {
      "text/html": [
       "<pre style=\"white-space:pre;overflow-x:auto;line-height:normal;font-family:Menlo,'DejaVu Sans Mono',consolas,'Courier New',monospace\"><span style=\"color: #008080; text-decoration-color: #008080\">Cecha 10</span>\n",
       "├── <span style=\"color: #808000; text-decoration-color: #808000\">Wartość = 0</span>\n",
       "│   └── <span style=\"color: #008080; text-decoration-color: #008080\">Cecha 19</span>\n",
       "│       ├── <span style=\"color: #808000; text-decoration-color: #808000\">Wartość = 1</span>\n",
       "│       │   └── <span style=\"color: #008000; text-decoration-color: #008000\">Klasa: 1</span>\n",
       "│       ├── <span style=\"color: #808000; text-decoration-color: #808000\">Wartość = 2</span>\n",
       "│       │   └── <span style=\"color: #008080; text-decoration-color: #008080\">Cecha 4</span>\n",
       "│       │       ├── <span style=\"color: #808000; text-decoration-color: #808000\">Wartość = 1</span>\n",
       "│       │       │   └── <span style=\"color: #008000; text-decoration-color: #008000\">Klasa: 1</span>\n",
       "│       │       └── <span style=\"color: #808000; text-decoration-color: #808000\">Wartość = 5</span>\n",
       "│       │           └── <span style=\"color: #008000; text-decoration-color: #008000\">Klasa: 0</span>\n",
       "│       ├── <span style=\"color: #808000; text-decoration-color: #808000\">Wartość = 3</span>\n",
       "│       │   └── <span style=\"color: #008080; text-decoration-color: #008080\">Cecha 4</span>\n",
       "│       │       ├── <span style=\"color: #808000; text-decoration-color: #808000\">Wartość = 0</span>\n",
       "│       │       │   └── <span style=\"color: #008000; text-decoration-color: #008000\">Klasa: 0</span>\n",
       "│       │       ├── <span style=\"color: #808000; text-decoration-color: #808000\">Wartość = 1</span>\n",
       "│       │       │   └── <span style=\"color: #008000; text-decoration-color: #008000\">Klasa: 1</span>\n",
       "│       │       ├── <span style=\"color: #808000; text-decoration-color: #808000\">Wartość = 3</span>\n",
       "│       │       │   └── <span style=\"color: #008000; text-decoration-color: #008000\">Klasa: 0</span>\n",
       "│       │       └── <span style=\"color: #808000; text-decoration-color: #808000\">Wartość = 5</span>\n",
       "│       │           └── <span style=\"color: #008000; text-decoration-color: #008000\">Klasa: 0</span>\n",
       "│       ├── <span style=\"color: #808000; text-decoration-color: #808000\">Wartość = 5</span>\n",
       "│       │   └── <span style=\"color: #008000; text-decoration-color: #008000\">Klasa: 1</span>\n",
       "│       ├── <span style=\"color: #808000; text-decoration-color: #808000\">Wartość = 6</span>\n",
       "│       │   └── <span style=\"color: #008000; text-decoration-color: #008000\">Klasa: 0</span>\n",
       "│       └── <span style=\"color: #808000; text-decoration-color: #808000\">Wartość = 7</span>\n",
       "│           └── <span style=\"color: #008080; text-decoration-color: #008080\">Cecha 20</span>\n",
       "│               ├── <span style=\"color: #808000; text-decoration-color: #808000\">Wartość = 1</span>\n",
       "│               │   └── <span style=\"color: #008000; text-decoration-color: #008000\">Klasa: 1</span>\n",
       "│               ├── <span style=\"color: #808000; text-decoration-color: #808000\">Wartość = 4</span>\n",
       "│               │   └── <span style=\"color: #008000; text-decoration-color: #008000\">Klasa: 0</span>\n",
       "│               └── <span style=\"color: #808000; text-decoration-color: #808000\">Wartość = 5</span>\n",
       "│                   └── <span style=\"color: #008000; text-decoration-color: #008000\">Klasa: 0</span>\n",
       "├── <span style=\"color: #808000; text-decoration-color: #808000\">Wartość = 1</span>\n",
       "│   └── <span style=\"color: #008080; text-decoration-color: #008080\">Cecha 4</span>\n",
       "│       ├── <span style=\"color: #808000; text-decoration-color: #808000\">Wartość = 0</span>\n",
       "│       │   └── <span style=\"color: #008000; text-decoration-color: #008000\">Klasa: 0</span>\n",
       "│       ├── <span style=\"color: #808000; text-decoration-color: #808000\">Wartość = 3</span>\n",
       "│       │   └── <span style=\"color: #008000; text-decoration-color: #008000\">Klasa: 0</span>\n",
       "│       ├── <span style=\"color: #808000; text-decoration-color: #808000\">Wartość = 4</span>\n",
       "│       │   └── <span style=\"color: #008000; text-decoration-color: #008000\">Klasa: 1</span>\n",
       "│       └── <span style=\"color: #808000; text-decoration-color: #808000\">Wartość = 5</span>\n",
       "│           └── <span style=\"color: #008000; text-decoration-color: #008000\">Klasa: 1</span>\n",
       "├── <span style=\"color: #808000; text-decoration-color: #808000\">Wartość = 2</span>\n",
       "│   └── <span style=\"color: #008080; text-decoration-color: #008080\">Cecha 4</span>\n",
       "│       ├── <span style=\"color: #808000; text-decoration-color: #808000\">Wartość = 5</span>\n",
       "│       │   └── <span style=\"color: #008000; text-decoration-color: #008000\">Klasa: 0</span>\n",
       "│       └── <span style=\"color: #808000; text-decoration-color: #808000\">Wartość = 6</span>\n",
       "│           └── <span style=\"color: #008000; text-decoration-color: #008000\">Klasa: 1</span>\n",
       "├── <span style=\"color: #808000; text-decoration-color: #808000\">Wartość = 3</span>\n",
       "│   └── <span style=\"color: #008000; text-decoration-color: #008000\">Klasa: 0</span>\n",
       "└── <span style=\"color: #808000; text-decoration-color: #808000\">Wartość = 4</span>\n",
       "    └── <span style=\"color: #008080; text-decoration-color: #008080\">Cecha 4</span>\n",
       "        ├── <span style=\"color: #808000; text-decoration-color: #808000\">Wartość = 2</span>\n",
       "        │   └── <span style=\"color: #008000; text-decoration-color: #008000\">Klasa: 1</span>\n",
       "        ├── <span style=\"color: #808000; text-decoration-color: #808000\">Wartość = 5</span>\n",
       "        │   └── <span style=\"color: #008080; text-decoration-color: #008080\">Cecha 14</span>\n",
       "        │       ├── <span style=\"color: #808000; text-decoration-color: #808000\">Wartość = 2</span>\n",
       "        │       │   └── <span style=\"color: #008000; text-decoration-color: #008000\">Klasa: 0</span>\n",
       "        │       ├── <span style=\"color: #808000; text-decoration-color: #808000\">Wartość = 4</span>\n",
       "        │       │   └── <span style=\"color: #008000; text-decoration-color: #008000\">Klasa: 1</span>\n",
       "        │       ├── <span style=\"color: #808000; text-decoration-color: #808000\">Wartość = 5</span>\n",
       "        │       │   └── <span style=\"color: #008000; text-decoration-color: #008000\">Klasa: 0</span>\n",
       "        │       ├── <span style=\"color: #808000; text-decoration-color: #808000\">Wartość = 7</span>\n",
       "        │       │   └── <span style=\"color: #008000; text-decoration-color: #008000\">Klasa: 0</span>\n",
       "        │       └── <span style=\"color: #808000; text-decoration-color: #808000\">Wartość = 8</span>\n",
       "        │           └── <span style=\"color: #008000; text-decoration-color: #008000\">Klasa: 1</span>\n",
       "        ├── <span style=\"color: #808000; text-decoration-color: #808000\">Wartość = 7</span>\n",
       "        │   └── <span style=\"color: #008000; text-decoration-color: #008000\">Klasa: 1</span>\n",
       "        └── <span style=\"color: #808000; text-decoration-color: #808000\">Wartość = 8</span>\n",
       "            └── <span style=\"color: #008000; text-decoration-color: #008000\">Klasa: 1</span>\n",
       "</pre>\n"
      ],
      "text/plain": [
       "\u001b[36mCecha 10\u001b[0m\n",
       "├── \u001b[33mWartość = 0\u001b[0m\n",
       "│   └── \u001b[36mCecha 19\u001b[0m\n",
       "│       ├── \u001b[33mWartość = 1\u001b[0m\n",
       "│       │   └── \u001b[32mKlasa: 1\u001b[0m\n",
       "│       ├── \u001b[33mWartość = 2\u001b[0m\n",
       "│       │   └── \u001b[36mCecha 4\u001b[0m\n",
       "│       │       ├── \u001b[33mWartość = 1\u001b[0m\n",
       "│       │       │   └── \u001b[32mKlasa: 1\u001b[0m\n",
       "│       │       └── \u001b[33mWartość = 5\u001b[0m\n",
       "│       │           └── \u001b[32mKlasa: 0\u001b[0m\n",
       "│       ├── \u001b[33mWartość = 3\u001b[0m\n",
       "│       │   └── \u001b[36mCecha 4\u001b[0m\n",
       "│       │       ├── \u001b[33mWartość = 0\u001b[0m\n",
       "│       │       │   └── \u001b[32mKlasa: 0\u001b[0m\n",
       "│       │       ├── \u001b[33mWartość = 1\u001b[0m\n",
       "│       │       │   └── \u001b[32mKlasa: 1\u001b[0m\n",
       "│       │       ├── \u001b[33mWartość = 3\u001b[0m\n",
       "│       │       │   └── \u001b[32mKlasa: 0\u001b[0m\n",
       "│       │       └── \u001b[33mWartość = 5\u001b[0m\n",
       "│       │           └── \u001b[32mKlasa: 0\u001b[0m\n",
       "│       ├── \u001b[33mWartość = 5\u001b[0m\n",
       "│       │   └── \u001b[32mKlasa: 1\u001b[0m\n",
       "│       ├── \u001b[33mWartość = 6\u001b[0m\n",
       "│       │   └── \u001b[32mKlasa: 0\u001b[0m\n",
       "│       └── \u001b[33mWartość = 7\u001b[0m\n",
       "│           └── \u001b[36mCecha 20\u001b[0m\n",
       "│               ├── \u001b[33mWartość = 1\u001b[0m\n",
       "│               │   └── \u001b[32mKlasa: 1\u001b[0m\n",
       "│               ├── \u001b[33mWartość = 4\u001b[0m\n",
       "│               │   └── \u001b[32mKlasa: 0\u001b[0m\n",
       "│               └── \u001b[33mWartość = 5\u001b[0m\n",
       "│                   └── \u001b[32mKlasa: 0\u001b[0m\n",
       "├── \u001b[33mWartość = 1\u001b[0m\n",
       "│   └── \u001b[36mCecha 4\u001b[0m\n",
       "│       ├── \u001b[33mWartość = 0\u001b[0m\n",
       "│       │   └── \u001b[32mKlasa: 0\u001b[0m\n",
       "│       ├── \u001b[33mWartość = 3\u001b[0m\n",
       "│       │   └── \u001b[32mKlasa: 0\u001b[0m\n",
       "│       ├── \u001b[33mWartość = 4\u001b[0m\n",
       "│       │   └── \u001b[32mKlasa: 1\u001b[0m\n",
       "│       └── \u001b[33mWartość = 5\u001b[0m\n",
       "│           └── \u001b[32mKlasa: 1\u001b[0m\n",
       "├── \u001b[33mWartość = 2\u001b[0m\n",
       "│   └── \u001b[36mCecha 4\u001b[0m\n",
       "│       ├── \u001b[33mWartość = 5\u001b[0m\n",
       "│       │   └── \u001b[32mKlasa: 0\u001b[0m\n",
       "│       └── \u001b[33mWartość = 6\u001b[0m\n",
       "│           └── \u001b[32mKlasa: 1\u001b[0m\n",
       "├── \u001b[33mWartość = 3\u001b[0m\n",
       "│   └── \u001b[32mKlasa: 0\u001b[0m\n",
       "└── \u001b[33mWartość = 4\u001b[0m\n",
       "    └── \u001b[36mCecha 4\u001b[0m\n",
       "        ├── \u001b[33mWartość = 2\u001b[0m\n",
       "        │   └── \u001b[32mKlasa: 1\u001b[0m\n",
       "        ├── \u001b[33mWartość = 5\u001b[0m\n",
       "        │   └── \u001b[36mCecha 14\u001b[0m\n",
       "        │       ├── \u001b[33mWartość = 2\u001b[0m\n",
       "        │       │   └── \u001b[32mKlasa: 0\u001b[0m\n",
       "        │       ├── \u001b[33mWartość = 4\u001b[0m\n",
       "        │       │   └── \u001b[32mKlasa: 1\u001b[0m\n",
       "        │       ├── \u001b[33mWartość = 5\u001b[0m\n",
       "        │       │   └── \u001b[32mKlasa: 0\u001b[0m\n",
       "        │       ├── \u001b[33mWartość = 7\u001b[0m\n",
       "        │       │   └── \u001b[32mKlasa: 0\u001b[0m\n",
       "        │       └── \u001b[33mWartość = 8\u001b[0m\n",
       "        │           └── \u001b[32mKlasa: 1\u001b[0m\n",
       "        ├── \u001b[33mWartość = 7\u001b[0m\n",
       "        │   └── \u001b[32mKlasa: 1\u001b[0m\n",
       "        └── \u001b[33mWartość = 8\u001b[0m\n",
       "            └── \u001b[32mKlasa: 1\u001b[0m\n"
      ]
     },
     "metadata": {},
     "output_type": "display_data"
    }
   ],
   "source": [
    "data = fetch_openml(name=\"mushroom\", version=1, as_frame=True)\n",
    "X = data.data\n",
    "y = data.target\n",
    "\n",
    "X = X.apply(LabelEncoder().fit_transform)\n",
    "y = LabelEncoder().fit_transform(y)\n",
    "X_train, X_val, y_train, y_val = train_test_split(\n",
    "    X, y, test_size=0.2, random_state=3131, stratify=y\n",
    ")\n",
    "feature_order = list(range(X.shape[1]))\n",
    "clf = CustomDecisionTreeClassifier(preference_list=feature_order[::-1],\n",
    "                                   similarity_threshold=0.5,\n",
    "                                   max_depth=4,\n",
    "                                   min_samples_split=5,\n",
    "                                   interactive=True,\n",
    "                                   interactive_threshold=0.5)\n",
    "clf.fit(X_train, y_train)\n",
    "evaluate_model(clf, X_val, y_val, target_names=[\"edible\", \"poisonous\"])\n",
    "console = Console()\n",
    "console.print(clf.to_rich())"
   ]
  }
 ],
 "metadata": {
  "kernelspec": {
   "display_name": "zprp",
   "language": "python",
   "name": "python3"
  },
  "language_info": {
   "codemirror_mode": {
    "name": "ipython",
    "version": 3
   },
   "file_extension": ".py",
   "mimetype": "text/x-python",
   "name": "python",
   "nbconvert_exporter": "python",
   "pygments_lexer": "ipython3",
   "version": "3.12.2"
  }
 },
 "nbformat": 4,
 "nbformat_minor": 5
}

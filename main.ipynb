{
 "cells": [
  {
   "cell_type": "markdown",
   "id": "43480977",
   "metadata": {},
   "source": [
    "# Implementacja"
   ]
  },
  {
   "cell_type": "markdown",
   "id": "aedd5a3b",
   "metadata": {},
   "source": [
    "#### Import bibliotek"
   ]
  },
  {
   "cell_type": "code",
   "execution_count": 94,
   "id": "f38096c8",
   "metadata": {},
   "outputs": [],
   "source": [
    "import numpy as np\n",
    "import pandas as pd\n",
    "from anytree import Node, RenderTree\n",
    "from sklearn.tree import DecisionTreeClassifier\n",
    "from sklearn.model_selection import train_test_split\n",
    "from sklearn.base import BaseEstimator, ClassifierMixin\n",
    "from sklearn.tree import _tree\n",
    "from sklearn.datasets import fetch_openml\n",
    "from sklearn.preprocessing import LabelEncoder\n",
    "from rich.tree import Tree as RichTree\n",
    "from rich import print\n",
    "from IPython.display import clear_output\n",
    "from rich.console import Console\n",
    "import json\n",
    "from sklearn.metrics import (\n",
    "    accuracy_score,\n",
    "    f1_score,\n",
    "    confusion_matrix,\n",
    "    roc_curve,\n",
    "    auc,\n",
    "    ConfusionMatrixDisplay,\n",
    "    RocCurveDisplay\n",
    ")\n",
    "import matplotlib.pyplot as plt"
   ]
  },
  {
   "cell_type": "markdown",
   "id": "bd57bff7",
   "metadata": {},
   "source": [
    "#### Implementacja drzewa"
   ]
  },
  {
   "cell_type": "code",
   "execution_count": 95,
   "id": "d0cbc8ae",
   "metadata": {},
   "outputs": [],
   "source": [
    "from sklearn.base import BaseEstimator, ClassifierMixin\n",
    "from IPython.display import clear_output\n",
    "from rich.console import Console\n",
    "from rich.tree import Tree as RichTree\n",
    "import numpy as np\n",
    "\n",
    "\n",
    "class CustomDecisionTreeClassifier(BaseEstimator, ClassifierMixin):\n",
    "    def __init__(self, max_depth=None, similarity_threshold=0.01, preference_list=None,\n",
    "                 interactive=False, interactive_threshold=0.01, random_state=None, min_samples_split=2):\n",
    "        self.max_depth = max_depth\n",
    "        self.similarity_threshold = similarity_threshold\n",
    "        self.preference_list = preference_list or []\n",
    "        self.interactive = interactive\n",
    "        self.interactive_threshold = interactive_threshold\n",
    "        self.random_state = random_state\n",
    "        self.min_samples_split = min_samples_split\n",
    "        self.tree_ = None\n",
    "        self.last_rich = None\n",
    "        self.console = Console()\n",
    "\n",
    "    def _calculate_split_quality(self, X, y, feature_index):\n",
    "        values = X[:, feature_index]\n",
    "        unique_values = np.unique(values)\n",
    "        splits = [y[values == val] for val in unique_values]\n",
    "        weighted_gini = sum(len(s) / len(y) * (1 - sum((np.mean(s == c) ** 2 for c in np.unique(s)))) for s in splits)\n",
    "        return -weighted_gini\n",
    "\n",
    "    def _choose_split(self, qualities, highlight_path):\n",
    "        best_quality = qualities[0][1]\n",
    "        candidates = [q for q in qualities if abs(q[1] - best_quality) <= self.similarity_threshold]\n",
    "\n",
    "        if self.interactive and abs(candidates[0][1] - candidates[-1][1]) <= self.interactive_threshold:\n",
    "            clear_output(wait=True)\n",
    "            self.console.print(\"[bold cyan]Aktualne drzewo (➤ podświetlony węzeł):[/bold cyan]\")\n",
    "            self.console.print(self.last_rich)\n",
    "\n",
    "            self.console.print(\"\\n[bold yellow]Zbliżona jakość cech. Wybierz jedną:[/bold yellow]\")\n",
    "            for idx, (f, q) in enumerate(candidates):\n",
    "                self.console.print(f\"[bold blue]{idx}[/bold blue]: Cecha [cyan]{f}[/cyan] (Jakość: [green]{q:.4f}[/green])\")\n",
    "\n",
    "            try:\n",
    "                choice = int(input(\"🧠 Wybierz indeks cechy: \"))\n",
    "                if choice < 0 or choice >= len(candidates):\n",
    "                    print(\"❗ Niepoprawny wybór, używam pierwszego kandydata.\")\n",
    "                    choice = 0\n",
    "            except ValueError:\n",
    "                print(\"❗ Błąd wejścia, używam pierwszego kandydata.\")\n",
    "                choice = 0\n",
    "            return candidates[choice][0]\n",
    "\n",
    "        if self.preference_list:\n",
    "            candidate_features = {f for f, _ in candidates}\n",
    "            for preferred in self.preference_list:\n",
    "                if preferred in candidate_features:\n",
    "                    return preferred\n",
    "\n",
    "        return candidates[0][0]\n",
    "\n",
    "    def _build_tree(self, X, y, depth=0, used_features=None, path=None):\n",
    "        if used_features is None:\n",
    "            used_features = set()\n",
    "        if path is None:\n",
    "            path = []\n",
    "\n",
    "        if (self.max_depth is not None and depth >= self.max_depth) or len(set(y)) == 1 or \\\n",
    "           len(y) < self.min_samples_split or (len(used_features) == X.shape[1]):\n",
    "            return {\n",
    "                'type': 'leaf',\n",
    "                'class': np.bincount(y).argmax(),\n",
    "                'label_counts': np.bincount(y, minlength=2)\n",
    "            }\n",
    "\n",
    "        qualities = [\n",
    "            (i, self._calculate_split_quality(X, y, i))\n",
    "            for i in range(X.shape[1]) if i not in used_features\n",
    "        ]\n",
    "        if not qualities:\n",
    "            return {\n",
    "                'type': 'leaf',\n",
    "                'class': np.bincount(y).argmax(),\n",
    "                'label_counts': np.bincount(y, minlength=2)\n",
    "            }\n",
    "\n",
    "        qualities.sort(key=lambda x: -x[1])\n",
    "        feature = self._choose_split(qualities, path)\n",
    "        new_used_features = used_features.copy()\n",
    "        new_used_features.add(feature)\n",
    "\n",
    "        default_class = np.bincount(y).argmax()\n",
    "        node = {'type': 'split', 'feature': feature, 'branches': {}, 'default_class': default_class}\n",
    "\n",
    "        values = np.unique(X[:, feature])\n",
    "        for val in values:\n",
    "            idx = X[:, feature] == val\n",
    "            if np.sum(idx) == 0:\n",
    "                continue\n",
    "            child_path = path + [(feature, val)]\n",
    "            node['branches'][val] = self._build_tree(X[idx], y[idx], depth + 1, new_used_features, child_path)\n",
    "\n",
    "            # Po każdym branchu aktualizuj drzewo\n",
    "            if self.interactive:\n",
    "                clear_output(wait=True)\n",
    "                temp_tree = self.tree_ or node  # użyj bieżącego fragmentu\n",
    "                rich_tree = self.to_rich(temp_tree, highlight_path=child_path)\n",
    "                self.last_rich = rich_tree\n",
    "\n",
    "        if not node['branches']:\n",
    "            return {\n",
    "                'type': 'leaf',\n",
    "                'class': default_class,\n",
    "                'label_counts': np.bincount(y, minlength=2)\n",
    "            }\n",
    "\n",
    "        return node\n",
    "\n",
    "    def fit(self, X, y):\n",
    "        self.tree_ = self._build_tree(np.array(X), np.array(y))\n",
    "        return self\n",
    "\n",
    "    def _predict_sample(self, x, node):\n",
    "        if node['type'] == 'leaf':\n",
    "            return node['class']\n",
    "        val = x[node['feature']]\n",
    "        branch = node['branches'].get(val)\n",
    "        if branch is None:\n",
    "            return node.get('default_class', 0)\n",
    "        return self._predict_sample(x, branch)\n",
    "\n",
    "    def predict(self, X):\n",
    "        return np.array([self._predict_sample(x, self.tree_) for x in X.to_numpy()])\n",
    "\n",
    "    def predict_proba(self, X):\n",
    "        def _predict_proba_sample(x, node):\n",
    "            if node['type'] == 'leaf':\n",
    "                counts = np.zeros(2)\n",
    "                total = sum(node.get('label_counts', [0]))\n",
    "                if total > 0:\n",
    "                    counts[:len(node['label_counts'])] = node['label_counts']\n",
    "                    return counts / total\n",
    "                else:\n",
    "                    return np.array([0.5, 0.5])\n",
    "            val = x[node['feature']]\n",
    "            branch = node['branches'].get(val)\n",
    "            if branch is None:\n",
    "                return np.array([0.5, 0.5])\n",
    "            return _predict_proba_sample(x, branch)\n",
    "\n",
    "        return np.array([_predict_proba_sample(x, self.tree_) for x in X.to_numpy()])\n",
    "\n",
    "    def to_rich(self, node=None, highlight_path=None):\n",
    "        if node is None:\n",
    "            node = self.tree_\n",
    "        if highlight_path is None:\n",
    "            highlight_path = []\n",
    "\n",
    "        def build_tree(node, path_so_far):\n",
    "            highlight = path_so_far == highlight_path\n",
    "            if node['type'] == 'leaf':\n",
    "                label = f\"[green]Klasa: {node['class']}[/green]\"\n",
    "                if highlight:\n",
    "                    label = f\"[bold red]➤ {label}[/bold red]\"\n",
    "                return RichTree(label)\n",
    "\n",
    "            label = f\"[cyan]Cecha {node['feature']}[/cyan]\"\n",
    "            if highlight:\n",
    "                label = f\"[bold red]➤ {label}[/bold red]\"\n",
    "            tree = RichTree(label)\n",
    "\n",
    "            for val, child in node['branches'].items():\n",
    "                new_path = path_so_far + [(node['feature'], val)]\n",
    "                branch_label = f\"[yellow]Wartość = {val}[/yellow]\"\n",
    "                subtree = build_tree(child, new_path)\n",
    "                tree.add(branch_label).children.append(subtree)\n",
    "            return tree\n",
    "\n",
    "        return build_tree(node, [])\n"
   ]
  },
  {
   "cell_type": "markdown",
   "id": "e4489f70",
   "metadata": {},
   "source": [
    "#### Evaluate model"
   ]
  },
  {
   "cell_type": "code",
   "execution_count": 96,
   "id": "1f770480",
   "metadata": {},
   "outputs": [],
   "source": [
    "def train_and_evaluate_model(model, X, y, target_names=None, test_size=0.2, random_state=42):\n",
    "    # Data split\n",
    "    X_train, X_val, y_train, y_val = train_test_split(\n",
    "        X, y, test_size=test_size, random_state=random_state, stratify=y\n",
    "    )\n",
    "    \n",
    "    # Fit model\n",
    "    model.fit(X_train, y_train)\n",
    "    y_pred = model.predict(X_val)\n",
    "\n",
    "    acc = accuracy_score(y_val, y_pred)\n",
    "    f1_macro = f1_score(y_val, y_pred, average='macro')\n",
    "    f1_micro = f1_score(y_val, y_pred, average='micro')\n",
    "    cm = confusion_matrix(y_val, y_pred)\n",
    "\n",
    "    print(f\"Accuracy: {acc:.4f}\")\n",
    "    print(f\"F1 Score (macro): {f1_macro:.4f}\")\n",
    "    print(f\"F1 Score (micro): {f1_micro:.4f}\")\n",
    "    print(f\"Confusion Matrix:\\n{cm}\")\n",
    "\n",
    "    # Confusion Matrix plot\n",
    "    disp = ConfusionMatrixDisplay(confusion_matrix=cm, display_labels=target_names)\n",
    "    disp.plot(cmap='Blues')\n",
    "    plt.title(\"Confusion Matrix\")\n",
    "    plt.show()\n",
    "\n",
    "    # ROC + AUC only for binary classification\n",
    "    if len(np.unique(y_val)) == 2:\n",
    "        if hasattr(model, \"predict_proba\"):\n",
    "            y_scores = model.predict_proba(X_val)[:, 1]\n",
    "        else:\n",
    "            try:\n",
    "                y_scores = model.decision_function(X_val)\n",
    "            except:\n",
    "                print(\"Model does not support decision function or predict_proba.\")\n",
    "                return\n",
    "\n",
    "        fpr, tpr, _ = roc_curve(y_val, y_scores)\n",
    "        roc_auc = auc(fpr, tpr)\n",
    "        \n",
    "        print(f\"AUC: {roc_auc:.4f}\")\n",
    "        RocCurveDisplay(fpr=fpr, tpr=tpr, roc_auc=roc_auc).plot()\n",
    "        plt.title(\"ROC Curve\")\n",
    "        plt.show()\n",
    "    else:\n",
    "        print(\"ROC + AUC only for binary classification.\")\n",
    "    \n",
    "    return model\n",
    "\n",
    "def evaluate_model(model, X, y, target_names=None):\n",
    "    y_pred = model.predict(X)\n",
    "    acc = accuracy_score(y, y_pred)\n",
    "    f1_macro = f1_score(y, y_pred, average='macro')\n",
    "    f1_micro = f1_score(y, y_pred, average='micro')\n",
    "    cm = confusion_matrix(y, y_pred)\n",
    "\n",
    "    print(f\"Accuracy: {acc:.4f}\")\n",
    "    print(f\"F1 Score (macro): {f1_macro:.4f}\")\n",
    "    print(f\"F1 Score (micro): {f1_micro:.4f}\")\n",
    "    print(f\"Confusion Matrix:\\n{cm}\")\n",
    "\n",
    "    # Confusion Matrix plot\n",
    "    disp = ConfusionMatrixDisplay(confusion_matrix=cm, display_labels=target_names)\n",
    "    disp.plot(cmap='Blues')\n",
    "    plt.title(\"Confusion Matrix\")\n",
    "    plt.show()"
   ]
  },
  {
   "cell_type": "markdown",
   "id": "1fa08b02",
   "metadata": {},
   "source": [
    "#### Przykład wywołania (preferencje)"
   ]
  },
  {
   "cell_type": "code",
   "execution_count": 97,
   "id": "5a23bddb",
   "metadata": {},
   "outputs": [
    {
     "data": {
      "text/html": [
       "<pre style=\"white-space:pre;overflow-x:auto;line-height:normal;font-family:Menlo,'DejaVu Sans Mono',consolas,'Courier New',monospace\">Accuracy: <span style=\"color: #008080; text-decoration-color: #008080; font-weight: bold\">0.9618</span>\n",
       "</pre>\n"
      ],
      "text/plain": [
       "Accuracy: \u001b[1;36m0.9618\u001b[0m\n"
      ]
     },
     "metadata": {},
     "output_type": "display_data"
    },
    {
     "data": {
      "text/html": [
       "<pre style=\"white-space:pre;overflow-x:auto;line-height:normal;font-family:Menlo,'DejaVu Sans Mono',consolas,'Courier New',monospace\">F1 Score <span style=\"font-weight: bold\">(</span>macro<span style=\"font-weight: bold\">)</span>: <span style=\"color: #008080; text-decoration-color: #008080; font-weight: bold\">0.9618</span>\n",
       "</pre>\n"
      ],
      "text/plain": [
       "F1 Score \u001b[1m(\u001b[0mmacro\u001b[1m)\u001b[0m: \u001b[1;36m0.9618\u001b[0m\n"
      ]
     },
     "metadata": {},
     "output_type": "display_data"
    },
    {
     "data": {
      "text/html": [
       "<pre style=\"white-space:pre;overflow-x:auto;line-height:normal;font-family:Menlo,'DejaVu Sans Mono',consolas,'Courier New',monospace\">F1 Score <span style=\"font-weight: bold\">(</span>micro<span style=\"font-weight: bold\">)</span>: <span style=\"color: #008080; text-decoration-color: #008080; font-weight: bold\">0.9618</span>\n",
       "</pre>\n"
      ],
      "text/plain": [
       "F1 Score \u001b[1m(\u001b[0mmicro\u001b[1m)\u001b[0m: \u001b[1;36m0.9618\u001b[0m\n"
      ]
     },
     "metadata": {},
     "output_type": "display_data"
    },
    {
     "data": {
      "text/html": [
       "<pre style=\"white-space:pre;overflow-x:auto;line-height:normal;font-family:Menlo,'DejaVu Sans Mono',consolas,'Courier New',monospace\">Confusion Matrix:\n",
       "<span style=\"font-weight: bold\">[[</span><span style=\"color: #008080; text-decoration-color: #008080; font-weight: bold\">816</span>  <span style=\"color: #008080; text-decoration-color: #008080; font-weight: bold\">26</span><span style=\"font-weight: bold\">]</span>\n",
       " <span style=\"font-weight: bold\">[</span> <span style=\"color: #008080; text-decoration-color: #008080; font-weight: bold\">36</span> <span style=\"color: #008080; text-decoration-color: #008080; font-weight: bold\">747</span><span style=\"font-weight: bold\">]]</span>\n",
       "</pre>\n"
      ],
      "text/plain": [
       "Confusion Matrix:\n",
       "\u001b[1m[\u001b[0m\u001b[1m[\u001b[0m\u001b[1;36m816\u001b[0m  \u001b[1;36m26\u001b[0m\u001b[1m]\u001b[0m\n",
       " \u001b[1m[\u001b[0m \u001b[1;36m36\u001b[0m \u001b[1;36m747\u001b[0m\u001b[1m]\u001b[0m\u001b[1m]\u001b[0m\n"
      ]
     },
     "metadata": {},
     "output_type": "display_data"
    },
    {
     "data": {
      "image/png": "[encoded data removed]",
      "text/plain": [
       "<Figure size 640x480 with 2 Axes>"
      ]
     },
     "metadata": {},
     "output_type": "display_data"
    },
    {
     "data": {
      "text/html": [
       "<pre style=\"white-space:pre;overflow-x:auto;line-height:normal;font-family:Menlo,'DejaVu Sans Mono',consolas,'Courier New',monospace\">AUC: <span style=\"color: #008080; text-decoration-color: #008080; font-weight: bold\">0.9933</span>\n",
       "</pre>\n"
      ],
      "text/plain": [
       "AUC: \u001b[1;36m0.9933\u001b[0m\n"
      ]
     },
     "metadata": {},
     "output_type": "display_data"
    },
    {
     "data": {
      "image/png": "[encoded data removed]",
      "text/plain": [
       "<Figure size 640x480 with 1 Axes>"
      ]
     },
     "metadata": {},
     "output_type": "display_data"
    },
    {
     "data": {
      "text/html": [
       "<pre style=\"white-space:pre;overflow-x:auto;line-height:normal;font-family:Menlo,'DejaVu Sans Mono',consolas,'Courier New',monospace\"><span style=\"color: #800000; text-decoration-color: #800000; font-weight: bold\">➤ </span><span style=\"color: #008080; text-decoration-color: #008080; font-weight: bold\">Cecha 21</span>\n",
       "├── <span style=\"color: #808000; text-decoration-color: #808000\">Wartość = 0</span>\n",
       "│   └── <span style=\"color: #008080; text-decoration-color: #008080\">Cecha 20</span>\n",
       "│       ├── <span style=\"color: #808000; text-decoration-color: #808000\">Wartość = 1</span>\n",
       "│       │   └── <span style=\"color: #008000; text-decoration-color: #008000\">Klasa: 1</span>\n",
       "│       ├── <span style=\"color: #808000; text-decoration-color: #808000\">Wartość = 3</span>\n",
       "│       │   └── <span style=\"color: #008000; text-decoration-color: #008000\">Klasa: 1</span>\n",
       "│       ├── <span style=\"color: #808000; text-decoration-color: #808000\">Wartość = 4</span>\n",
       "│       │   └── <span style=\"color: #008080; text-decoration-color: #008080\">Cecha 19</span>\n",
       "│       │       ├── <span style=\"color: #808000; text-decoration-color: #808000\">Wartość = 1</span>\n",
       "│       │       │   └── <span style=\"color: #008080; text-decoration-color: #008080\">Cecha 18</span>\n",
       "│       │       │       ├── <span style=\"color: #808000; text-decoration-color: #808000\">Wartość = 1</span>\n",
       "│       │       │       │   └── <span style=\"color: #008000; text-decoration-color: #008000\">Klasa: 0</span>\n",
       "│       │       │       └── <span style=\"color: #808000; text-decoration-color: #808000\">Wartość = 2</span>\n",
       "│       │       │           └── <span style=\"color: #008000; text-decoration-color: #008000\">Klasa: 1</span>\n",
       "│       │       ├── <span style=\"color: #808000; text-decoration-color: #808000\">Wartość = 2</span>\n",
       "│       │       │   └── <span style=\"color: #008080; text-decoration-color: #008080\">Cecha 18</span>\n",
       "│       │       │       └── <span style=\"color: #808000; text-decoration-color: #808000\">Wartość = 4</span>\n",
       "│       │       │           └── <span style=\"color: #008000; text-decoration-color: #008000\">Klasa: 0</span>\n",
       "│       │       ├── <span style=\"color: #808000; text-decoration-color: #808000\">Wartość = 3</span>\n",
       "│       │       │   └── <span style=\"color: #008080; text-decoration-color: #008080\">Cecha 18</span>\n",
       "│       │       │       └── <span style=\"color: #808000; text-decoration-color: #808000\">Wartość = 4</span>\n",
       "│       │       │           └── <span style=\"color: #008000; text-decoration-color: #008000\">Klasa: 0</span>\n",
       "│       │       ├── <span style=\"color: #808000; text-decoration-color: #808000\">Wartość = 6</span>\n",
       "│       │       │   └── <span style=\"color: #008000; text-decoration-color: #008000\">Klasa: 0</span>\n",
       "│       │       └── <span style=\"color: #808000; text-decoration-color: #808000\">Wartość = 7</span>\n",
       "│       │           └── <span style=\"color: #008000; text-decoration-color: #008000\">Klasa: 1</span>\n",
       "│       └── <span style=\"color: #808000; text-decoration-color: #808000\">Wartość = 5</span>\n",
       "│           └── <span style=\"color: #008080; text-decoration-color: #008080\">Cecha 19</span>\n",
       "│               ├── <span style=\"color: #808000; text-decoration-color: #808000\">Wartość = 1</span>\n",
       "│               │   └── <span style=\"color: #008080; text-decoration-color: #008080\">Cecha 18</span>\n",
       "│               │       ├── <span style=\"color: #808000; text-decoration-color: #808000\">Wartość = 1</span>\n",
       "│               │       │   └── <span style=\"color: #008000; text-decoration-color: #008000\">Klasa: 0</span>\n",
       "│               │       └── <span style=\"color: #808000; text-decoration-color: #808000\">Wartość = 2</span>\n",
       "│               │           └── <span style=\"color: #008000; text-decoration-color: #008000\">Klasa: 1</span>\n",
       "│               ├── <span style=\"color: #808000; text-decoration-color: #808000\">Wartość = 2</span>\n",
       "│               │   └── <span style=\"color: #008000; text-decoration-color: #008000\">Klasa: 0</span>\n",
       "│               ├── <span style=\"color: #808000; text-decoration-color: #808000\">Wartość = 3</span>\n",
       "│               │   └── <span style=\"color: #008000; text-decoration-color: #008000\">Klasa: 0</span>\n",
       "│               └── <span style=\"color: #808000; text-decoration-color: #808000\">Wartość = 7</span>\n",
       "│                   └── <span style=\"color: #008000; text-decoration-color: #008000\">Klasa: 0</span>\n",
       "├── <span style=\"color: #808000; text-decoration-color: #808000\">Wartość = 1</span>\n",
       "│   └── <span style=\"color: #008080; text-decoration-color: #008080\">Cecha 20</span>\n",
       "│       ├── <span style=\"color: #808000; text-decoration-color: #808000\">Wartość = 0</span>\n",
       "│       │   └── <span style=\"color: #008000; text-decoration-color: #008000\">Klasa: 0</span>\n",
       "│       ├── <span style=\"color: #808000; text-decoration-color: #808000\">Wartość = 2</span>\n",
       "│       │   └── <span style=\"color: #008000; text-decoration-color: #008000\">Klasa: 0</span>\n",
       "│       ├── <span style=\"color: #808000; text-decoration-color: #808000\">Wartość = 3</span>\n",
       "│       │   └── <span style=\"color: #008080; text-decoration-color: #008080\">Cecha 19</span>\n",
       "│       │       ├── <span style=\"color: #808000; text-decoration-color: #808000\">Wartość = 1</span>\n",
       "│       │       │   └── <span style=\"color: #008000; text-decoration-color: #008000\">Klasa: 1</span>\n",
       "│       │       ├── <span style=\"color: #808000; text-decoration-color: #808000\">Wartość = 2</span>\n",
       "│       │       │   └── <span style=\"color: #008080; text-decoration-color: #008080\">Cecha 18</span>\n",
       "│       │       │       ├── <span style=\"color: #808000; text-decoration-color: #808000\">Wartość = 0</span>\n",
       "│       │       │       │   └── <span style=\"color: #008000; text-decoration-color: #008000\">Klasa: 0</span>\n",
       "│       │       │       └── <span style=\"color: #808000; text-decoration-color: #808000\">Wartość = 4</span>\n",
       "│       │       │           └── <span style=\"color: #008000; text-decoration-color: #008000\">Klasa: 0</span>\n",
       "│       │       ├── <span style=\"color: #808000; text-decoration-color: #808000\">Wartość = 3</span>\n",
       "│       │       │   └── <span style=\"color: #008080; text-decoration-color: #008080\">Cecha 18</span>\n",
       "│       │       │       ├── <span style=\"color: #808000; text-decoration-color: #808000\">Wartość = 0</span>\n",
       "│       │       │       │   └── <span style=\"color: #008000; text-decoration-color: #008000\">Klasa: 0</span>\n",
       "│       │       │       └── <span style=\"color: #808000; text-decoration-color: #808000\">Wartość = 4</span>\n",
       "│       │       │           └── <span style=\"color: #008000; text-decoration-color: #008000\">Klasa: 0</span>\n",
       "│       │       └── <span style=\"color: #808000; text-decoration-color: #808000\">Wartość = 7</span>\n",
       "│       │           └── <span style=\"color: #008000; text-decoration-color: #008000\">Klasa: 0</span>\n",
       "│       ├── <span style=\"color: #808000; text-decoration-color: #808000\">Wartość = 4</span>\n",
       "│       │   └── <span style=\"color: #008000; text-decoration-color: #008000\">Klasa: 1</span>\n",
       "│       └── <span style=\"color: #808000; text-decoration-color: #808000\">Wartość = 5</span>\n",
       "│           └── <span style=\"color: #008080; text-decoration-color: #008080\">Cecha 19</span>\n",
       "│               ├── <span style=\"color: #808000; text-decoration-color: #808000\">Wartość = 1</span>\n",
       "│               │   └── <span style=\"color: #008000; text-decoration-color: #008000\">Klasa: 1</span>\n",
       "│               ├── <span style=\"color: #808000; text-decoration-color: #808000\">Wartość = 2</span>\n",
       "│               │   └── <span style=\"color: #008000; text-decoration-color: #008000\">Klasa: 0</span>\n",
       "│               └── <span style=\"color: #808000; text-decoration-color: #808000\">Wartość = 3</span>\n",
       "│                   └── <span style=\"color: #008000; text-decoration-color: #008000\">Klasa: 0</span>\n",
       "├── <span style=\"color: #808000; text-decoration-color: #808000\">Wartość = 2</span>\n",
       "│   └── <span style=\"color: #008080; text-decoration-color: #008080\">Cecha 20</span>\n",
       "│       ├── <span style=\"color: #808000; text-decoration-color: #808000\">Wartość = 1</span>\n",
       "│       │   └── <span style=\"color: #008080; text-decoration-color: #008080\">Cecha 19</span>\n",
       "│       │       ├── <span style=\"color: #808000; text-decoration-color: #808000\">Wartość = 0</span>\n",
       "│       │       │   └── <span style=\"color: #008000; text-decoration-color: #008000\">Klasa: 0</span>\n",
       "│       │       ├── <span style=\"color: #808000; text-decoration-color: #808000\">Wartość = 3</span>\n",
       "│       │       │   └── <span style=\"color: #008000; text-decoration-color: #008000\">Klasa: 0</span>\n",
       "│       │       ├── <span style=\"color: #808000; text-decoration-color: #808000\">Wartość = 4</span>\n",
       "│       │       │   └── <span style=\"color: #008000; text-decoration-color: #008000\">Klasa: 0</span>\n",
       "│       │       ├── <span style=\"color: #808000; text-decoration-color: #808000\">Wartość = 7</span>\n",
       "│       │       │   └── <span style=\"color: #008000; text-decoration-color: #008000\">Klasa: 1</span>\n",
       "│       │       └── <span style=\"color: #808000; text-decoration-color: #808000\">Wartość = 8</span>\n",
       "│       │           └── <span style=\"color: #008000; text-decoration-color: #008000\">Klasa: 0</span>\n",
       "│       └── <span style=\"color: #808000; text-decoration-color: #808000\">Wartość = 4</span>\n",
       "│           └── <span style=\"color: #008080; text-decoration-color: #008080\">Cecha 19</span>\n",
       "│               ├── <span style=\"color: #808000; text-decoration-color: #808000\">Wartość = 0</span>\n",
       "│               │   └── <span style=\"color: #008000; text-decoration-color: #008000\">Klasa: 0</span>\n",
       "│               ├── <span style=\"color: #808000; text-decoration-color: #808000\">Wartość = 3</span>\n",
       "│               │   └── <span style=\"color: #008000; text-decoration-color: #008000\">Klasa: 0</span>\n",
       "│               ├── <span style=\"color: #808000; text-decoration-color: #808000\">Wartość = 4</span>\n",
       "│               │   └── <span style=\"color: #008000; text-decoration-color: #008000\">Klasa: 0</span>\n",
       "│               ├── <span style=\"color: #808000; text-decoration-color: #808000\">Wartość = 7</span>\n",
       "│               │   └── <span style=\"color: #008080; text-decoration-color: #008080\">Cecha 18</span>\n",
       "│               │       └── <span style=\"color: #808000; text-decoration-color: #808000\">Wartość = 0</span>\n",
       "│               │           └── <span style=\"color: #008000; text-decoration-color: #008000\">Klasa: 1</span>\n",
       "│               └── <span style=\"color: #808000; text-decoration-color: #808000\">Wartość = 8</span>\n",
       "│                   └── <span style=\"color: #008000; text-decoration-color: #008000\">Klasa: 0</span>\n",
       "├── <span style=\"color: #808000; text-decoration-color: #808000\">Wartość = 3</span>\n",
       "│   └── <span style=\"color: #008080; text-decoration-color: #008080\">Cecha 20</span>\n",
       "│       ├── <span style=\"color: #808000; text-decoration-color: #808000\">Wartość = 2</span>\n",
       "│       │   └── <span style=\"color: #008000; text-decoration-color: #008000\">Klasa: 0</span>\n",
       "│       ├── <span style=\"color: #808000; text-decoration-color: #808000\">Wartość = 3</span>\n",
       "│       │   └── <span style=\"color: #008000; text-decoration-color: #008000\">Klasa: 0</span>\n",
       "│       └── <span style=\"color: #808000; text-decoration-color: #808000\">Wartość = 4</span>\n",
       "│           └── <span style=\"color: #008000; text-decoration-color: #008000\">Klasa: 1</span>\n",
       "├── <span style=\"color: #808000; text-decoration-color: #808000\">Wartość = 4</span>\n",
       "│   └── <span style=\"color: #008080; text-decoration-color: #008080\">Cecha 20</span>\n",
       "│       ├── <span style=\"color: #808000; text-decoration-color: #808000\">Wartość = 3</span>\n",
       "│       │   └── <span style=\"color: #008000; text-decoration-color: #008000\">Klasa: 0</span>\n",
       "│       ├── <span style=\"color: #808000; text-decoration-color: #808000\">Wartość = 4</span>\n",
       "│       │   └── <span style=\"color: #008080; text-decoration-color: #008080\">Cecha 19</span>\n",
       "│       │       ├── <span style=\"color: #808000; text-decoration-color: #808000\">Wartość = 1</span>\n",
       "│       │       │   └── <span style=\"color: #008000; text-decoration-color: #008000\">Klasa: 1</span>\n",
       "│       │       └── <span style=\"color: #808000; text-decoration-color: #808000\">Wartość = 7</span>\n",
       "│       │           └── <span style=\"color: #008080; text-decoration-color: #008080\">Cecha 18</span>\n",
       "│       │               ├── <span style=\"color: #808000; text-decoration-color: #808000\">Wartość = 0</span>\n",
       "│       │               │   └── <span style=\"color: #008000; text-decoration-color: #008000\">Klasa: 1</span>\n",
       "│       │               └── <span style=\"color: #808000; text-decoration-color: #808000\">Wartość = 4</span>\n",
       "│       │                   └── <span style=\"color: #008000; text-decoration-color: #008000\">Klasa: 0</span>\n",
       "│       └── <span style=\"color: #808000; text-decoration-color: #808000\">Wartość = 5</span>\n",
       "│           └── <span style=\"color: #008080; text-decoration-color: #008080\">Cecha 19</span>\n",
       "│               ├── <span style=\"color: #808000; text-decoration-color: #808000\">Wartość = 1</span>\n",
       "│               │   └── <span style=\"color: #008000; text-decoration-color: #008000\">Klasa: 1</span>\n",
       "│               ├── <span style=\"color: #808000; text-decoration-color: #808000\">Wartość = 2</span>\n",
       "│               │   └── <span style=\"color: #008000; text-decoration-color: #008000\">Klasa: 0</span>\n",
       "│               ├── <span style=\"color: #808000; text-decoration-color: #808000\">Wartość = 3</span>\n",
       "│               │   └── <span style=\"color: #008000; text-decoration-color: #008000\">Klasa: 0</span>\n",
       "│               └── <span style=\"color: #808000; text-decoration-color: #808000\">Wartość = 7</span>\n",
       "│                   └── <span style=\"color: #008000; text-decoration-color: #008000\">Klasa: 0</span>\n",
       "├── <span style=\"color: #808000; text-decoration-color: #808000\">Wartość = 5</span>\n",
       "│   └── <span style=\"color: #008080; text-decoration-color: #008080\">Cecha 20</span>\n",
       "│       ├── <span style=\"color: #808000; text-decoration-color: #808000\">Wartość = 3</span>\n",
       "│       │   └── <span style=\"color: #008000; text-decoration-color: #008000\">Klasa: 1</span>\n",
       "│       ├── <span style=\"color: #808000; text-decoration-color: #808000\">Wartość = 4</span>\n",
       "│       │   └── <span style=\"color: #008080; text-decoration-color: #008080\">Cecha 19</span>\n",
       "│       │       ├── <span style=\"color: #808000; text-decoration-color: #808000\">Wartość = 1</span>\n",
       "│       │       │   └── <span style=\"color: #008000; text-decoration-color: #008000\">Klasa: 1</span>\n",
       "│       │       ├── <span style=\"color: #808000; text-decoration-color: #808000\">Wartość = 2</span>\n",
       "│       │       │   └── <span style=\"color: #008080; text-decoration-color: #008080\">Cecha 18</span>\n",
       "│       │       │       └── <span style=\"color: #808000; text-decoration-color: #808000\">Wartość = 4</span>\n",
       "│       │       │           └── <span style=\"color: #008000; text-decoration-color: #008000\">Klasa: 1</span>\n",
       "│       │       └── <span style=\"color: #808000; text-decoration-color: #808000\">Wartość = 3</span>\n",
       "│       │           └── <span style=\"color: #008080; text-decoration-color: #008080\">Cecha 18</span>\n",
       "│       │               └── <span style=\"color: #808000; text-decoration-color: #808000\">Wartość = 4</span>\n",
       "│       │                   └── <span style=\"color: #008000; text-decoration-color: #008000\">Klasa: 1</span>\n",
       "│       └── <span style=\"color: #808000; text-decoration-color: #808000\">Wartość = 5</span>\n",
       "│           └── <span style=\"color: #008000; text-decoration-color: #008000\">Klasa: 0</span>\n",
       "└── <span style=\"color: #808000; text-decoration-color: #808000\">Wartość = 6</span>\n",
       "    └── <span style=\"color: #008000; text-decoration-color: #008000\">Klasa: 0</span>\n",
       "</pre>\n"
      ],
      "text/plain": [
       "\u001b[1;31m➤ \u001b[0m\u001b[1;36mCecha 21\u001b[0m\n",
       "├── \u001b[33mWartość = 0\u001b[0m\n",
       "│   └── \u001b[36mCecha 20\u001b[0m\n",
       "│       ├── \u001b[33mWartość = 1\u001b[0m\n",
       "│       │   └── \u001b[32mKlasa: 1\u001b[0m\n",
       "│       ├── \u001b[33mWartość = 3\u001b[0m\n",
       "│       │   └── \u001b[32mKlasa: 1\u001b[0m\n",
       "│       ├── \u001b[33mWartość = 4\u001b[0m\n",
       "│       │   └── \u001b[36mCecha 19\u001b[0m\n",
       "│       │       ├── \u001b[33mWartość = 1\u001b[0m\n",
       "│       │       │   └── \u001b[36mCecha 18\u001b[0m\n",
       "│       │       │       ├── \u001b[33mWartość = 1\u001b[0m\n",
       "│       │       │       │   └── \u001b[32mKlasa: 0\u001b[0m\n",
       "│       │       │       └── \u001b[33mWartość = 2\u001b[0m\n",
       "│       │       │           └── \u001b[32mKlasa: 1\u001b[0m\n",
       "│       │       ├── \u001b[33mWartość = 2\u001b[0m\n",
       "│       │       │   └── \u001b[36mCecha 18\u001b[0m\n",
       "│       │       │       └── \u001b[33mWartość = 4\u001b[0m\n",
       "│       │       │           └── \u001b[32mKlasa: 0\u001b[0m\n",
       "│       │       ├── \u001b[33mWartość = 3\u001b[0m\n",
       "│       │       │   └── \u001b[36mCecha 18\u001b[0m\n",
       "│       │       │       └── \u001b[33mWartość = 4\u001b[0m\n",
       "│       │       │           └── \u001b[32mKlasa: 0\u001b[0m\n",
       "│       │       ├── \u001b[33mWartość = 6\u001b[0m\n",
       "│       │       │   └── \u001b[32mKlasa: 0\u001b[0m\n",
       "│       │       └── \u001b[33mWartość = 7\u001b[0m\n",
       "│       │           └── \u001b[32mKlasa: 1\u001b[0m\n",
       "│       └── \u001b[33mWartość = 5\u001b[0m\n",
       "│           └── \u001b[36mCecha 19\u001b[0m\n",
       "│               ├── \u001b[33mWartość = 1\u001b[0m\n",
       "│               │   └── \u001b[36mCecha 18\u001b[0m\n",
       "│               │       ├── \u001b[33mWartość = 1\u001b[0m\n",
       "│               │       │   └── \u001b[32mKlasa: 0\u001b[0m\n",
       "│               │       └── \u001b[33mWartość = 2\u001b[0m\n",
       "│               │           └── \u001b[32mKlasa: 1\u001b[0m\n",
       "│               ├── \u001b[33mWartość = 2\u001b[0m\n",
       "│               │   └── \u001b[32mKlasa: 0\u001b[0m\n",
       "│               ├── \u001b[33mWartość = 3\u001b[0m\n",
       "│               │   └── \u001b[32mKlasa: 0\u001b[0m\n",
       "│               └── \u001b[33mWartość = 7\u001b[0m\n",
       "│                   └── \u001b[32mKlasa: 0\u001b[0m\n",
       "├── \u001b[33mWartość = 1\u001b[0m\n",
       "│   └── \u001b[36mCecha 20\u001b[0m\n",
       "│       ├── \u001b[33mWartość = 0\u001b[0m\n",
       "│       │   └── \u001b[32mKlasa: 0\u001b[0m\n",
       "│       ├── \u001b[33mWartość = 2\u001b[0m\n",
       "│       │   └── \u001b[32mKlasa: 0\u001b[0m\n",
       "│       ├── \u001b[33mWartość = 3\u001b[0m\n",
       "│       │   └── \u001b[36mCecha 19\u001b[0m\n",
       "│       │       ├── \u001b[33mWartość = 1\u001b[0m\n",
       "│       │       │   └── \u001b[32mKlasa: 1\u001b[0m\n",
       "│       │       ├── \u001b[33mWartość = 2\u001b[0m\n",
       "│       │       │   └── \u001b[36mCecha 18\u001b[0m\n",
       "│       │       │       ├── \u001b[33mWartość = 0\u001b[0m\n",
       "│       │       │       │   └── \u001b[32mKlasa: 0\u001b[0m\n",
       "│       │       │       └── \u001b[33mWartość = 4\u001b[0m\n",
       "│       │       │           └── \u001b[32mKlasa: 0\u001b[0m\n",
       "│       │       ├── \u001b[33mWartość = 3\u001b[0m\n",
       "│       │       │   └── \u001b[36mCecha 18\u001b[0m\n",
       "│       │       │       ├── \u001b[33mWartość = 0\u001b[0m\n",
       "│       │       │       │   └── \u001b[32mKlasa: 0\u001b[0m\n",
       "│       │       │       └── \u001b[33mWartość = 4\u001b[0m\n",
       "│       │       │           └── \u001b[32mKlasa: 0\u001b[0m\n",
       "│       │       └── \u001b[33mWartość = 7\u001b[0m\n",
       "│       │           └── \u001b[32mKlasa: 0\u001b[0m\n",
       "│       ├── \u001b[33mWartość = 4\u001b[0m\n",
       "│       │   └── \u001b[32mKlasa: 1\u001b[0m\n",
       "│       └── \u001b[33mWartość = 5\u001b[0m\n",
       "│           └── \u001b[36mCecha 19\u001b[0m\n",
       "│               ├── \u001b[33mWartość = 1\u001b[0m\n",
       "│               │   └── \u001b[32mKlasa: 1\u001b[0m\n",
       "│               ├── \u001b[33mWartość = 2\u001b[0m\n",
       "│               │   └── \u001b[32mKlasa: 0\u001b[0m\n",
       "│               └── \u001b[33mWartość = 3\u001b[0m\n",
       "│                   └── \u001b[32mKlasa: 0\u001b[0m\n",
       "├── \u001b[33mWartość = 2\u001b[0m\n",
       "│   └── \u001b[36mCecha 20\u001b[0m\n",
       "│       ├── \u001b[33mWartość = 1\u001b[0m\n",
       "│       │   └── \u001b[36mCecha 19\u001b[0m\n",
       "│       │       ├── \u001b[33mWartość = 0\u001b[0m\n",
       "│       │       │   └── \u001b[32mKlasa: 0\u001b[0m\n",
       "│       │       ├── \u001b[33mWartość = 3\u001b[0m\n",
       "│       │       │   └── \u001b[32mKlasa: 0\u001b[0m\n",
       "│       │       ├── \u001b[33mWartość = 4\u001b[0m\n",
       "│       │       │   └── \u001b[32mKlasa: 0\u001b[0m\n",
       "│       │       ├── \u001b[33mWartość = 7\u001b[0m\n",
       "│       │       │   └── \u001b[32mKlasa: 1\u001b[0m\n",
       "│       │       └── \u001b[33mWartość = 8\u001b[0m\n",
       "│       │           └── \u001b[32mKlasa: 0\u001b[0m\n",
       "│       └── \u001b[33mWartość = 4\u001b[0m\n",
       "│           └── \u001b[36mCecha 19\u001b[0m\n",
       "│               ├── \u001b[33mWartość = 0\u001b[0m\n",
       "│               │   └── \u001b[32mKlasa: 0\u001b[0m\n",
       "│               ├── \u001b[33mWartość = 3\u001b[0m\n",
       "│               │   └── \u001b[32mKlasa: 0\u001b[0m\n",
       "│               ├── \u001b[33mWartość = 4\u001b[0m\n",
       "│               │   └── \u001b[32mKlasa: 0\u001b[0m\n",
       "│               ├── \u001b[33mWartość = 7\u001b[0m\n",
       "│               │   └── \u001b[36mCecha 18\u001b[0m\n",
       "│               │       └── \u001b[33mWartość = 0\u001b[0m\n",
       "│               │           └── \u001b[32mKlasa: 1\u001b[0m\n",
       "│               └── \u001b[33mWartość = 8\u001b[0m\n",
       "│                   └── \u001b[32mKlasa: 0\u001b[0m\n",
       "├── \u001b[33mWartość = 3\u001b[0m\n",
       "│   └── \u001b[36mCecha 20\u001b[0m\n",
       "│       ├── \u001b[33mWartość = 2\u001b[0m\n",
       "│       │   └── \u001b[32mKlasa: 0\u001b[0m\n",
       "│       ├── \u001b[33mWartość = 3\u001b[0m\n",
       "│       │   └── \u001b[32mKlasa: 0\u001b[0m\n",
       "│       └── \u001b[33mWartość = 4\u001b[0m\n",
       "│           └── \u001b[32mKlasa: 1\u001b[0m\n",
       "├── \u001b[33mWartość = 4\u001b[0m\n",
       "│   └── \u001b[36mCecha 20\u001b[0m\n",
       "│       ├── \u001b[33mWartość = 3\u001b[0m\n",
       "│       │   └── \u001b[32mKlasa: 0\u001b[0m\n",
       "│       ├── \u001b[33mWartość = 4\u001b[0m\n",
       "│       │   └── \u001b[36mCecha 19\u001b[0m\n",
       "│       │       ├── \u001b[33mWartość = 1\u001b[0m\n",
       "│       │       │   └── \u001b[32mKlasa: 1\u001b[0m\n",
       "│       │       └── \u001b[33mWartość = 7\u001b[0m\n",
       "│       │           └── \u001b[36mCecha 18\u001b[0m\n",
       "│       │               ├── \u001b[33mWartość = 0\u001b[0m\n",
       "│       │               │   └── \u001b[32mKlasa: 1\u001b[0m\n",
       "│       │               └── \u001b[33mWartość = 4\u001b[0m\n",
       "│       │                   └── \u001b[32mKlasa: 0\u001b[0m\n",
       "│       └── \u001b[33mWartość = 5\u001b[0m\n",
       "│           └── \u001b[36mCecha 19\u001b[0m\n",
       "│               ├── \u001b[33mWartość = 1\u001b[0m\n",
       "│               │   └── \u001b[32mKlasa: 1\u001b[0m\n",
       "│               ├── \u001b[33mWartość = 2\u001b[0m\n",
       "│               │   └── \u001b[32mKlasa: 0\u001b[0m\n",
       "│               ├── \u001b[33mWartość = 3\u001b[0m\n",
       "│               │   └── \u001b[32mKlasa: 0\u001b[0m\n",
       "│               └── \u001b[33mWartość = 7\u001b[0m\n",
       "│                   └── \u001b[32mKlasa: 0\u001b[0m\n",
       "├── \u001b[33mWartość = 5\u001b[0m\n",
       "│   └── \u001b[36mCecha 20\u001b[0m\n",
       "│       ├── \u001b[33mWartość = 3\u001b[0m\n",
       "│       │   └── \u001b[32mKlasa: 1\u001b[0m\n",
       "│       ├── \u001b[33mWartość = 4\u001b[0m\n",
       "│       │   └── \u001b[36mCecha 19\u001b[0m\n",
       "│       │       ├── \u001b[33mWartość = 1\u001b[0m\n",
       "│       │       │   └── \u001b[32mKlasa: 1\u001b[0m\n",
       "│       │       ├── \u001b[33mWartość = 2\u001b[0m\n",
       "│       │       │   └── \u001b[36mCecha 18\u001b[0m\n",
       "│       │       │       └── \u001b[33mWartość = 4\u001b[0m\n",
       "│       │       │           └── \u001b[32mKlasa: 1\u001b[0m\n",
       "│       │       └── \u001b[33mWartość = 3\u001b[0m\n",
       "│       │           └── \u001b[36mCecha 18\u001b[0m\n",
       "│       │               └── \u001b[33mWartość = 4\u001b[0m\n",
       "│       │                   └── \u001b[32mKlasa: 1\u001b[0m\n",
       "│       └── \u001b[33mWartość = 5\u001b[0m\n",
       "│           └── \u001b[32mKlasa: 0\u001b[0m\n",
       "└── \u001b[33mWartość = 6\u001b[0m\n",
       "    └── \u001b[32mKlasa: 0\u001b[0m\n"
      ]
     },
     "metadata": {},
     "output_type": "display_data"
    }
   ],
   "source": [
    "data = fetch_openml(name=\"mushroom\", version=1, as_frame=True)\n",
    "X = data.data\n",
    "y = data.target\n",
    "\n",
    "X = X.apply(LabelEncoder().fit_transform)\n",
    "y = LabelEncoder().fit_transform(y)\n",
    "\n",
    "feature_order = list(range(X.shape[1]))\n",
    "clf = CustomDecisionTreeClassifier(preference_list=feature_order[::-1],\n",
    "                                   similarity_threshold=0.5,\n",
    "                                   max_depth=4,\n",
    "                                   min_samples_split=5)\n",
    "                                   \n",
    "clf_trained = train_and_evaluate_model(clf, X, y, test_size=0.2, random_state=3928, target_names=[\"edible\", \"poisonous\"])\n",
    "console = Console()\n",
    "console.print(clf_trained.to_rich())\n"
   ]
  },
  {
   "cell_type": "markdown",
   "id": "ddc200e7",
   "metadata": {},
   "source": [
    "#### Przykład wywołania (interaktywny)"
   ]
  },
  {
   "cell_type": "code",
   "execution_count": null,
   "id": "a591caae",
   "metadata": {},
   "outputs": [
    {
     "data": {
      "text/html": [
       "<pre style=\"white-space:pre;overflow-x:auto;line-height:normal;font-family:Menlo,'DejaVu Sans Mono',consolas,'Courier New',monospace\">Accuracy: <span style=\"color: #008080; text-decoration-color: #008080; font-weight: bold\">0.9994</span>\n",
       "</pre>\n"
      ],
      "text/plain": [
       "Accuracy: \u001b[1;36m0.9994\u001b[0m\n"
      ]
     },
     "metadata": {},
     "output_type": "display_data"
    },
    {
     "data": {
      "text/html": [
       "<pre style=\"white-space:pre;overflow-x:auto;line-height:normal;font-family:Menlo,'DejaVu Sans Mono',consolas,'Courier New',monospace\">F1 Score <span style=\"font-weight: bold\">(</span>macro<span style=\"font-weight: bold\">)</span>: <span style=\"color: #008080; text-decoration-color: #008080; font-weight: bold\">0.9994</span>\n",
       "</pre>\n"
      ],
      "text/plain": [
       "F1 Score \u001b[1m(\u001b[0mmacro\u001b[1m)\u001b[0m: \u001b[1;36m0.9994\u001b[0m\n"
      ]
     },
     "metadata": {},
     "output_type": "display_data"
    },
    {
     "data": {
      "text/html": [
       "<pre style=\"white-space:pre;overflow-x:auto;line-height:normal;font-family:Menlo,'DejaVu Sans Mono',consolas,'Courier New',monospace\">F1 Score <span style=\"font-weight: bold\">(</span>micro<span style=\"font-weight: bold\">)</span>: <span style=\"color: #008080; text-decoration-color: #008080; font-weight: bold\">0.9994</span>\n",
       "</pre>\n"
      ],
      "text/plain": [
       "F1 Score \u001b[1m(\u001b[0mmicro\u001b[1m)\u001b[0m: \u001b[1;36m0.9994\u001b[0m\n"
      ]
     },
     "metadata": {},
     "output_type": "display_data"
    },
    {
     "data": {
      "text/html": [
       "<pre style=\"white-space:pre;overflow-x:auto;line-height:normal;font-family:Menlo,'DejaVu Sans Mono',consolas,'Courier New',monospace\">Confusion Matrix:\n",
       "<span style=\"font-weight: bold\">[[</span><span style=\"color: #008080; text-decoration-color: #008080; font-weight: bold\">842</span>   <span style=\"color: #008080; text-decoration-color: #008080; font-weight: bold\">0</span><span style=\"font-weight: bold\">]</span>\n",
       " <span style=\"font-weight: bold\">[</span>  <span style=\"color: #008080; text-decoration-color: #008080; font-weight: bold\">1</span> <span style=\"color: #008080; text-decoration-color: #008080; font-weight: bold\">782</span><span style=\"font-weight: bold\">]]</span>\n",
       "</pre>\n"
      ],
      "text/plain": [
       "Confusion Matrix:\n",
       "\u001b[1m[\u001b[0m\u001b[1m[\u001b[0m\u001b[1;36m842\u001b[0m   \u001b[1;36m0\u001b[0m\u001b[1m]\u001b[0m\n",
       " \u001b[1m[\u001b[0m  \u001b[1;36m1\u001b[0m \u001b[1;36m782\u001b[0m\u001b[1m]\u001b[0m\u001b[1m]\u001b[0m\n"
      ]
     },
     "metadata": {},
     "output_type": "display_data"
    },
    {
     "data": {
      "image/png": "[encoded data removed]",
      "text/plain": [
       "<Figure size 640x480 with 2 Axes>"
      ]
     },
     "metadata": {},
     "output_type": "display_data"
    }
   ],
   "source": [
    "data = fetch_openml(name=\"mushroom\", version=1, as_frame=True)\n",
    "X = data.data\n",
    "y = data.target\n",
    "\n",
    "X = X.apply(LabelEncoder().fit_transform)\n",
    "y = LabelEncoder().fit_transform(y)\n",
    "X_train, X_val, y_train, y_val = train_test_split(\n",
    "    X, y, test_size=0.2, random_state=3131, stratify=y\n",
    ")\n",
    "feature_order = list(range(X.shape[1]))\n",
    "clf = CustomDecisionTreeClassifier(preference_list=feature_order[::-1],\n",
    "                                   similarity_threshold=0.5,\n",
    "                                   max_depth=4,\n",
    "                                   min_samples_split=5,\n",
    "                                   interactive=True,\n",
    "                                   interactive_threshold=0.5)\n",
    "clf.fit(X_train, y_train)\n",
    "evaluate_model(clf, X_val, y_val, target_names=[\"edible\", \"poisonous\"])\n",
    "console = Console()\n",
    "console.print(clf.to_rich())"
   ]
  },
  {
   "cell_type": "markdown",
   "id": "e91aaa8c",
   "metadata": {},
   "source": [
    "# Testy i eksperymenty"
   ]
  },
  {
   "cell_type": "markdown",
   "id": "4b259584",
   "metadata": {},
   "source": [
    "## Zbiory danych"
   ]
  },
  {
   "cell_type": "markdown",
   "id": "399298e2",
   "metadata": {},
   "source": [
    "### Mushroom"
   ]
  },
  {
   "cell_type": "markdown",
   "id": "2481f8a4",
   "metadata": {},
   "source": [
    "#### 0) Podstawowy klasyfikator (brak preferencji)\n"
   ]
  },
  {
   "cell_type": "code",
   "execution_count": null,
   "id": "063e7d4b",
   "metadata": {},
   "outputs": [],
   "source": []
  },
  {
   "cell_type": "markdown",
   "id": "1ef957c4",
   "metadata": {},
   "source": [
    "#### a) Preferowane atrybuty o niewielkiej liczbie wartości"
   ]
  },
  {
   "cell_type": "code",
   "execution_count": null,
   "id": "c0e458f8",
   "metadata": {},
   "outputs": [],
   "source": []
  },
  {
   "cell_type": "markdown",
   "id": "6b9f0604",
   "metadata": {},
   "source": [
    "#### b) Preferowane atrybuty ustalone przez analizę danych"
   ]
  },
  {
   "cell_type": "code",
   "execution_count": null,
   "id": "c4a13c2f",
   "metadata": {},
   "outputs": [],
   "source": []
  },
  {
   "cell_type": "markdown",
   "id": "df321284",
   "metadata": {},
   "source": [
    "#### c) Preferowane atrybuty na podstawie kosztu uzyskania (w domyśle)"
   ]
  },
  {
   "cell_type": "code",
   "execution_count": null,
   "id": "a1e993cd",
   "metadata": {},
   "outputs": [],
   "source": []
  },
  {
   "cell_type": "markdown",
   "id": "d5ee0e99",
   "metadata": {},
   "source": [
    "#### d) Unikanie atrybutów zawierających szum"
   ]
  },
  {
   "cell_type": "code",
   "execution_count": null,
   "id": "ead5af05",
   "metadata": {},
   "outputs": [],
   "source": []
  },
  {
   "cell_type": "markdown",
   "id": "7217c042",
   "metadata": {},
   "source": [
    "#### e) Preferencje na podstawie logicznej istotności"
   ]
  },
  {
   "cell_type": "code",
   "execution_count": null,
   "id": "18d12384",
   "metadata": {},
   "outputs": [],
   "source": []
  },
  {
   "cell_type": "markdown",
   "id": "dd44c8e2",
   "metadata": {},
   "source": [
    "#### Porównanie podejść"
   ]
  },
  {
   "cell_type": "code",
   "execution_count": null,
   "id": "04ab9246",
   "metadata": {},
   "outputs": [],
   "source": []
  },
  {
   "cell_type": "markdown",
   "id": "df804d59",
   "metadata": {},
   "source": [
    "### Wine Quality"
   ]
  },
  {
   "cell_type": "markdown",
   "id": "eea30e95",
   "metadata": {},
   "source": [
    "#### 0) Podstawowy klasyfikator (brak preferencji)\n"
   ]
  },
  {
   "cell_type": "code",
   "execution_count": null,
   "id": "02e58fa8",
   "metadata": {},
   "outputs": [],
   "source": []
  },
  {
   "cell_type": "markdown",
   "id": "770651fa",
   "metadata": {},
   "source": [
    "#### a) Preferowane atrybuty o niewielkiej liczbie wartości"
   ]
  },
  {
   "cell_type": "code",
   "execution_count": null,
   "id": "4ed21ced",
   "metadata": {},
   "outputs": [],
   "source": []
  },
  {
   "cell_type": "markdown",
   "id": "a5439c8f",
   "metadata": {},
   "source": [
    "#### b) Preferowane atrybuty ustalone przez analizę danych"
   ]
  },
  {
   "cell_type": "code",
   "execution_count": null,
   "id": "27ed2707",
   "metadata": {},
   "outputs": [],
   "source": []
  },
  {
   "cell_type": "markdown",
   "id": "667dc6d5",
   "metadata": {},
   "source": [
    "#### c) Preferowane atrybuty na podstawie kosztu uzyskania (w domyśle)"
   ]
  },
  {
   "cell_type": "code",
   "execution_count": null,
   "id": "a5f937cc",
   "metadata": {},
   "outputs": [],
   "source": []
  },
  {
   "cell_type": "markdown",
   "id": "ab919950",
   "metadata": {},
   "source": [
    "#### d) Unikanie atrybutów zawierających szum"
   ]
  },
  {
   "cell_type": "code",
   "execution_count": null,
   "id": "deb47979",
   "metadata": {},
   "outputs": [],
   "source": []
  },
  {
   "cell_type": "markdown",
   "id": "a235cc83",
   "metadata": {},
   "source": [
    "#### e) Preferencje na podstawie logicznej istotności"
   ]
  },
  {
   "cell_type": "code",
   "execution_count": null,
   "id": "bc57275e",
   "metadata": {},
   "outputs": [],
   "source": []
  },
  {
   "cell_type": "markdown",
   "id": "984795f0",
   "metadata": {},
   "source": [
    "#### Porównanie podejść"
   ]
  },
  {
   "cell_type": "code",
   "execution_count": null,
   "id": "eea75cb5",
   "metadata": {},
   "outputs": [],
   "source": []
  },
  {
   "cell_type": "markdown",
   "id": "3515c4c9",
   "metadata": {},
   "source": [
    "### Apartment for Rent Classified"
   ]
  },
  {
   "cell_type": "markdown",
   "id": "d70b2701",
   "metadata": {},
   "source": [
    "#### 0) Podstawowy klasyfikator (brak preferencji)\n"
   ]
  },
  {
   "cell_type": "code",
   "execution_count": null,
   "id": "c2aa8554",
   "metadata": {},
   "outputs": [],
   "source": []
  },
  {
   "cell_type": "markdown",
   "id": "535d97f2",
   "metadata": {},
   "source": [
    "#### a) Preferowane atrybuty o niewielkiej liczbie wartości"
   ]
  },
  {
   "cell_type": "code",
   "execution_count": null,
   "id": "e3b24b0b",
   "metadata": {},
   "outputs": [],
   "source": []
  },
  {
   "cell_type": "markdown",
   "id": "957e6c85",
   "metadata": {},
   "source": [
    "#### b) Preferowane atrybuty ustalone przez analizę danych"
   ]
  },
  {
   "cell_type": "code",
   "execution_count": null,
   "id": "11b84755",
   "metadata": {},
   "outputs": [],
   "source": []
  },
  {
   "cell_type": "markdown",
   "id": "9d1b8095",
   "metadata": {},
   "source": [
    "#### c) Preferowane atrybuty na podstawie kosztu uzyskania (w domyśle)"
   ]
  },
  {
   "cell_type": "code",
   "execution_count": null,
   "id": "762e4c89",
   "metadata": {},
   "outputs": [],
   "source": []
  },
  {
   "cell_type": "markdown",
   "id": "8f1b3501",
   "metadata": {},
   "source": [
    "#### d) Unikanie atrybutów zawierających szum"
   ]
  },
  {
   "cell_type": "code",
   "execution_count": null,
   "id": "f2b463ca",
   "metadata": {},
   "outputs": [],
   "source": []
  },
  {
   "cell_type": "markdown",
   "id": "dceeba37",
   "metadata": {},
   "source": [
    "#### e) Preferencje na podstawie logicznej istotności"
   ]
  },
  {
   "cell_type": "code",
   "execution_count": null,
   "id": "44fb853c",
   "metadata": {},
   "outputs": [],
   "source": []
  },
  {
   "cell_type": "markdown",
   "id": "6013cb55",
   "metadata": {},
   "source": [
    "#### Porównanie podejść"
   ]
  },
  {
   "cell_type": "code",
   "execution_count": null,
   "id": "a5f10ad3",
   "metadata": {},
   "outputs": [],
   "source": []
  },
  {
   "cell_type": "markdown",
   "id": "9924a2a5",
   "metadata": {},
   "source": [
    "### Appliances Energy Prediction"
   ]
  },
  {
   "cell_type": "markdown",
   "id": "fb5a283a",
   "metadata": {},
   "source": [
    "#### 0) Podstawowy klasyfikator (brak preferencji)\n"
   ]
  },
  {
   "cell_type": "code",
   "execution_count": null,
   "id": "738a669a",
   "metadata": {},
   "outputs": [],
   "source": []
  },
  {
   "cell_type": "markdown",
   "id": "b34d97fd",
   "metadata": {},
   "source": [
    "#### a) Preferowane atrybuty o niewielkiej liczbie wartości"
   ]
  },
  {
   "cell_type": "code",
   "execution_count": null,
   "id": "a13df179",
   "metadata": {},
   "outputs": [],
   "source": []
  },
  {
   "cell_type": "markdown",
   "id": "96e444db",
   "metadata": {},
   "source": [
    "#### b) Preferowane atrybuty ustalone przez analizę danych"
   ]
  },
  {
   "cell_type": "code",
   "execution_count": null,
   "id": "e15549c5",
   "metadata": {},
   "outputs": [],
   "source": []
  },
  {
   "cell_type": "markdown",
   "id": "dd187d3a",
   "metadata": {},
   "source": [
    "#### c) Preferowane atrybuty na podstawie kosztu uzyskania (w domyśle)"
   ]
  },
  {
   "cell_type": "code",
   "execution_count": null,
   "id": "63b8522e",
   "metadata": {},
   "outputs": [],
   "source": []
  },
  {
   "cell_type": "markdown",
   "id": "878905a8",
   "metadata": {},
   "source": [
    "#### d) Unikanie atrybutów zawierających szum"
   ]
  },
  {
   "cell_type": "code",
   "execution_count": null,
   "id": "d3e0c6a0",
   "metadata": {},
   "outputs": [],
   "source": []
  },
  {
   "cell_type": "markdown",
   "id": "c48a8767",
   "metadata": {},
   "source": [
    "#### e) Preferencje na podstawie logicznej istotności"
   ]
  },
  {
   "cell_type": "code",
   "execution_count": null,
   "id": "c2bf75df",
   "metadata": {},
   "outputs": [],
   "source": []
  },
  {
   "cell_type": "markdown",
   "id": "4690e62f",
   "metadata": {},
   "source": [
    "#### Porównanie podejść"
   ]
  },
  {
   "cell_type": "code",
   "execution_count": null,
   "id": "f57c1e4f",
   "metadata": {},
   "outputs": [],
   "source": []
  },
  {
   "cell_type": "markdown",
   "id": "15509446",
   "metadata": {},
   "source": [
    "## Porównanie wszystkich podejść"
   ]
  },
  {
   "cell_type": "code",
   "execution_count": null,
   "id": "41b6164a",
   "metadata": {},
   "outputs": [],
   "source": []
  },
  {
   "cell_type": "markdown",
   "id": "bd7125e9",
   "metadata": {},
   "source": [
    "## Wnioski"
   ]
  },
  {
   "cell_type": "markdown",
   "id": "3a5bf33f",
   "metadata": {},
   "source": []
  }
 ],
 "metadata": {
  "kernelspec": {
   "display_name": "zprp",
   "language": "python",
   "name": "python3"
  },
  "language_info": {
   "codemirror_mode": {
    "name": "ipython",
    "version": 3
   },
   "file_extension": ".py",
   "mimetype": "text/x-python",
   "name": "python",
   "nbconvert_exporter": "python",
   "pygments_lexer": "ipython3",
   "version": "3.12.2"
  }
 },
 "nbformat": 4,
 "nbformat_minor": 5
}
